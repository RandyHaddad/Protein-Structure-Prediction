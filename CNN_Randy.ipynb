{
  "cells": [
    {
      "cell_type": "markdown",
      "metadata": {
        "id": "dyub-FIHQwqP"
      },
      "source": [
        "# Introduction & Setup"
      ]
    },
    {
      "cell_type": "markdown",
      "metadata": {
        "id": "Ar8XtLfHREL4"
      },
      "source": [
        "Protein Structure Prediction is an important task in bioinformatics. Proteins are essential molecules in living organisms, and their function is determined by how they fold into 3D structures. The secondary structure prediction task involves predicting the local structure elements of a protein (such as helices, strands, and loops) based on the amino acid sequence.\n",
        "\n",
        "Traditionally, these structures are determined using experimental techniques such as X-ray crystallography or NMR, which are expensive and time-consuming. Deep learning models like Convolutional Neural Networks (CNNs) offer a faster, computational approach to predict these secondary structures (sst3 and sst8) from the primary sequences of amino acids.\n",
        "\n",
        "The goal of this project is to predict two levels of secondary structure from protein sequences:\n",
        "1. **sst3**: Three-state secondary structure classification (helix, strand, coil).\n",
        "2. **sst8**: Eight-state secondary structure classification for more granularity.\n",
        "\n",
        "We will be focusing on CNNs as our deep learning approach to achieve this prediction.\n"
      ]
    },
    {
      "cell_type": "markdown",
      "metadata": {
        "id": "CQ6NADE8R7K7"
      },
      "source": [
        "#### Installation and Imports"
      ]
    },
    {
      "cell_type": "code",
      "execution_count": null,
      "metadata": {
        "colab": {
          "base_uri": "https://localhost:8080/"
        },
        "id": "OFBUS3ZhRKAz",
        "outputId": "f7df22c9-dc00-46c4-f2c8-48b0ae716dff"
      },
      "outputs": [
        {
          "output_type": "stream",
          "name": "stdout",
          "text": [
            "Requirement already satisfied: torch in /usr/local/lib/python3.10/dist-packages (2.5.0+cu121)\n",
            "Requirement already satisfied: torchvision in /usr/local/lib/python3.10/dist-packages (0.20.0+cu121)\n",
            "Requirement already satisfied: torchaudio in /usr/local/lib/python3.10/dist-packages (2.5.0+cu121)\n",
            "Requirement already satisfied: filelock in /usr/local/lib/python3.10/dist-packages (from torch) (3.16.1)\n",
            "Requirement already satisfied: typing-extensions>=4.8.0 in /usr/local/lib/python3.10/dist-packages (from torch) (4.12.2)\n",
            "Requirement already satisfied: networkx in /usr/local/lib/python3.10/dist-packages (from torch) (3.4.2)\n",
            "Requirement already satisfied: jinja2 in /usr/local/lib/python3.10/dist-packages (from torch) (3.1.4)\n",
            "Requirement already satisfied: fsspec in /usr/local/lib/python3.10/dist-packages (from torch) (2024.6.1)\n",
            "Requirement already satisfied: sympy==1.13.1 in /usr/local/lib/python3.10/dist-packages (from torch) (1.13.1)\n",
            "Requirement already satisfied: mpmath<1.4,>=1.1.0 in /usr/local/lib/python3.10/dist-packages (from sympy==1.13.1->torch) (1.3.0)\n",
            "Requirement already satisfied: numpy in /usr/local/lib/python3.10/dist-packages (from torchvision) (1.26.4)\n",
            "Requirement already satisfied: pillow!=8.3.*,>=5.3.0 in /usr/local/lib/python3.10/dist-packages (from torchvision) (10.4.0)\n",
            "Requirement already satisfied: MarkupSafe>=2.0 in /usr/local/lib/python3.10/dist-packages (from jinja2->torch) (3.0.2)\n",
            "Requirement already satisfied: pandas in /usr/local/lib/python3.10/dist-packages (2.2.2)\n",
            "Requirement already satisfied: matplotlib in /usr/local/lib/python3.10/dist-packages (3.7.1)\n",
            "Requirement already satisfied: numpy in /usr/local/lib/python3.10/dist-packages (1.26.4)\n",
            "Requirement already satisfied: scikit-learn in /usr/local/lib/python3.10/dist-packages (1.5.2)\n",
            "Requirement already satisfied: python-dateutil>=2.8.2 in /usr/local/lib/python3.10/dist-packages (from pandas) (2.8.2)\n",
            "Requirement already satisfied: pytz>=2020.1 in /usr/local/lib/python3.10/dist-packages (from pandas) (2024.2)\n",
            "Requirement already satisfied: tzdata>=2022.7 in /usr/local/lib/python3.10/dist-packages (from pandas) (2024.2)\n",
            "Requirement already satisfied: contourpy>=1.0.1 in /usr/local/lib/python3.10/dist-packages (from matplotlib) (1.3.0)\n",
            "Requirement already satisfied: cycler>=0.10 in /usr/local/lib/python3.10/dist-packages (from matplotlib) (0.12.1)\n",
            "Requirement already satisfied: fonttools>=4.22.0 in /usr/local/lib/python3.10/dist-packages (from matplotlib) (4.54.1)\n",
            "Requirement already satisfied: kiwisolver>=1.0.1 in /usr/local/lib/python3.10/dist-packages (from matplotlib) (1.4.7)\n",
            "Requirement already satisfied: packaging>=20.0 in /usr/local/lib/python3.10/dist-packages (from matplotlib) (24.1)\n",
            "Requirement already satisfied: pillow>=6.2.0 in /usr/local/lib/python3.10/dist-packages (from matplotlib) (10.4.0)\n",
            "Requirement already satisfied: pyparsing>=2.3.1 in /usr/local/lib/python3.10/dist-packages (from matplotlib) (3.2.0)\n",
            "Requirement already satisfied: scipy>=1.6.0 in /usr/local/lib/python3.10/dist-packages (from scikit-learn) (1.13.1)\n",
            "Requirement already satisfied: joblib>=1.2.0 in /usr/local/lib/python3.10/dist-packages (from scikit-learn) (1.4.2)\n",
            "Requirement already satisfied: threadpoolctl>=3.1.0 in /usr/local/lib/python3.10/dist-packages (from scikit-learn) (3.5.0)\n",
            "Requirement already satisfied: six>=1.5 in /usr/local/lib/python3.10/dist-packages (from python-dateutil>=2.8.2->pandas) (1.16.0)\n"
          ]
        }
      ],
      "source": [
        "!pip install torch torchvision torchaudio\n",
        "!pip install pandas matplotlib numpy scikit-learn"
      ]
    },
    {
      "cell_type": "code",
      "execution_count": null,
      "metadata": {
        "id": "OSZoOIJhRQ1M"
      },
      "outputs": [],
      "source": [
        "import pandas as pd\n",
        "import matplotlib.pyplot as plt\n",
        "import numpy as np\n",
        "import torch\n",
        "import torch.nn as nn\n",
        "import torch.optim as optim\n",
        "from torch.utils.data import Dataset, DataLoader\n",
        "import torch.nn.functional as F\n",
        "import seaborn as sns\n",
        "import random\n",
        "import os\n",
        "\n",
        "# Set a fixed random seed for reproducibility\n",
        "random_seed = 42  # You can choose any integer\n",
        "\n",
        "# Set seed for Python's random module\n",
        "random.seed(random_seed)\n",
        "\n",
        "# Set seed for NumPy\n",
        "np.random.seed(random_seed)\n",
        "\n",
        "# Set seed for PyTorch (for CPU and GPU)\n",
        "torch.manual_seed(random_seed)\n",
        "if torch.cuda.is_available():\n",
        "    torch.cuda.manual_seed(random_seed)\n",
        "    torch.cuda.manual_seed_all(random_seed)  # For multi-GPU setups"
      ]
    },
    {
      "cell_type": "code",
      "execution_count": null,
      "metadata": {
        "colab": {
          "base_uri": "https://localhost:8080/"
        },
        "id": "xh0vLJkERTfh",
        "outputId": "d4918d6e-6321-44d6-f749-7616dc67cd55"
      },
      "outputs": [
        {
          "output_type": "stream",
          "name": "stdout",
          "text": [
            "Using device: cuda\n"
          ]
        }
      ],
      "source": [
        "device = torch.device('cuda' if torch.cuda.is_available() else 'cpu')\n",
        "print(f'Using device: {device}')"
      ]
    },
    {
      "cell_type": "markdown",
      "metadata": {
        "id": "a5uxKcbcRliS"
      },
      "source": [
        "# Data Loading & Analysis\n"
      ]
    },
    {
      "cell_type": "markdown",
      "metadata": {
        "id": "Jp9oxGlZRyW7"
      },
      "source": [
        "#### Loading and Inspecting the Dataset"
      ]
    },
    {
      "cell_type": "code",
      "execution_count": null,
      "metadata": {
        "id": "QqFW-YrhXKHw",
        "colab": {
          "base_uri": "https://localhost:8080/"
        },
        "outputId": "e7dfdf48-f7cd-45dc-811f-2c8950bce5d8"
      },
      "outputs": [
        {
          "output_type": "stream",
          "name": "stdout",
          "text": [
            "Drive already mounted at /content/drive; to attempt to forcibly remount, call drive.mount(\"/content/drive\", force_remount=True).\n"
          ]
        }
      ],
      "source": [
        "from google.colab import drive\n",
        "drive.mount('/content/drive')"
      ]
    },
    {
      "cell_type": "code",
      "execution_count": null,
      "metadata": {
        "id": "yXK7z6fpRtJ0"
      },
      "outputs": [],
      "source": [
        "file_path = \"/content/drive/My Drive/Neural Networks Project/alfrandom/2018-06-06-pdb-intersect-pisces.csv\"\n",
        "df = pd.read_csv(file_path)"
      ]
    },
    {
      "cell_type": "code",
      "execution_count": null,
      "metadata": {
        "id": "tsvXcABsR4kY",
        "colab": {
          "base_uri": "https://localhost:8080/"
        },
        "outputId": "172cbb5d-6e4c-4e07-f2a6-8742cdec709d"
      },
      "outputs": [
        {
          "output_type": "stream",
          "name": "stdout",
          "text": [
            "First 5 rows of the dataset:\n",
            "  pdb_id chain_code                   seq                  sst8  \\\n",
            "0   1FV1          F  NPVVHFFKNIVTPRTPPPSQ  CCCCCBCCCCCCCCCCCCCC   \n",
            "1   1LM8          H  DLDLEMLAPYIPMDDDFQLR  CCCCCCCCCBCCSCCCEECC   \n",
            "2   1O06          A  EEDPDLKAAIQESLREAEEA  CCCHHHHHHHHHHHHHHHTC   \n",
            "3   1QOW          D  CTFTLPGGGGVCTLTSECI*  CCTTSCTTCSSTTSSTTCCC   \n",
            "4   1RDQ          I  TTYADFIASGRTGRRNAIHD  CHHHHHHTSSCSSCCCCEEC   \n",
            "\n",
            "                   sst3  len  has_nonstd_aa Exptl.  resolution  R-factor  \\\n",
            "0  CCCCCECCCCCCCCCCCCCC   20          False   XRAY        1.90      0.23   \n",
            "1  CCCCCCCCCECCCCCCEECC   20          False   XRAY        1.85      0.20   \n",
            "2  CCCHHHHHHHHHHHHHHHCC   20          False   XRAY        1.45      0.19   \n",
            "3  CCCCCCCCCCCCCCCCCCCC   20           True   XRAY        1.06      0.14   \n",
            "4  CHHHHHHCCCCCCCCCCEEC   20          False   XRAY        1.26      0.13   \n",
            "\n",
            "   FreeRvalue  \n",
            "0        0.27  \n",
            "1        0.24  \n",
            "2        0.22  \n",
            "3        1.00  \n",
            "4        0.16  \n",
            "\n",
            "Column Descriptions:\n",
            "Index(['pdb_id', 'chain_code', 'seq', 'sst8', 'sst3', 'len', 'has_nonstd_aa',\n",
            "       'Exptl.', 'resolution', 'R-factor', 'FreeRvalue'],\n",
            "      dtype='object')\n"
          ]
        }
      ],
      "source": [
        "print(\"First 5 rows of the dataset:\")\n",
        "print(df.head())\n",
        "\n",
        "print(\"\\nColumn Descriptions:\")\n",
        "print(df.columns)"
      ]
    },
    {
      "cell_type": "markdown",
      "metadata": {
        "id": "TzogyxgMXeWC"
      },
      "source": [
        "####Sequence Length Distribution\n"
      ]
    },
    {
      "cell_type": "code",
      "execution_count": null,
      "metadata": {
        "id": "MMSn1UvkYeY8",
        "colab": {
          "base_uri": "https://localhost:8080/"
        },
        "outputId": "333358fa-1241-4885-eea7-611d7200bd8d"
      },
      "outputs": [
        {
          "output_type": "stream",
          "name": "stdout",
          "text": [
            "\n",
            "Descriptive Statistics for Sequence Lengths:\n",
            "count    9078.000000\n",
            "mean      243.168539\n",
            "std       156.566596\n",
            "min        20.000000\n",
            "25%       132.000000\n",
            "50%       208.000000\n",
            "75%       323.000000\n",
            "max      1632.000000\n",
            "Name: len, dtype: float64\n"
          ]
        },
        {
          "output_type": "display_data",
          "data": {
            "text/plain": [
              "<Figure size 600x400 with 1 Axes>"
            ],
            "image/png": "[encoded data removed]"
          },
          "metadata": {}
        }
      ],
      "source": [
        "# Descriptive statistics for sequence lengths\n",
        "sequence_lengths = df['len']\n",
        "print(\"\\nDescriptive Statistics for Sequence Lengths:\")\n",
        "print(sequence_lengths.describe())\n",
        "\n",
        "# Visualizing the distribution with descriptive statistics\n",
        "plt.figure(figsize=(6, 4))\n",
        "sns.histplot(sequence_lengths, bins=30, kde=True, color='green')\n",
        "plt.title('Distribution of Sequence Lengths')\n",
        "plt.xlabel('Sequence Length')\n",
        "plt.ylabel('Frequency')\n",
        "plt.axvline(sequence_lengths.mean(), color='r', linestyle='--', label=f'Mean: {sequence_lengths.mean():.2f}')\n",
        "plt.axvline(sequence_lengths.median(), color='b', linestyle='--', label=f'Median: {sequence_lengths.median():.2f}')\n",
        "plt.legend()\n",
        "plt.show()\n",
        "\n"
      ]
    },
    {
      "cell_type": "markdown",
      "metadata": {
        "id": "RFlhBex8dxzO"
      },
      "source": [
        "The data is skewed towards the left. The difference between the 3rd quartile & the mode is 1,309 - almost 80% of the data range. As a result, we can experiment with three different preprocessing techniques:\n",
        "*   Drop out all data with lengths above $\\mu + 2\\sigma = 556$\n",
        "\n",
        "*   Cropping & padding all data to 208 (Median), 323 (Q3), 556 ($\\mu + 2\\sigma$)\n",
        "\n",
        "*   Keep all data & pad appropriately\n",
        "\n"
      ]
    },
    {
      "cell_type": "code",
      "execution_count": null,
      "metadata": {
        "id": "5TittPFfH2A4",
        "colab": {
          "base_uri": "https://localhost:8080/"
        },
        "outputId": "b857f1b8-3688-4bde-faad-6360724533f9"
      },
      "outputs": [
        {
          "output_type": "stream",
          "name": "stdout",
          "text": [
            "\n",
            "Amino Acid Distribution in Sequences:\n",
            "   Amino Acid   Count\n",
            "0           L  201119\n",
            "1           A  182067\n",
            "2           G  161595\n",
            "3           V  149918\n",
            "4           E  146926\n",
            "5           S  138543\n",
            "6           D  131027\n",
            "7           K  124431\n",
            "8           I  121770\n",
            "9           T  119745\n",
            "10          R  112160\n",
            "11          P  101815\n",
            "12          N   95123\n",
            "13          F   88481\n",
            "14          Q   83134\n",
            "15          Y   77474\n",
            "16          H   63624\n",
            "17          M   50765\n",
            "18          W   31398\n",
            "19          C   26213\n",
            "20          *     156\n"
          ]
        },
        {
          "output_type": "stream",
          "name": "stderr",
          "text": [
            "<ipython-input-122-9901fb5726bc>:14: FutureWarning: \n",
            "\n",
            "Passing `palette` without assigning `hue` is deprecated and will be removed in v0.14.0. Assign the `x` variable to `hue` and set `legend=False` for the same effect.\n",
            "\n",
            "  sns.barplot(x='Amino Acid', y='Count', data=amino_acid_counts, palette='coolwarm')\n"
          ]
        },
        {
          "output_type": "display_data",
          "data": {
            "text/plain": [
              "<Figure size 1000x600 with 1 Axes>"
            ],
            "image/png": "[encoded data removed]"
          },
          "metadata": {}
        },
        {
          "output_type": "stream",
          "name": "stdout",
          "text": [
            "\n",
            "Distribution of Secondary Structure Letters (sst3):\n",
            "  sst3 Structure   Count\n",
            "0              C  938709\n",
            "1              H  779825\n",
            "2              E  488950\n"
          ]
        },
        {
          "output_type": "stream",
          "name": "stderr",
          "text": [
            "<ipython-input-122-9901fb5726bc>:32: FutureWarning: \n",
            "\n",
            "Passing `palette` without assigning `hue` is deprecated and will be removed in v0.14.0. Assign the `x` variable to `hue` and set `legend=False` for the same effect.\n",
            "\n",
            "  sns.barplot(x='sst3 Structure', y='Count', data=sst3_counts, palette='coolwarm')\n"
          ]
        },
        {
          "output_type": "display_data",
          "data": {
            "text/plain": [
              "<Figure size 800x500 with 1 Axes>"
            ],
            "image/png": "[encoded data removed]"
          },
          "metadata": {}
        },
        {
          "output_type": "stream",
          "name": "stdout",
          "text": [
            "\n",
            "Distribution of Secondary Structure Letters (sst8):\n",
            "  sst8 Structure   Count\n",
            "0              H  696467\n",
            "1              C  533636\n",
            "2              E  465769\n",
            "3              T  234594\n",
            "4              S  170479\n",
            "5              G   82972\n",
            "6              B   23181\n",
            "7              I     386\n"
          ]
        },
        {
          "output_type": "stream",
          "name": "stderr",
          "text": [
            "<ipython-input-122-9901fb5726bc>:50: FutureWarning: \n",
            "\n",
            "Passing `palette` without assigning `hue` is deprecated and will be removed in v0.14.0. Assign the `x` variable to `hue` and set `legend=False` for the same effect.\n",
            "\n",
            "  sns.barplot(x='sst8 Structure', y='Count', data=sst8_counts, palette='coolwarm')\n"
          ]
        },
        {
          "output_type": "display_data",
          "data": {
            "text/plain": [
              "<Figure size 1000x600 with 1 Axes>"
            ],
            "image/png": "[encoded data removed]"
          },
          "metadata": {}
        }
      ],
      "source": [
        "# 2.3 Class Distribution Analysis - Fixed Version\n",
        "\n",
        "# Amino Acid Distribution Table - Splitting all sequences into individual amino acids\n",
        "amino_acid_series = pd.Series(list(''.join(df['seq'])))\n",
        "amino_acid_counts = amino_acid_series.value_counts().reset_index()\n",
        "amino_acid_counts.columns = ['Amino Acid', 'Count']\n",
        "\n",
        "# Displaying the table with the amino acid counts\n",
        "print(\"\\nAmino Acid Distribution in Sequences:\")\n",
        "print(amino_acid_counts)\n",
        "\n",
        "# Plotting the amino acid distribution (no limit on data size)\n",
        "plt.figure(figsize=(10, 6))\n",
        "sns.barplot(x='Amino Acid', y='Count', data=amino_acid_counts, palette='coolwarm')\n",
        "plt.title('Distribution of Amino Acids in Protein Sequences')\n",
        "plt.xlabel('Amino Acids')\n",
        "plt.ylabel('Frequency')\n",
        "plt.xticks(rotation=90)\n",
        "plt.show()\n",
        "\n",
        "# sst3 Structure Distribution Table\n",
        "sst3_series = pd.Series(list(''.join(df['sst3'])))\n",
        "sst3_counts = sst3_series.value_counts().reset_index()\n",
        "sst3_counts.columns = ['sst3 Structure', 'Count']\n",
        "\n",
        "# Displaying the table with sst3 counts\n",
        "print(\"\\nDistribution of Secondary Structure Letters (sst3):\")\n",
        "print(sst3_counts)\n",
        "\n",
        "# Plotting the sst3 structure letter distribution\n",
        "plt.figure(figsize=(8, 5))\n",
        "sns.barplot(x='sst3 Structure', y='Count', data=sst3_counts, palette='coolwarm')\n",
        "plt.title('Distribution of Secondary Structure (sst3)')\n",
        "plt.xlabel('Secondary Structure Types (sst3)')\n",
        "plt.ylabel('Frequency')\n",
        "plt.xticks(rotation=90)\n",
        "plt.show()\n",
        "\n",
        "# sst8 Structure Distribution Table\n",
        "sst8_series = pd.Series(list(''.join(df['sst8'])))\n",
        "sst8_counts = sst8_series.value_counts().reset_index()\n",
        "sst8_counts.columns = ['sst8 Structure', 'Count']\n",
        "\n",
        "# Displaying the table with sst8 counts\n",
        "print(\"\\nDistribution of Secondary Structure Letters (sst8):\")\n",
        "print(sst8_counts)\n",
        "\n",
        "# Plotting the sst8 structure letter distribution\n",
        "plt.figure(figsize=(10, 6))\n",
        "sns.barplot(x='sst8 Structure', y='Count', data=sst8_counts, palette='coolwarm')\n",
        "plt.title('Distribution of Secondary Structure (sst8)')\n",
        "plt.xlabel('Secondary Structure Types (sst8)')\n",
        "plt.ylabel('Frequency')\n",
        "plt.xticks(rotation=90)\n",
        "plt.show()\n"
      ]
    },
    {
      "cell_type": "markdown",
      "metadata": {
        "id": "YlQwj-CZOKpZ"
      },
      "source": [
        "There is clearly class imbalance between the different amino-acids, and secondary structures. As a result, we will proceed with the following approaches:\n",
        "\n",
        "\n",
        "*   List item\n",
        "*   List item\n",
        "\n"
      ]
    },
    {
      "cell_type": "markdown",
      "metadata": {
        "id": "AKLFbHhzeWVh"
      },
      "source": [
        "\n",
        "#Data Preprocessing"
      ]
    },
    {
      "cell_type": "markdown",
      "metadata": {
        "id": "16cHXXCJRimR"
      },
      "source": [
        "#### Pre-processing Parameters"
      ]
    },
    {
      "cell_type": "code",
      "execution_count": null,
      "metadata": {
        "id": "dduLx6EbRo3X"
      },
      "outputs": [],
      "source": [
        "\n",
        "# 1. Set the cutoff length for filtering sequences based on user-defined or data-driven values.\n",
        "# The default value is the maximum sequence length in the dataset, but this can be adjusted by the user.\n",
        "cutoff_length = 132  # Default is the max sequence length in the data\n",
        "\n",
        "# 2. Define the padding/cropping length for sequences.\n",
        "# The initial value is set to the maximum sequence length, but it can be varied.\n",
        "padding_length = cutoff_length  # Default padding length\n",
        "\n",
        "# 3. Boolean parameter to determine whether to filter out sequences containing non-standard amino acids.\n",
        "# True indicates filtering out non-standard amino acids, while False keeps them.\n",
        "filter_non_standard = False  # Default value is True (filter out non-standard amino acids)\n",
        "\n",
        "# 4. Embedding method for encoding the protein sequences.\n",
        "# Options: \"one_hot\" for one-hot encoding, \"learnable\" for learnable embeddings, \"ProtBERT\" or \"TAPE\" for pretrained embeddings.\n",
        "embedding_method = \"one_hot\"  # Default embedding method\n",
        "\n"
      ]
    },
    {
      "cell_type": "markdown",
      "metadata": {
        "id": "NtOllYiBuQuY"
      },
      "source": [
        "#### Filtering, Cropping, Padding & Encoding\n"
      ]
    },
    {
      "cell_type": "code",
      "execution_count": null,
      "metadata": {
        "id": "xt1iuzAseY64",
        "colab": {
          "base_uri": "https://localhost:8080/",
          "height": 362
        },
        "outputId": "d88d7c16-55fa-42b7-b916-d81fdc0885e0"
      },
      "outputs": [
        {
          "output_type": "stream",
          "name": "stdout",
          "text": [
            "Number of sequences with missing 'sst3': 0\n",
            "Number of sequences where 'seq' and 'sst3' lengths do not match: 0\n",
            "Number of sequences before preprocessing: 9078\n",
            "Number of sequences after preprocessing: 2292\n"
          ]
        },
        {
          "output_type": "execute_result",
          "data": {
            "text/plain": [
              "  chain_code                                               sst3  \\\n",
              "0          F  CCCCCECCCCCCCCCCCCCC.............................   \n",
              "1          H  CCCCCCCCCECCCCCCEECC.............................   \n",
              "2          A  CCCHHHHHHHHHHHHHHHCC.............................   \n",
              "3          D  CCCCCCCCCCCCCCCCCCCC.............................   \n",
              "4          I  CHHHHHHCCCCCCCCCCEEC.............................   \n",
              "\n",
              "                                                sst8  \\\n",
              "0  CCCCCBCCCCCCCCCCCCCC.............................   \n",
              "1  CCCCCCCCCBCCSCCCEECC.............................   \n",
              "2  CCCHHHHHHHHHHHHHHHTC.............................   \n",
              "3  CCTTSCTTCSSTTSSTTCCC.............................   \n",
              "4  CHHHHHHTSSCSSCCCCEEC.............................   \n",
              "\n",
              "                                         encoded_seq  \\\n",
              "0  [13, 14, 19, 19, 8, 6, 6, 10, 13, 9, 19, 18, 1...   \n",
              "1  [4, 11, 4, 11, 5, 12, 11, 2, 14, 21, 9, 14, 12...   \n",
              "2  [5, 5, 4, 14, 4, 11, 10, 2, 2, 9, 15, 5, 17, 1...   \n",
              "3  [3, 18, 6, 18, 11, 14, 7, 7, 7, 7, 19, 3, 18, ...   \n",
              "4  [18, 18, 21, 2, 4, 6, 9, 2, 17, 7, 16, 18, 7, ...   \n",
              "\n",
              "                                        encoded_sst3  \\\n",
              "0  [0, 0, 0, 0, 0, 1, 0, 0, 0, 0, 0, 0, 0, 0, 0, ...   \n",
              "1  [0, 0, 0, 0, 0, 0, 0, 0, 0, 1, 0, 0, 0, 0, 0, ...   \n",
              "2  [0, 0, 0, 2, 2, 2, 2, 2, 2, 2, 2, 2, 2, 2, 2, ...   \n",
              "3  [0, 0, 0, 0, 0, 0, 0, 0, 0, 0, 0, 0, 0, 0, 0, ...   \n",
              "4  [0, 2, 2, 2, 2, 2, 2, 0, 0, 0, 0, 0, 0, 0, 0, ...   \n",
              "\n",
              "                                        encoded_sst8  \n",
              "0  [2, 2, 2, 2, 2, 1, 2, 2, 2, 2, 2, 2, 2, 2, 2, ...  \n",
              "1  [2, 2, 2, 2, 2, 2, 2, 2, 2, 1, 2, 2, 7, 2, 2, ...  \n",
              "2  [2, 2, 2, 5, 5, 5, 5, 5, 5, 5, 5, 5, 5, 5, 5, ...  \n",
              "3  [2, 2, 8, 8, 7, 2, 8, 8, 2, 7, 7, 8, 8, 7, 7, ...  \n",
              "4  [2, 5, 5, 5, 5, 5, 5, 8, 7, 7, 2, 7, 7, 2, 2, ...  "
            ],
            "text/html": [
              "\n",
              "  <div id=\"df-2208a31d-a562-4f8a-962d-a9682b92222d\" class=\"colab-df-container\">\n",
              "    <div>\n",
              "<style scoped>\n",
              "    .dataframe tbody tr th:only-of-type {\n",
              "        vertical-align: middle;\n",
              "    }\n",
              "\n",
              "    .dataframe tbody tr th {\n",
              "        vertical-align: top;\n",
              "    }\n",
              "\n",
              "    .dataframe thead th {\n",
              "        text-align: right;\n",
              "    }\n",
              "</style>\n",
              "<table border=\"1\" class=\"dataframe\">\n",
              "  <thead>\n",
              "    <tr style=\"text-align: right;\">\n",
              "      <th></th>\n",
              "      <th>chain_code</th>\n",
              "      <th>sst3</th>\n",
              "      <th>sst8</th>\n",
              "      <th>encoded_seq</th>\n",
              "      <th>encoded_sst3</th>\n",
              "      <th>encoded_sst8</th>\n",
              "    </tr>\n",
              "  </thead>\n",
              "  <tbody>\n",
              "    <tr>\n",
              "      <th>0</th>\n",
              "      <td>F</td>\n",
              "      <td>CCCCCECCCCCCCCCCCCCC.............................</td>\n",
              "      <td>CCCCCBCCCCCCCCCCCCCC.............................</td>\n",
              "      <td>[13, 14, 19, 19, 8, 6, 6, 10, 13, 9, 19, 18, 1...</td>\n",
              "      <td>[0, 0, 0, 0, 0, 1, 0, 0, 0, 0, 0, 0, 0, 0, 0, ...</td>\n",
              "      <td>[2, 2, 2, 2, 2, 1, 2, 2, 2, 2, 2, 2, 2, 2, 2, ...</td>\n",
              "    </tr>\n",
              "    <tr>\n",
              "      <th>1</th>\n",
              "      <td>H</td>\n",
              "      <td>CCCCCCCCCECCCCCCEECC.............................</td>\n",
              "      <td>CCCCCCCCCBCCSCCCEECC.............................</td>\n",
              "      <td>[4, 11, 4, 11, 5, 12, 11, 2, 14, 21, 9, 14, 12...</td>\n",
              "      <td>[0, 0, 0, 0, 0, 0, 0, 0, 0, 1, 0, 0, 0, 0, 0, ...</td>\n",
              "      <td>[2, 2, 2, 2, 2, 2, 2, 2, 2, 1, 2, 2, 7, 2, 2, ...</td>\n",
              "    </tr>\n",
              "    <tr>\n",
              "      <th>2</th>\n",
              "      <td>A</td>\n",
              "      <td>CCCHHHHHHHHHHHHHHHCC.............................</td>\n",
              "      <td>CCCHHHHHHHHHHHHHHHTC.............................</td>\n",
              "      <td>[5, 5, 4, 14, 4, 11, 10, 2, 2, 9, 15, 5, 17, 1...</td>\n",
              "      <td>[0, 0, 0, 2, 2, 2, 2, 2, 2, 2, 2, 2, 2, 2, 2, ...</td>\n",
              "      <td>[2, 2, 2, 5, 5, 5, 5, 5, 5, 5, 5, 5, 5, 5, 5, ...</td>\n",
              "    </tr>\n",
              "    <tr>\n",
              "      <th>3</th>\n",
              "      <td>D</td>\n",
              "      <td>CCCCCCCCCCCCCCCCCCCC.............................</td>\n",
              "      <td>CCTTSCTTCSSTTSSTTCCC.............................</td>\n",
              "      <td>[3, 18, 6, 18, 11, 14, 7, 7, 7, 7, 19, 3, 18, ...</td>\n",
              "      <td>[0, 0, 0, 0, 0, 0, 0, 0, 0, 0, 0, 0, 0, 0, 0, ...</td>\n",
              "      <td>[2, 2, 8, 8, 7, 2, 8, 8, 2, 7, 7, 8, 8, 7, 7, ...</td>\n",
              "    </tr>\n",
              "    <tr>\n",
              "      <th>4</th>\n",
              "      <td>I</td>\n",
              "      <td>CHHHHHHCCCCCCCCCCEEC.............................</td>\n",
              "      <td>CHHHHHHTSSCSSCCCCEEC.............................</td>\n",
              "      <td>[18, 18, 21, 2, 4, 6, 9, 2, 17, 7, 16, 18, 7, ...</td>\n",
              "      <td>[0, 2, 2, 2, 2, 2, 2, 0, 0, 0, 0, 0, 0, 0, 0, ...</td>\n",
              "      <td>[2, 5, 5, 5, 5, 5, 5, 8, 7, 7, 2, 7, 7, 2, 2, ...</td>\n",
              "    </tr>\n",
              "  </tbody>\n",
              "</table>\n",
              "</div>\n",
              "    <div class=\"colab-df-buttons\">\n",
              "\n",
              "  <div class=\"colab-df-container\">\n",
              "    <button class=\"colab-df-convert\" onclick=\"convertToInteractive('df-2208a31d-a562-4f8a-962d-a9682b92222d')\"\n",
              "            title=\"Convert this dataframe to an interactive table.\"\n",
              "            style=\"display:none;\">\n",
              "\n",
              "  <svg xmlns=\"http://www.w3.org/2000/svg\" height=\"24px\" viewBox=\"0 -960 960 960\">\n",
              "    <path d=\"M120-120v-720h720v720H120Zm60-500h600v-160H180v160Zm220 220h160v-160H400v160Zm0 220h160v-160H400v160ZM180-400h160v-160H180v160Zm440 0h160v-160H620v160ZM180-180h160v-160H180v160Zm440 0h160v-160H620v160Z\"/>\n",
              "  </svg>\n",
              "    </button>\n",
              "\n",
              "  <style>\n",
              "    .colab-df-container {\n",
              "      display:flex;\n",
              "      gap: 12px;\n",
              "    }\n",
              "\n",
              "    .colab-df-convert {\n",
              "      background-color: #E8F0FE;\n",
              "      border: none;\n",
              "      border-radius: 50%;\n",
              "      cursor: pointer;\n",
              "      display: none;\n",
              "      fill: #1967D2;\n",
              "      height: 32px;\n",
              "      padding: 0 0 0 0;\n",
              "      width: 32px;\n",
              "    }\n",
              "\n",
              "    .colab-df-convert:hover {\n",
              "      background-color: #E2EBFA;\n",
              "      box-shadow: 0px 1px 2px rgba(60, 64, 67, 0.3), 0px 1px 3px 1px rgba(60, 64, 67, 0.15);\n",
              "      fill: #174EA6;\n",
              "    }\n",
              "\n",
              "    .colab-df-buttons div {\n",
              "      margin-bottom: 4px;\n",
              "    }\n",
              "\n",
              "    [theme=dark] .colab-df-convert {\n",
              "      background-color: #3B4455;\n",
              "      fill: #D2E3FC;\n",
              "    }\n",
              "\n",
              "    [theme=dark] .colab-df-convert:hover {\n",
              "      background-color: #434B5C;\n",
              "      box-shadow: 0px 1px 3px 1px rgba(0, 0, 0, 0.15);\n",
              "      filter: drop-shadow(0px 1px 2px rgba(0, 0, 0, 0.3));\n",
              "      fill: #FFFFFF;\n",
              "    }\n",
              "  </style>\n",
              "\n",
              "    <script>\n",
              "      const buttonEl =\n",
              "        document.querySelector('#df-2208a31d-a562-4f8a-962d-a9682b92222d button.colab-df-convert');\n",
              "      buttonEl.style.display =\n",
              "        google.colab.kernel.accessAllowed ? 'block' : 'none';\n",
              "\n",
              "      async function convertToInteractive(key) {\n",
              "        const element = document.querySelector('#df-2208a31d-a562-4f8a-962d-a9682b92222d');\n",
              "        const dataTable =\n",
              "          await google.colab.kernel.invokeFunction('convertToInteractive',\n",
              "                                                    [key], {});\n",
              "        if (!dataTable) return;\n",
              "\n",
              "        const docLinkHtml = 'Like what you see? Visit the ' +\n",
              "          '<a target=\"_blank\" href=https://colab.research.google.com/notebooks/data_table.ipynb>data table notebook</a>'\n",
              "          + ' to learn more about interactive tables.';\n",
              "        element.innerHTML = '';\n",
              "        dataTable['output_type'] = 'display_data';\n",
              "        await google.colab.output.renderOutput(dataTable, element);\n",
              "        const docLink = document.createElement('div');\n",
              "        docLink.innerHTML = docLinkHtml;\n",
              "        element.appendChild(docLink);\n",
              "      }\n",
              "    </script>\n",
              "  </div>\n",
              "\n",
              "\n",
              "<div id=\"df-ef704f61-83ce-4a84-b9aa-784a614cc0f3\">\n",
              "  <button class=\"colab-df-quickchart\" onclick=\"quickchart('df-ef704f61-83ce-4a84-b9aa-784a614cc0f3')\"\n",
              "            title=\"Suggest charts\"\n",
              "            style=\"display:none;\">\n",
              "\n",
              "<svg xmlns=\"http://www.w3.org/2000/svg\" height=\"24px\"viewBox=\"0 0 24 24\"\n",
              "     width=\"24px\">\n",
              "    <g>\n",
              "        <path d=\"M19 3H5c-1.1 0-2 .9-2 2v14c0 1.1.9 2 2 2h14c1.1 0 2-.9 2-2V5c0-1.1-.9-2-2-2zM9 17H7v-7h2v7zm4 0h-2V7h2v10zm4 0h-2v-4h2v4z\"/>\n",
              "    </g>\n",
              "</svg>\n",
              "  </button>\n",
              "\n",
              "<style>\n",
              "  .colab-df-quickchart {\n",
              "      --bg-color: #E8F0FE;\n",
              "      --fill-color: #1967D2;\n",
              "      --hover-bg-color: #E2EBFA;\n",
              "      --hover-fill-color: #174EA6;\n",
              "      --disabled-fill-color: #AAA;\n",
              "      --disabled-bg-color: #DDD;\n",
              "  }\n",
              "\n",
              "  [theme=dark] .colab-df-quickchart {\n",
              "      --bg-color: #3B4455;\n",
              "      --fill-color: #D2E3FC;\n",
              "      --hover-bg-color: #434B5C;\n",
              "      --hover-fill-color: #FFFFFF;\n",
              "      --disabled-bg-color: #3B4455;\n",
              "      --disabled-fill-color: #666;\n",
              "  }\n",
              "\n",
              "  .colab-df-quickchart {\n",
              "    background-color: var(--bg-color);\n",
              "    border: none;\n",
              "    border-radius: 50%;\n",
              "    cursor: pointer;\n",
              "    display: none;\n",
              "    fill: var(--fill-color);\n",
              "    height: 32px;\n",
              "    padding: 0;\n",
              "    width: 32px;\n",
              "  }\n",
              "\n",
              "  .colab-df-quickchart:hover {\n",
              "    background-color: var(--hover-bg-color);\n",
              "    box-shadow: 0 1px 2px rgba(60, 64, 67, 0.3), 0 1px 3px 1px rgba(60, 64, 67, 0.15);\n",
              "    fill: var(--button-hover-fill-color);\n",
              "  }\n",
              "\n",
              "  .colab-df-quickchart-complete:disabled,\n",
              "  .colab-df-quickchart-complete:disabled:hover {\n",
              "    background-color: var(--disabled-bg-color);\n",
              "    fill: var(--disabled-fill-color);\n",
              "    box-shadow: none;\n",
              "  }\n",
              "\n",
              "  .colab-df-spinner {\n",
              "    border: 2px solid var(--fill-color);\n",
              "    border-color: transparent;\n",
              "    border-bottom-color: var(--fill-color);\n",
              "    animation:\n",
              "      spin 1s steps(1) infinite;\n",
              "  }\n",
              "\n",
              "  @keyframes spin {\n",
              "    0% {\n",
              "      border-color: transparent;\n",
              "      border-bottom-color: var(--fill-color);\n",
              "      border-left-color: var(--fill-color);\n",
              "    }\n",
              "    20% {\n",
              "      border-color: transparent;\n",
              "      border-left-color: var(--fill-color);\n",
              "      border-top-color: var(--fill-color);\n",
              "    }\n",
              "    30% {\n",
              "      border-color: transparent;\n",
              "      border-left-color: var(--fill-color);\n",
              "      border-top-color: var(--fill-color);\n",
              "      border-right-color: var(--fill-color);\n",
              "    }\n",
              "    40% {\n",
              "      border-color: transparent;\n",
              "      border-right-color: var(--fill-color);\n",
              "      border-top-color: var(--fill-color);\n",
              "    }\n",
              "    60% {\n",
              "      border-color: transparent;\n",
              "      border-right-color: var(--fill-color);\n",
              "    }\n",
              "    80% {\n",
              "      border-color: transparent;\n",
              "      border-right-color: var(--fill-color);\n",
              "      border-bottom-color: var(--fill-color);\n",
              "    }\n",
              "    90% {\n",
              "      border-color: transparent;\n",
              "      border-bottom-color: var(--fill-color);\n",
              "    }\n",
              "  }\n",
              "</style>\n",
              "\n",
              "  <script>\n",
              "    async function quickchart(key) {\n",
              "      const quickchartButtonEl =\n",
              "        document.querySelector('#' + key + ' button');\n",
              "      quickchartButtonEl.disabled = true;  // To prevent multiple clicks.\n",
              "      quickchartButtonEl.classList.add('colab-df-spinner');\n",
              "      try {\n",
              "        const charts = await google.colab.kernel.invokeFunction(\n",
              "            'suggestCharts', [key], {});\n",
              "      } catch (error) {\n",
              "        console.error('Error during call to suggestCharts:', error);\n",
              "      }\n",
              "      quickchartButtonEl.classList.remove('colab-df-spinner');\n",
              "      quickchartButtonEl.classList.add('colab-df-quickchart-complete');\n",
              "    }\n",
              "    (() => {\n",
              "      let quickchartButtonEl =\n",
              "        document.querySelector('#df-ef704f61-83ce-4a84-b9aa-784a614cc0f3 button');\n",
              "      quickchartButtonEl.style.display =\n",
              "        google.colab.kernel.accessAllowed ? 'block' : 'none';\n",
              "    })();\n",
              "  </script>\n",
              "</div>\n",
              "\n",
              "    </div>\n",
              "  </div>\n"
            ],
            "application/vnd.google.colaboratory.intrinsic+json": {
              "type": "dataframe",
              "summary": "{\n  \"name\": \"df_preprocessed[['chain_code', 'sst3', 'sst8', 'encoded_seq', 'encoded_sst3', 'encoded_sst8']]\",\n  \"rows\": 5,\n  \"fields\": [\n    {\n      \"column\": \"chain_code\",\n      \"properties\": {\n        \"dtype\": \"string\",\n        \"num_unique_values\": 5,\n        \"samples\": [\n          \"H\",\n          \"I\",\n          \"A\"\n        ],\n        \"semantic_type\": \"\",\n        \"description\": \"\"\n      }\n    },\n    {\n      \"column\": \"sst3\",\n      \"properties\": {\n        \"dtype\": \"string\",\n        \"num_unique_values\": 5,\n        \"samples\": [\n          \"CCCCCCCCCECCCCCCEECC................................................................................................................\",\n          \"CHHHHHHCCCCCCCCCCEEC................................................................................................................\",\n          \"CCCHHHHHHHHHHHHHHHCC................................................................................................................\"\n        ],\n        \"semantic_type\": \"\",\n        \"description\": \"\"\n      }\n    },\n    {\n      \"column\": \"sst8\",\n      \"properties\": {\n        \"dtype\": \"string\",\n        \"num_unique_values\": 5,\n        \"samples\": [\n          \"CCCCCCCCCBCCSCCCEECC................................................................................................................\",\n          \"CHHHHHHTSSCSSCCCCEEC................................................................................................................\",\n          \"CCCHHHHHHHHHHHHHHHTC................................................................................................................\"\n        ],\n        \"semantic_type\": \"\",\n        \"description\": \"\"\n      }\n    },\n    {\n      \"column\": \"encoded_seq\",\n      \"properties\": {\n        \"dtype\": \"object\",\n        \"semantic_type\": \"\",\n        \"description\": \"\"\n      }\n    },\n    {\n      \"column\": \"encoded_sst3\",\n      \"properties\": {\n        \"dtype\": \"object\",\n        \"semantic_type\": \"\",\n        \"description\": \"\"\n      }\n    },\n    {\n      \"column\": \"encoded_sst8\",\n      \"properties\": {\n        \"dtype\": \"object\",\n        \"semantic_type\": \"\",\n        \"description\": \"\"\n      }\n    }\n  ]\n}"
            }
          },
          "metadata": {},
          "execution_count": 124
        }
      ],
      "source": [
        "sst3_vocab = sorted(set([char for sst in df['sst3'] for char in sst]))\n",
        "q3_stoi = {char: i for i, char in enumerate(sst3_vocab)}\n",
        "q3_itos = {i: char for char, i in q3_stoi.items()}\n",
        "\n",
        "# For sst8\n",
        "sst8_vocab = sorted(set([char for sst in df['sst8'] for char in sst] + ['.']))\n",
        "q8_stoi = {char: i for i, char in enumerate(sst8_vocab)}\n",
        "q8_itos = {i: str(j) for i, j in enumerate(sst8_vocab)}\n",
        "\n",
        "seq_vocab = sorted(set([char for seq in df['seq'] for char in seq] + ['.']))\n",
        "seq_stoi = {char: i for i, char in enumerate(seq_vocab)}\n",
        "padding_idx = seq_stoi['.']  # The index assigned to the padding character in input sequences\n",
        "seq_itos = {i: str(j) for i, j in enumerate(seq_vocab)}\n",
        "\n",
        "\n",
        "# Preprocessing function\n",
        "def preprocess_data(df, cutoff_length, padding_length, filter_non_standard, embedding_method):\n",
        "    \"\"\"\n",
        "    Preprocess the data according to user-defined parameters.\n",
        "    Args:\n",
        "    - df (DataFrame): Original dataset.\n",
        "    - cutoff_length (int): Cutoff sequence length. Only sequences with a length <= cutoff_length are kept.\n",
        "    - padding_length (int): Length to which sequences will be padded or cropped.\n",
        "    - filter_non_standard (bool): If True, sequences with non-standard amino acids will be filtered out.\n",
        "    - embedding_method (str): Embedding method to use ('one_hot', 'learnable', 'ProtBERT', 'TAPE').\n",
        "    Returns:\n",
        "    - Processed DataFrame.\n",
        "    \"\"\"\n",
        "    # Step 1: Remove sequences with missing 'seq' or 'sst3'\n",
        "    df_filtered = df.dropna(subset=['seq', 'sst3'])\n",
        "\n",
        "    # Step 2: Filter out sequences where 'seq' and 'sst3' lengths do not match\n",
        "    df_filtered = df_filtered[df_filtered['seq'].str.len() == df_filtered['sst3'].str.len()]\n",
        "\n",
        "    # Step 3: Filter out sequences based on cutoff length\n",
        "    df_filtered = df_filtered[df_filtered['len'] <= cutoff_length]\n",
        "\n",
        "    # Step 4: Optionally filter out sequences with non-standard amino acids\n",
        "    if filter_non_standard:\n",
        "        df_filtered = df_filtered[df_filtered['has_nonstd_aa'] == False]\n",
        "\n",
        "    # Step 5: Padding and Cropping Sequences to the specified length (padding_length)\n",
        "    def pad_or_crop_sequence(seq, target_len):\n",
        "        if len(seq) < target_len:\n",
        "            return seq + '.' * (target_len - len(seq))  # Pad with dots for sequences shorter than target_len\n",
        "        else:\n",
        "            return seq[:target_len]  # Crop for sequences longer than target_len\n",
        "\n",
        "    df_filtered['seq'] = df_filtered['seq'].apply(lambda x: pad_or_crop_sequence(x, padding_length))\n",
        "    df_filtered['sst3'] = df_filtered['sst3'].apply(lambda x: pad_or_crop_sequence(x, padding_length))\n",
        "    df_filtered['sst8'] = df_filtered['sst8'].apply(lambda x: pad_or_crop_sequence(x, padding_length))\n",
        "\n",
        "    # Step 6: Encoding the sequences based on the specified embedding method\n",
        "    def encode_sequence(sequence, embedding_method):\n",
        "        if embedding_method == 'one_hot':\n",
        "            return [seq_stoi[char] for char in sequence]  # One-hot encoding using string-to-int mapping\n",
        "        elif embedding_method == 'learnable':\n",
        "            return [seq_stoi[char] for char in sequence]  # Same encoding, but embedding layer will be learned later\n",
        "        elif embedding_method == 'ProtBERT':\n",
        "            # Code to encode with ProtBERT embeddings would go here (placeholder for future implementation)\n",
        "            raise NotImplementedError(\"ProtBERT embedding is not yet implemented.\")\n",
        "        elif embedding_method == 'TAPE':\n",
        "            # Code to encode with TAPE embeddings would go here (placeholder for future implementation)\n",
        "            raise NotImplementedError(\"TAPE embedding is not yet implemented.\")\n",
        "        else:\n",
        "            raise ValueError(f\"Invalid embedding method: {embedding_method}\")\n",
        "\n",
        "    # Add label encoding for sst3\n",
        "    df_filtered['encoded_sst3'] = df_filtered['sst3'].apply(lambda x: encode_labels(x))\n",
        "\n",
        "    # Add label encoding for sst8 (if you're working with sst8 as well)\n",
        "    df_filtered['encoded_sst8'] = df_filtered['sst8'].apply(lambda x: [q8_stoi[char] for char in x])\n",
        "\n",
        "    # Apply encoding based on the selected embedding method\n",
        "    df_filtered['encoded_seq'] = df_filtered['seq'].apply(lambda x: encode_sequence(x, embedding_method))\n",
        "\n",
        "    return df_filtered\n",
        "\n",
        "def encode_labels(labels):\n",
        "    return [q3_stoi[char] if char in q3_stoi else -100 for char in labels]\n",
        "# Check for missing 'sst3' before preprocessing\n",
        "print(f\"Number of sequences with missing 'sst3': {df['sst3'].isnull().sum()}\")\n",
        "\n",
        "# Check for sequences where 'seq' and 'sst3' lengths do not match\n",
        "length_mismatch = df[df['seq'].str.len() != df['sst3'].str.len()]\n",
        "print(f\"Number of sequences where 'seq' and 'sst3' lengths do not match: {len(length_mismatch)}\")\n",
        "\n",
        "# Run the preprocessing with current parameters\n",
        "df_preprocessed = preprocess_data(df, cutoff_length, padding_length, filter_non_standard, embedding_method)\n",
        "\n",
        "# Display the number of sequences after preprocessing\n",
        "print(f\"Number of sequences before preprocessing: {len(df)}\")\n",
        "print(f\"Number of sequences after preprocessing: {len(df_preprocessed)}\")\n",
        "\n",
        "# Apply the updated seq_stoi to encode sequences\n",
        "df_preprocessed['encoded_seq'] = df_preprocessed['seq'].apply(lambda x: [seq_stoi[char] for char in x])\n",
        "df_preprocessed['encoded_sst3'] = df_preprocessed['sst3'].apply(lambda x: encode_labels(x))\n",
        "df_preprocessed['encoded_sst8'] = df_preprocessed['sst8'].apply(lambda x: [q8_stoi[char] for char in x])\n",
        "\n",
        "# Display the head of the preprocessed dataset to verify the changes\n",
        "df_preprocessed[['chain_code', 'sst3', 'sst8', 'encoded_seq', 'encoded_sst3', 'encoded_sst8']].head()\n"
      ]
    },
    {
      "cell_type": "markdown",
      "metadata": {
        "id": "m1nXfQ5zu2vH"
      },
      "source": [
        "#Data Preparation\n"
      ]
    },
    {
      "cell_type": "markdown",
      "metadata": {
        "id": "bOJ-n2-rvkgm"
      },
      "source": [
        "####Preparation Parameters"
      ]
    },
    {
      "cell_type": "code",
      "execution_count": null,
      "metadata": {
        "id": "WQnDIsAdu83Q"
      },
      "outputs": [],
      "source": [
        "# Parametric Option for split method and batch sizes\n",
        "split_method = 'random'  # The default splitting method is random (80-10-10)\n",
        "train_val_test_split = [0.8, 0.1, 0.1]\n",
        "\n",
        "#DataLoader Parameters\n",
        "batch_size = 64  # Parametric Option: Can be changed to 32, 64, 128, etc.\n"
      ]
    },
    {
      "cell_type": "markdown",
      "metadata": {
        "id": "1cR-oXEry-va"
      },
      "source": [
        "####Splitting and Dataloader"
      ]
    },
    {
      "cell_type": "code",
      "execution_count": null,
      "metadata": {
        "id": "UtbTJTauvsx4",
        "colab": {
          "base_uri": "https://localhost:8080/"
        },
        "outputId": "857ceec2-b11b-498a-ceef-c456cb8f4deb"
      },
      "outputs": [
        {
          "output_type": "stream",
          "name": "stdout",
          "text": [
            "Training set size: 1833\n",
            "Validation set size: 229\n",
            "Test set size: 230\n"
          ]
        }
      ],
      "source": [
        "# 4.2 Splitting the Dataset\n",
        "from sklearn.model_selection import train_test_split\n",
        "\n",
        "def split_dataset(df, split_method, train_val_test_split):\n",
        "    \"\"\"\n",
        "    Splits the dataset into training, validation, and test sets.\n",
        "    Args:\n",
        "    - df (DataFrame): Preprocessed dataset.\n",
        "    - split_method (str): Method to split the dataset. Currently, only 'random' is supported.\n",
        "    - train_val_test_split (list): Proportions for train, val, and test sets (e.g., [0.8, 0.1, 0.1]).\n",
        "    Returns:\n",
        "    - train_df, val_df, test_df: DataFrames for train, validation, and test sets.\n",
        "    \"\"\"\n",
        "    if split_method == 'random':\n",
        "        train_df, temp_df = train_test_split(df, test_size=(1 - train_val_test_split[0]), random_state=42)\n",
        "        val_df, test_df = train_test_split(temp_df, test_size=(train_val_test_split[2] / (train_val_test_split[1] + train_val_test_split[2])), random_state=42)\n",
        "    else:\n",
        "        raise ValueError(f\"Unsupported split method: {split_method}\")\n",
        "\n",
        "    return train_df, val_df, test_df\n",
        "\n",
        "# Example of splitting the dataset\n",
        "train_df, val_df, test_df = split_dataset(df_preprocessed, split_method, train_val_test_split)\n",
        "\n",
        "# 4.3 Custom Dataset and DataLoader\n",
        "from torch.utils.data import Dataset, DataLoader\n",
        "\n",
        "class ProteinDataset(Dataset):\n",
        "    \"\"\"Custom PyTorch Dataset for protein sequences.\"\"\"\n",
        "    def __init__(self, df, label_column):\n",
        "        \"\"\"\n",
        "        Args:\n",
        "        - df (DataFrame): DataFrame containing the dataset.\n",
        "        - label_column (str): Column name for the labels (encoded_sst3 or encoded_sst8).\n",
        "        \"\"\"\n",
        "        self.sequences = df['encoded_seq'].values  # Ensure this column contains encoded numerical sequences\n",
        "        self.labels = df[label_column].values  # This should contain the encoded labels (either encoded_sst3 or encoded_sst8)\n",
        "\n",
        "    def __len__(self):\n",
        "        return len(self.labels)\n",
        "\n",
        "    def __getitem__(self, idx):\n",
        "        # Convert sequences and labels to PyTorch tensors\n",
        "        return torch.tensor(self.sequences[idx], dtype=torch.long), torch.tensor(self.labels[idx], dtype=torch.long)\n",
        "\n",
        "\n",
        "def initialize_dataloaders(train_df, val_df, test_df, batch_size, label_column):\n",
        "    \"\"\"Creates DataLoaders for train, validation, and test sets.\"\"\"\n",
        "    train_dataset = ProteinDataset(train_df, label_column)\n",
        "    val_dataset = ProteinDataset(val_df, label_column)\n",
        "    test_dataset = ProteinDataset(test_df, label_column)\n",
        "\n",
        "    train_loader = DataLoader(train_dataset, batch_size=batch_size, shuffle=True)\n",
        "    val_loader = DataLoader(val_dataset, batch_size=batch_size, shuffle=False)\n",
        "    test_loader = DataLoader(test_dataset, batch_size=batch_size, shuffle=False)\n",
        "\n",
        "    return train_loader, val_loader, test_loader\n",
        "\n",
        "# Example usage: initializing dataloaders for the train, val, and test sets\n",
        "label_column = 'encoded_sst3'  # or 'encoded_sst8' depending on what you are predicting\n",
        "train_loader, val_loader, test_loader = initialize_dataloaders(train_df, val_df, test_df, batch_size, label_column)\n",
        "\n",
        "\n",
        "# Displaying the sizes of each split\n",
        "print(f\"Training set size: {len(train_loader.dataset)}\")\n",
        "print(f\"Validation set size: {len(val_loader.dataset)}\")\n",
        "print(f\"Test set size: {len(test_loader.dataset)}\")"
      ]
    },
    {
      "cell_type": "code",
      "execution_count": null,
      "metadata": {
        "id": "n-BfGFCfyc5I",
        "colab": {
          "base_uri": "https://localhost:8080/"
        },
        "outputId": "826fc731-a0ad-480b-d9bc-1a52ad0956d3"
      },
      "outputs": [
        {
          "output_type": "stream",
          "name": "stdout",
          "text": [
            "Train, validation, and test data saved successfully in Google Drive.\n"
          ]
        }
      ],
      "source": [
        "# Create the directory if it doesn't exist using shell command\n",
        "!mkdir -p '/content/drive/My Drive/Neural Networks Project/Split_Data'\n",
        "\n",
        "# Save the split datasets to CSV files in Google Drive\n",
        "train_df.to_csv('/content/drive/My Drive/Neural Networks Project/Split_Data/train_data.csv', index=False)\n",
        "val_df.to_csv('/content/drive/My Drive/Neural Networks Project/Split_Data/val_data.csv', index=False)\n",
        "test_df.to_csv('/content/drive/My Drive/Neural Networks Project/Split_Data/test_data.csv', index=False)\n",
        "\n",
        "# Confirm the files have been saved\n",
        "print(\"Train, validation, and test data saved successfully in Google Drive.\")\n"
      ]
    },
    {
      "cell_type": "markdown",
      "metadata": {
        "id": "K5etJ_huz-hA"
      },
      "source": [
        "#Model Architecture"
      ]
    },
    {
      "cell_type": "markdown",
      "metadata": {
        "id": "nQN0F42u0OYm"
      },
      "source": [
        "####Model Hyperparameters"
      ]
    },
    {
      "cell_type": "code",
      "execution_count": null,
      "metadata": {
        "id": "HSvmW5ql0Hb_"
      },
      "outputs": [],
      "source": [
        "# Initialize hyperparameters for the CNN architecture\n",
        "embedding_dim = 128   # Dimension of the embedding layer\n",
        "num_filters = 64      # Number of filters in each convolutional layer\n",
        "kernel_sizes = [3, 5, 7]  # List of kernel sizes for multiple convolutional layers\n",
        "dropout_rate = 0.5    # Dropout rate for regularization\n",
        "fc_units = 256        # Number of units in the fully connected (dense) layer\n",
        "num_classes = len(sst3_vocab)       # Number of classes including the padding index\n",
        "learning_rate = 0.001 # Learning rate for the optimizer\n",
        "num_epochs = 20       # Number of training epochs\n"
      ]
    },
    {
      "cell_type": "markdown",
      "metadata": {
        "id": "ZflPJZr80R4p"
      },
      "source": [
        "####CNN Architecture"
      ]
    },
    {
      "cell_type": "code",
      "execution_count": null,
      "metadata": {
        "id": "4oaMOcFX0Rab"
      },
      "outputs": [],
      "source": [
        "import torch\n",
        "import torch.nn as nn\n",
        "import torch.nn.functional as F\n",
        "\n",
        "class ProteinCNN(nn.Module):\n",
        "    def __init__(self, embedding_dim, num_filters, kernel_sizes, dropout_rate, fc_units, num_classes):\n",
        "        super(ProteinCNN, self).__init__()\n",
        "\n",
        "        # Use the correct padding_idx\n",
        "        padding_idx = seq_stoi['.']\n",
        "\n",
        "        # Embedding layer\n",
        "        self.embedding = nn.Embedding(num_embeddings=len(seq_stoi), embedding_dim=embedding_dim, padding_idx=padding_idx)\n",
        "\n",
        "        # Convolutional Layers with different kernel sizes\n",
        "        self.conv_layers = nn.ModuleList([\n",
        "            nn.Conv1d(in_channels=embedding_dim, out_channels=num_filters, kernel_size=ks, padding=ks // 2)\n",
        "            for ks in kernel_sizes\n",
        "        ])\n",
        "\n",
        "        # Batch Normalization layers for Conv layers\n",
        "        self.conv_batchnorms = nn.ModuleList([\n",
        "            nn.BatchNorm1d(num_features=num_filters)\n",
        "            for _ in kernel_sizes\n",
        "        ])\n",
        "\n",
        "        # Nonlinear Activation Functions for Conv Layers\n",
        "        self.conv_activations = nn.ModuleList([\n",
        "            nn.ReLU()\n",
        "            for _ in kernel_sizes\n",
        "        ])\n",
        "\n",
        "        # Fully Connected Layer\n",
        "        conv_output_size = num_filters * len(kernel_sizes)\n",
        "        self.fc = nn.Linear(conv_output_size, fc_units)\n",
        "\n",
        "        # Batch Normalization after Fully Connected Layer\n",
        "        self.fc_batchnorm = nn.BatchNorm1d(num_features=fc_units)\n",
        "\n",
        "        # Activation function after the fully connected layer\n",
        "        self.fc_activation = nn.ReLU()\n",
        "\n",
        "        # Dropout Layer\n",
        "        self.dropout = nn.Dropout(dropout_rate)\n",
        "\n",
        "        # Output Layer\n",
        "        self.output = nn.Linear(fc_units, num_classes)\n",
        "\n",
        "    def forward(self, x):\n",
        "        # Embedding layer\n",
        "        x = self.embedding(x)  # Shape: (batch_size, seq_length, embedding_dim)\n",
        "        x = x.permute(0, 2, 1)  # Shape: (batch_size, embedding_dim, seq_length)\n",
        "\n",
        "        # Apply convolutional layers with batch norm and activation functions\n",
        "        conv_results = []\n",
        "        for conv_layer, batchnorm, activation in zip(self.conv_layers, self.conv_batchnorms, self.conv_activations):\n",
        "            conv_output = conv_layer(x)  # (batch_size, num_filters, seq_length)\n",
        "            conv_output = batchnorm(conv_output)\n",
        "            activated_output = activation(conv_output)\n",
        "            conv_results.append(activated_output)\n",
        "\n",
        "        # Concatenate the outputs from different convolutional layers\n",
        "        x = torch.cat(conv_results, dim=1)  # Shape: (batch_size, total_num_filters, seq_length)\n",
        "\n",
        "        # Permute to have sequence length in the second dimension\n",
        "        x = x.permute(0, 2, 1)  # Shape: (batch_size, seq_length, total_num_filters)\n",
        "\n",
        "        # Apply the fully connected layer to each residue\n",
        "        x = self.fc(x)  # Shape: (batch_size, seq_length, fc_units)\n",
        "        x = self.fc_batchnorm(x.transpose(1, 2)).transpose(1, 2)  # BatchNorm over features\n",
        "        x = self.fc_activation(x)\n",
        "\n",
        "        # Dropout\n",
        "        x = self.dropout(x)\n",
        "\n",
        "        # Output layer\n",
        "        x = self.output(x)  # Shape: (batch_size, seq_length, num_classes)\n",
        "\n",
        "        # Reshape outputs if necessary\n",
        "        x = x.view(-1, num_classes)  # Prepare for loss computation\n",
        "\n",
        "        return x\n",
        "\n"
      ]
    },
    {
      "cell_type": "markdown",
      "metadata": {
        "id": "BoQl-g7s1ocL"
      },
      "source": [
        "#Training"
      ]
    },
    {
      "cell_type": "markdown",
      "metadata": {
        "id": "DQ7sF0tY1qhV"
      },
      "source": [
        "#### Training Parameters"
      ]
    },
    {
      "cell_type": "code",
      "execution_count": null,
      "metadata": {
        "id": "YP9Ct3jj1tZo"
      },
      "outputs": [],
      "source": [
        "# Early stopping\n",
        "use_early_stopping = True  # Toggle this to turn early stopping on/off\n",
        "early_stopping_patience = 5  # Number of epochs to wait for improvement in validation loss\n",
        "\n",
        "# Learning rate scheduling\n",
        "use_lr_scheduler = True  # Toggle this to use a learning rate scheduler or not\n",
        "scheduler_type = 'ReduceLROnPlateau'  # Options: 'StepLR', 'ReduceLROnPlateau'\n",
        "step_size = 5  # For StepLR, decay learning rate every `step_size` epochs\n",
        "gamma = 0.1  # Factor by which the learning rate is reduced\n",
        "min_lr = 1e-6  # Minimum learning rate for ReduceLROnPlateau\n",
        "\n",
        "# Training hyperparameters\n",
        "num_epochs = 20\n",
        "learning_rate = 0.001\n",
        "\n",
        "# Initialize the model\n",
        "model = ProteinCNN(\n",
        "    embedding_dim=embedding_dim,\n",
        "    num_filters=num_filters,\n",
        "    kernel_sizes=kernel_sizes,\n",
        "    dropout_rate=dropout_rate,\n",
        "    fc_units=fc_units,\n",
        "    num_classes=num_classes\n",
        ").to(device)\n",
        "\n",
        "# Define loss function and optimizer\n",
        "loss_fn = nn.CrossEntropyLoss(ignore_index=-100)\n",
        "optimizer = torch.optim.Adam(model.parameters(), lr=learning_rate)\n",
        "\n"
      ]
    },
    {
      "cell_type": "markdown",
      "metadata": {
        "id": "CD14i4Zb1vOg"
      },
      "source": [
        "####Training Loop"
      ]
    },
    {
      "cell_type": "code",
      "execution_count": null,
      "metadata": {
        "id": "E_P8A2Mq0cu2"
      },
      "outputs": [],
      "source": [
        "def validate_model(model, val_loader, loss_fn):\n",
        "    model.eval()\n",
        "    val_loss = 0\n",
        "\n",
        "    with torch.no_grad():\n",
        "        for batch in val_loader:\n",
        "            inputs, targets = batch\n",
        "            inputs, targets = inputs.to(device), targets.to(device)\n",
        "\n",
        "            outputs = model(inputs)\n",
        "\n",
        "            # Reshape outputs and targets for loss computation\n",
        "            outputs = outputs.view(-1, num_classes)\n",
        "            targets = targets.view(-1)\n",
        "\n",
        "            loss = loss_fn(outputs, targets)\n",
        "            val_loss += loss.item()\n",
        "\n",
        "    val_loss /= len(val_loader)\n",
        "    return val_loss\n",
        "\n",
        "# Define the training loop\n",
        "def train_model(model, train_loader, val_loader, optimizer, loss_fn, num_epochs, use_early_stopping, use_lr_scheduler, scheduler_type):\n",
        "    train_losses = []\n",
        "    val_losses = []\n",
        "    best_val_loss = float('inf')\n",
        "    patience_counter = 0\n",
        "\n",
        "    if use_lr_scheduler:\n",
        "        if scheduler_type == 'StepLR':\n",
        "            scheduler = optim.lr_scheduler.StepLR(optimizer, step_size=step_size, gamma=gamma)\n",
        "        elif scheduler_type == 'ReduceLROnPlateau':\n",
        "            scheduler = optim.lr_scheduler.ReduceLROnPlateau(optimizer, mode='min', factor=gamma, patience=early_stopping_patience, min_lr=min_lr)\n",
        "\n",
        "    for epoch in range(num_epochs):\n",
        "        model.train()  # Set the model to training mode\n",
        "        train_loss = 0\n",
        "\n",
        "        for batch in train_loader:\n",
        "            inputs, targets = batch\n",
        "            inputs, targets = inputs.to(device), targets.to(device)\n",
        "\n",
        "            optimizer.zero_grad()  # Clear gradients from previous step\n",
        "\n",
        "            # Forward pass\n",
        "            outputs = model(inputs)\n",
        "\n",
        "            # Reshape outputs and targets for loss computation\n",
        "            outputs = outputs.view(-1, num_classes)\n",
        "            targets = targets.view(-1)\n",
        "\n",
        "            loss = loss_fn(outputs, targets)\n",
        "\n",
        "            # Backpropagation and optimization step\n",
        "            loss.backward()\n",
        "            optimizer.step()\n",
        "\n",
        "            train_loss += loss.item()\n",
        "\n",
        "        # Average training loss for the epoch\n",
        "        train_loss /= len(train_loader)\n",
        "        train_losses.append(train_loss)\n",
        "\n",
        "        # Validation phase\n",
        "        val_loss = validate_model(model, val_loader, loss_fn)\n",
        "        val_losses.append(val_loss)\n",
        "\n",
        "        # Optionally use learning rate scheduler\n",
        "        if use_lr_scheduler:\n",
        "            if scheduler_type == 'StepLR':\n",
        "                scheduler.step()  # StepLR scheduler reduces LR every step_size epochs\n",
        "            elif scheduler_type == 'ReduceLROnPlateau':\n",
        "                scheduler.step(val_loss)  # ReduceLROnPlateau scheduler adjusts based on validation loss\n",
        "\n",
        "        # Early stopping mechanism\n",
        "        if use_early_stopping:\n",
        "            if val_loss < best_val_loss:\n",
        "                best_val_loss = val_loss\n",
        "                patience_counter = 0  # Reset patience if improvement is seen\n",
        "                # Save the best model so far\n",
        "                torch.save(model.state_dict(), 'best_model.pth')\n",
        "            else:\n",
        "                patience_counter += 1\n",
        "                if patience_counter >= early_stopping_patience:\n",
        "                    print(f\"Early stopping triggered after {epoch+1} epochs.\")\n",
        "                    break\n",
        "\n",
        "        print(f'Epoch [{epoch+1}/{num_epochs}], Training Loss: {train_loss:.4f}, Validation Loss: {val_loss:.4f}')\n",
        "\n",
        "    print(\"Training completed.\")\n",
        "    return model, train_losses, val_losses\n",
        "\n",
        "\n",
        "\n"
      ]
    },
    {
      "cell_type": "code",
      "execution_count": null,
      "metadata": {
        "id": "BkKoUQX074am",
        "colab": {
          "base_uri": "https://localhost:8080/"
        },
        "outputId": "eee5b1bf-078c-47c5-87bc-e245e95b9663"
      },
      "outputs": [
        {
          "output_type": "stream",
          "name": "stdout",
          "text": [
            "Maximum index in encoded sequences: 21\n",
            "Vocabulary size (num_embeddings): 22\n"
          ]
        }
      ],
      "source": [
        "max_index = max([max(seq) for seq in df_preprocessed['encoded_seq']])\n",
        "print(f\"Maximum index in encoded sequences: {max_index}\")\n",
        "print(f\"Vocabulary size (num_embeddings): {len(seq_stoi)}\")\n"
      ]
    },
    {
      "cell_type": "code",
      "execution_count": null,
      "metadata": {
        "id": "wGOQupNj2PQz",
        "colab": {
          "base_uri": "https://localhost:8080/"
        },
        "outputId": "1c5565d1-c5f3-4843-8d42-a1ab1e20f860"
      },
      "outputs": [
        {
          "output_type": "stream",
          "name": "stdout",
          "text": [
            "Epoch [1/20], Training Loss: 0.9096, Validation Loss: 0.8461\n",
            "Epoch [2/20], Training Loss: 0.8273, Validation Loss: 0.7957\n",
            "Epoch [3/20], Training Loss: 0.7995, Validation Loss: 0.7759\n",
            "Epoch [4/20], Training Loss: 0.7836, Validation Loss: 0.7756\n",
            "Epoch [5/20], Training Loss: 0.7738, Validation Loss: 0.7814\n",
            "Epoch [6/20], Training Loss: 0.7692, Validation Loss: 0.7859\n",
            "Epoch [7/20], Training Loss: 0.7645, Validation Loss: 0.7694\n",
            "Epoch [8/20], Training Loss: 0.7592, Validation Loss: 0.7649\n",
            "Epoch [9/20], Training Loss: 0.7545, Validation Loss: 0.7730\n",
            "Epoch [10/20], Training Loss: 0.7509, Validation Loss: 0.7647\n",
            "Epoch [11/20], Training Loss: 0.7476, Validation Loss: 0.7676\n",
            "Epoch [12/20], Training Loss: 0.7507, Validation Loss: 0.7719\n",
            "Epoch [13/20], Training Loss: 0.7408, Validation Loss: 0.7710\n",
            "Epoch [14/20], Training Loss: 0.7358, Validation Loss: 0.7732\n",
            "Early stopping triggered after 15 epochs.\n",
            "Training completed.\n"
          ]
        }
      ],
      "source": [
        "# Call the train function with the parametric options\n",
        "trained_model, train_losses, val_losses = train_model(\n",
        "    model=model,\n",
        "    train_loader=train_loader,\n",
        "    val_loader=val_loader,\n",
        "    optimizer=optimizer,\n",
        "    loss_fn=loss_fn,\n",
        "    num_epochs=num_epochs,\n",
        "    use_early_stopping=use_early_stopping,\n",
        "    use_lr_scheduler=use_lr_scheduler,\n",
        "    scheduler_type=scheduler_type\n",
        ")"
      ]
    },
    {
      "cell_type": "markdown",
      "metadata": {
        "id": "DCYGZ2o62vJH"
      },
      "source": [
        "#Model Evaluation"
      ]
    },
    {
      "cell_type": "markdown",
      "source": [
        "####Evaluate Model Performance\n"
      ],
      "metadata": {
        "id": "M8eqPnWM8556"
      }
    },
    {
      "cell_type": "code",
      "source": [
        "# Load the best model saved during training\n",
        "model.load_state_dict(torch.load('best_model.pth'))\n",
        "model.eval()\n"
      ],
      "metadata": {
        "colab": {
          "base_uri": "https://localhost:8080/"
        },
        "id": "YS8a0KeU9DJm",
        "outputId": "7dd9da1b-f484-4a7a-876c-e87b0ac747f5"
      },
      "execution_count": null,
      "outputs": [
        {
          "output_type": "stream",
          "name": "stderr",
          "text": [
            "<ipython-input-134-9716386bb048>:2: FutureWarning: You are using `torch.load` with `weights_only=False` (the current default value), which uses the default pickle module implicitly. It is possible to construct malicious pickle data which will execute arbitrary code during unpickling (See https://github.com/pytorch/pytorch/blob/main/SECURITY.md#untrusted-models for more details). In a future release, the default value for `weights_only` will be flipped to `True`. This limits the functions that could be executed during unpickling. Arbitrary objects will no longer be allowed to be loaded via this mode unless they are explicitly allowlisted by the user via `torch.serialization.add_safe_globals`. We recommend you start setting `weights_only=True` for any use case where you don't have full control of the loaded file. Please open an issue on GitHub for any issues related to this experimental feature.\n",
            "  model.load_state_dict(torch.load('best_model.pth'))\n"
          ]
        },
        {
          "output_type": "execute_result",
          "data": {
            "text/plain": [
              "ProteinCNN(\n",
              "  (embedding): Embedding(22, 128, padding_idx=1)\n",
              "  (conv_layers): ModuleList(\n",
              "    (0): Conv1d(128, 64, kernel_size=(3,), stride=(1,), padding=(1,))\n",
              "    (1): Conv1d(128, 64, kernel_size=(5,), stride=(1,), padding=(2,))\n",
              "    (2): Conv1d(128, 64, kernel_size=(7,), stride=(1,), padding=(3,))\n",
              "  )\n",
              "  (conv_batchnorms): ModuleList(\n",
              "    (0-2): 3 x BatchNorm1d(64, eps=1e-05, momentum=0.1, affine=True, track_running_stats=True)\n",
              "  )\n",
              "  (conv_activations): ModuleList(\n",
              "    (0-2): 3 x ReLU()\n",
              "  )\n",
              "  (fc): Linear(in_features=192, out_features=256, bias=True)\n",
              "  (fc_batchnorm): BatchNorm1d(256, eps=1e-05, momentum=0.1, affine=True, track_running_stats=True)\n",
              "  (fc_activation): ReLU()\n",
              "  (dropout): Dropout(p=0.5, inplace=False)\n",
              "  (output): Linear(in_features=256, out_features=3, bias=True)\n",
              ")"
            ]
          },
          "metadata": {},
          "execution_count": 134
        }
      ]
    },
    {
      "cell_type": "code",
      "source": [
        "from sklearn.metrics import accuracy_score, precision_score, recall_score, f1_score\n",
        "\n",
        "def evaluate_model(model, data_loader, loss_fn):\n",
        "    all_preds = []\n",
        "    all_targets = []\n",
        "    total_loss = 0\n",
        "\n",
        "    model.eval()\n",
        "    with torch.no_grad():\n",
        "        for inputs, targets in data_loader:\n",
        "            inputs, targets = inputs.to(device), targets.to(device)\n",
        "            outputs = model(inputs)\n",
        "\n",
        "            # Reshape outputs and targets for loss computation and metric calculations\n",
        "            outputs = outputs.view(-1, num_classes)\n",
        "            targets = targets.view(-1)\n",
        "            loss = loss_fn(outputs, targets)\n",
        "            total_loss += loss.item()\n",
        "\n",
        "            # Get the predicted classes\n",
        "            preds = torch.argmax(outputs, dim=1).cpu().numpy()\n",
        "            all_preds.extend(preds)\n",
        "            all_targets.extend(targets.cpu().numpy())\n",
        "\n",
        "    average_loss = total_loss / len(data_loader)\n",
        "    accuracy = accuracy_score(all_targets, all_preds)\n",
        "    precision = precision_score(all_targets, all_preds, average='weighted', zero_division=1)\n",
        "    recall = recall_score(all_targets, all_preds, average='weighted', zero_division=1)\n",
        "    f1 = f1_score(all_targets, all_preds, average='weighted', zero_division=1)\n",
        "\n",
        "    return average_loss, accuracy, precision, recall, f1, all_targets, all_preds\n"
      ],
      "metadata": {
        "id": "5n4WGGVZ9G4p"
      },
      "execution_count": null,
      "outputs": []
    },
    {
      "cell_type": "code",
      "source": [
        "test_loss, test_accuracy, test_precision, test_recall, test_f1, all_targets, all_preds = evaluate_model(\n",
        "    model, test_loader, loss_fn\n",
        ")\n",
        "\n",
        "print(f'Test Loss: {test_loss:.4f}')\n",
        "print(f'Test Accuracy: {test_accuracy:.4f}')\n",
        "print(f'Test Precision: {test_precision:.4f}')\n",
        "print(f'Test Recall: {test_recall:.4f}')\n",
        "print(f'Test F1 Score: {test_f1:.4f}')\n"
      ],
      "metadata": {
        "colab": {
          "base_uri": "https://localhost:8080/"
        },
        "id": "0B-67ifs9K8I",
        "outputId": "7c4b5704-bf71-4dc9-e4fa-44ebd3321b75"
      },
      "execution_count": null,
      "outputs": [
        {
          "output_type": "stream",
          "name": "stdout",
          "text": [
            "Test Loss: 0.7904\n",
            "Test Accuracy: 0.4439\n",
            "Test Precision: 0.6662\n",
            "Test Recall: 0.4439\n",
            "Test F1 Score: 0.3709\n"
          ]
        }
      ]
    },
    {
      "cell_type": "code",
      "source": [],
      "metadata": {
        "id": "D-MbRMGJcLM6"
      },
      "execution_count": null,
      "outputs": []
    },
    {
      "cell_type": "markdown",
      "source": [
        "####Visualize Model Performance"
      ],
      "metadata": {
        "id": "SzSzjXUY9U7i"
      }
    },
    {
      "cell_type": "code",
      "source": [
        "from sklearn.metrics import confusion_matrix\n",
        "import seaborn as sns\n",
        "\n",
        "def plot_confusion_matrix(y_true, y_pred, class_names, title='Confusion Matrix'):\n",
        "    # Convert to numpy arrays if they aren't already\n",
        "    y_true = np.array(y_true)\n",
        "    y_pred = np.array(y_pred)\n",
        "\n",
        "    # Exclude padding positions (where y_true == -100)\n",
        "    mask = y_true != -100\n",
        "    y_true_filtered = y_true[mask]\n",
        "    y_pred_filtered = y_pred[mask]\n",
        "\n",
        "    # Verify that y_true_filtered and y_pred_filtered contain valid class labels\n",
        "    valid_labels = sorted(set(y_true_filtered) | set(y_pred_filtered))\n",
        "    print(f\"Valid labels after filtering: {valid_labels}\")\n",
        "\n",
        "    # Generate confusion matrix with the filtered data\n",
        "    cm = confusion_matrix(y_true_filtered, y_pred_filtered, labels=valid_labels)\n",
        "    plt.figure(figsize=(8, 6))\n",
        "    sns.heatmap(cm, annot=True, fmt='d', cmap='Blues',\n",
        "                xticklabels=[q3_itos[label] for label in valid_labels],\n",
        "                yticklabels=[q3_itos[label] for label in valid_labels])\n",
        "    plt.title(title)\n",
        "    plt.xlabel('Predicted Labels')\n",
        "    plt.ylabel('True Labels')\n",
        "    plt.show()\n",
        "\n",
        "# Generate and plot confusion matrix for the test set\n",
        "plot_confusion_matrix(all_targets, all_preds, class_names=sst3_vocab, title='Confusion Matrix for sst3')\n"
      ],
      "metadata": {
        "colab": {
          "base_uri": "https://localhost:8080/",
          "height": 581
        },
        "id": "94nk5fqJ9Xp3",
        "outputId": "1d4253b9-f8a8-43ef-aca1-ccdd7d5568e7"
      },
      "execution_count": null,
      "outputs": [
        {
          "output_type": "stream",
          "name": "stdout",
          "text": [
            "Valid labels after filtering: [0, 1, 2]\n"
          ]
        },
        {
          "output_type": "display_data",
          "data": {
            "text/plain": [
              "<Figure size 800x600 with 2 Axes>"
            ],
            "image/png": "[encoded data removed]"
          },
          "metadata": {}
        }
      ]
    },
    {
      "cell_type": "code",
      "source": [
        "def plot_learning_curves(train_losses, val_losses):\n",
        "    plt.figure(figsize=(8, 5))\n",
        "    plt.plot(train_losses, label='Training Loss')\n",
        "    plt.plot(val_losses, label='Validation Loss')\n",
        "    plt.title('Learning Curves')\n",
        "    plt.xlabel('Epochs')\n",
        "    plt.ylabel('Loss')\n",
        "    plt.legend()\n",
        "    plt.grid()\n",
        "    plt.show()\n",
        "\n",
        "# Assuming train_losses and val_losses are collected during training\n",
        "plot_learning_curves(train_losses, val_losses)\n"
      ],
      "metadata": {
        "colab": {
          "base_uri": "https://localhost:8080/",
          "height": 487
        },
        "id": "0fqDfGKB9faE",
        "outputId": "9256234f-5299-4596-da30-f2dfbdb37b6d"
      },
      "execution_count": null,
      "outputs": [
        {
          "output_type": "display_data",
          "data": {
            "text/plain": [
              "<Figure size 800x500 with 1 Axes>"
            ],
            "image/png": "[encoded data removed]"
          },
          "metadata": {}
        }
      ]
    },
    {
      "cell_type": "markdown",
      "source": [
        "####Analyze Misclassifications"
      ],
      "metadata": {
        "id": "mXKP3jbj_Trb"
      }
    },
    {
      "cell_type": "code",
      "source": [
        "from IPython.display import display, HTML\n",
        "\n",
        "def decode_labels(encoded_labels, itos):\n",
        "    \"\"\"\n",
        "    Converts a list of encoded labels back to their original string representations.\n",
        "    Args:\n",
        "    - encoded_labels (list): List of encoded numerical labels.\n",
        "    - itos (dict): Integer-to-string mapping dictionary.\n",
        "\n",
        "    Returns:\n",
        "    - decoded_labels (list): List of decoded string labels.\n",
        "    \"\"\"\n",
        "    decoded_labels = []\n",
        "    for label in encoded_labels:\n",
        "        if label == -100:\n",
        "            decoded_labels.append('.')  # Use '.' or any placeholder for padding\n",
        "        else:\n",
        "            decoded_labels.append(itos[label])\n",
        "    return decoded_labels\n",
        "\n",
        "def analyze_misclassifications(y_true, y_pred, sequences, itos, num_examples=5):\n",
        "    \"\"\"\n",
        "    Analyzes misclassified sequences by comparing true and predicted labels.\n",
        "    Highlights misclassified positions in red using HTML.\n",
        "    Args:\n",
        "    - y_true (list): List of true encoded labels (flattened).\n",
        "    - y_pred (list): List of predicted encoded labels (flattened).\n",
        "    - sequences (list): List of original sequences (with padding).\n",
        "    - itos (dict): Integer-to-string mapping dictionary.\n",
        "    - num_examples (int): Number of examples to display.\n",
        "    \"\"\"\n",
        "    errors = []\n",
        "    idx = 0  # Index in the flattened y_true and y_pred lists\n",
        "\n",
        "    for seq in sequences:\n",
        "        # Calculate the actual length of the sequence (excluding padding)\n",
        "        seq_len = len(seq.replace('.', ''))\n",
        "\n",
        "        # Extract the true and predicted labels for the actual sequence length\n",
        "        true_seq = y_true[idx:idx + seq_len]\n",
        "        pred_seq = y_pred[idx:idx + seq_len]\n",
        "\n",
        "        # Decode the labels\n",
        "        decoded_true_seq = decode_labels(true_seq, itos)\n",
        "        decoded_pred_seq = decode_labels(pred_seq, itos)\n",
        "\n",
        "        # Check if there is a misclassification\n",
        "        if decoded_true_seq != decoded_pred_seq:\n",
        "            errors.append((seq[:seq_len], decoded_true_seq, decoded_pred_seq))\n",
        "\n",
        "        # Move index by the padded sequence length\n",
        "        idx += len(seq)\n",
        "\n",
        "    print(f\"Number of misclassified sequences: {len(errors)}\")\n",
        "    print(\"Sample misclassified sequences:\")\n",
        "\n",
        "    # Display a few misclassified examples\n",
        "    for seq, true_seq, pred_seq in errors[:num_examples]:\n",
        "        display(HTML(f\"<strong>Sequence:</strong> {seq}\"))\n",
        "        true_label_str = ''.join(true_seq)\n",
        "        pred_label_str = ''\n",
        "        for t, p in zip(true_seq, pred_seq):\n",
        "            if t != p:\n",
        "                # Highlight misclassified positions in red\n",
        "                pred_label_str += f\"<span style='color:red;'>{p}</span>\"\n",
        "            else:\n",
        "                pred_label_str += p\n",
        "        display(HTML(f\"<strong>True Label:</strong> {true_label_str}<br><strong>Predicted Label:</strong> {pred_label_str}\"))\n",
        "        display(HTML('<hr>'))\n",
        "\n",
        "\n",
        "\n",
        "\n",
        "analyze_misclassifications(all_targets, all_preds, test_df['seq'].values, q3_itos, num_examples=100)\n"
      ],
      "metadata": {
        "colab": {
          "base_uri": "https://localhost:8080/",
          "height": 1000
        },
        "id": "9RNMVG5r_WZO",
        "outputId": "a0b4b5fa-b890-483d-cd6b-d4162c2bd390"
      },
      "execution_count": null,
      "outputs": [
        {
          "output_type": "stream",
          "name": "stdout",
          "text": [
            "Number of misclassified sequences: 229\n",
            "Sample misclassified sequences:\n"
          ]
        },
        {
          "output_type": "display_data",
          "data": {
            "text/plain": [
              "<IPython.core.display.HTML object>"
            ],
            "text/html": [
              "<strong>Sequence:</strong> SMDFDFLKNLSLEELQMRLKALDPMMEREIEELRQRYTAKRQPILDAMDAK"
            ]
          },
          "metadata": {}
        },
        {
          "output_type": "display_data",
          "data": {
            "text/plain": [
              "<IPython.core.display.HTML object>"
            ],
            "text/html": [
              "<strong>True Label:</strong> CHHHHHHHHCCHHHHHHHHHHHHHHHHHHHHHHHHHHHHHHHHHHHHHHCC<br><strong>Predicted Label:</strong> C<span style='color:red;'>C</span><span style='color:red;'>C</span>HHHHHHCCHHHHHHHHHHH<span style='color:red;'>C</span>HH<span style='color:red;'>C</span>HHHHHHHHHH<span style='color:red;'>E</span><span style='color:red;'>C</span><span style='color:red;'>C</span><span style='color:red;'>C</span><span style='color:red;'>C</span><span style='color:red;'>C</span><span style='color:red;'>C</span>HHHHH<span style='color:red;'>C</span>CC"
            ]
          },
          "metadata": {}
        },
        {
          "output_type": "display_data",
          "data": {
            "text/plain": [
              "<IPython.core.display.HTML object>"
            ],
            "text/html": [
              "<hr>"
            ]
          },
          "metadata": {}
        },
        {
          "output_type": "display_data",
          "data": {
            "text/plain": [
              "<IPython.core.display.HTML object>"
            ],
            "text/html": [
              "<strong>Sequence:</strong> GAADKPRGFARGLDPERIIGATDSSGELMFLMKWKDSDEADLVLAKEANMKCPQIVIAFYEERLTWHS"
            ]
          },
          "metadata": {}
        },
        {
          "output_type": "display_data",
          "data": {
            "text/plain": [
              "<IPython.core.display.HTML object>"
            ],
            "text/html": [
              "<strong>True Label:</strong> CCCCCCCHHHHCCCEEEEEEEECCCCCCEEEEEECCCCCCEEEEHHHHHHHCHHHHHHHHHHHEEECC<br><strong>Predicted Label:</strong> CCCCCCC<span style='color:red;'>C</span><span style='color:red;'>C</span>H<span style='color:red;'>C</span>CCC<span style='color:red;'>H</span><span style='color:red;'>H</span><span style='color:red;'>H</span><span style='color:red;'>H</span><span style='color:red;'>H</span><span style='color:red;'>C</span><span style='color:red;'>C</span><span style='color:red;'>C</span>CCCCC<span style='color:red;'>E</span>E<span style='color:red;'>H</span><span style='color:red;'>H</span>E<span style='color:red;'>H</span><span style='color:red;'>H</span>CCCC<span style='color:red;'>H</span><span style='color:red;'>H</span><span style='color:red;'>H</span><span style='color:red;'>H</span><span style='color:red;'>H</span><span style='color:red;'>H</span>HHHH<span style='color:red;'>C</span><span style='color:red;'>C</span><span style='color:red;'>C</span>C<span style='color:red;'>C</span><span style='color:red;'>E</span><span style='color:red;'>E</span><span style='color:red;'>E</span><span style='color:red;'>E</span><span style='color:red;'>E</span>HHHHH<span style='color:red;'>H</span>EECC"
            ]
          },
          "metadata": {}
        },
        {
          "output_type": "display_data",
          "data": {
            "text/plain": [
              "<IPython.core.display.HTML object>"
            ],
            "text/html": [
              "<hr>"
            ]
          },
          "metadata": {}
        },
        {
          "output_type": "display_data",
          "data": {
            "text/plain": [
              "<IPython.core.display.HTML object>"
            ],
            "text/html": [
              "<strong>Sequence:</strong> MTCAYRREIHHAHVAIRDWLAGDSRADALDALMARFAEDFSMVTPHGVVLDKTALGELFRSKGGTRPGLRIEIDGESLLASGVDGATLAYREIQSDAAGRSERLSTVVLHRDDEGRLYWRHLQETFCG"
            ]
          },
          "metadata": {}
        },
        {
          "output_type": "display_data",
          "data": {
            "text/plain": [
              "<IPython.core.display.HTML object>"
            ],
            "text/html": [
              "<strong>True Label:</strong> CCCHHHHHHHHHHHHHHHHHHCCCCCCHHHHHHCCEEEEEEEECCCCCEEEHHHHHHHHHHHCCCCCCCEEEEEEEEEEEEECCEEEEEEEEEEEECCEEEEEEEEEEEEECCCCCEEEEEEEEEECC<br><strong>Predicted Label:</strong> CC<span style='color:red;'>E</span><span style='color:red;'>E</span>HHHHHH<span style='color:red;'>C</span>H<span style='color:red;'>E</span><span style='color:red;'>E</span><span style='color:red;'>E</span>HHHHH<span style='color:red;'>C</span>CCC<span style='color:red;'>H</span><span style='color:red;'>H</span><span style='color:red;'>H</span>HHHHHH<span style='color:red;'>H</span><span style='color:red;'>H</span><span style='color:red;'>H</span><span style='color:red;'>H</span><span style='color:red;'>H</span><span style='color:red;'>H</span><span style='color:red;'>H</span><span style='color:red;'>H</span><span style='color:red;'>C</span><span style='color:red;'>C</span>CCCC<span style='color:red;'>E</span>EEEHHHHHHHHH<span style='color:red;'>C</span><span style='color:red;'>C</span>CCCCCCCEEEE<span style='color:red;'>C</span><span style='color:red;'>C</span><span style='color:red;'>C</span><span style='color:red;'>H</span><span style='color:red;'>H</span><span style='color:red;'>H</span><span style='color:red;'>H</span><span style='color:red;'>C</span><span style='color:red;'>C</span>CC<span style='color:red;'>C</span><span style='color:red;'>C</span>EE<span style='color:red;'>H</span><span style='color:red;'>H</span><span style='color:red;'>H</span><span style='color:red;'>H</span><span style='color:red;'>H</span><span style='color:red;'>H</span><span style='color:red;'>H</span><span style='color:red;'>C</span><span style='color:red;'>H</span>C<span style='color:red;'>C</span><span style='color:red;'>C</span><span style='color:red;'>C</span><span style='color:red;'>C</span><span style='color:red;'>C</span><span style='color:red;'>H</span><span style='color:red;'>H</span>EEEEE<span style='color:red;'>C</span>CCCC<span style='color:red;'>E</span>EE<span style='color:red;'>H</span><span style='color:red;'>H</span><span style='color:red;'>H</span><span style='color:red;'>H</span><span style='color:red;'>H</span><span style='color:red;'>H</span><span style='color:red;'>H</span><span style='color:red;'>C</span>CC"
            ]
          },
          "metadata": {}
        },
        {
          "output_type": "display_data",
          "data": {
            "text/plain": [
              "<IPython.core.display.HTML object>"
            ],
            "text/html": [
              "<hr>"
            ]
          },
          "metadata": {}
        },
        {
          "output_type": "display_data",
          "data": {
            "text/plain": [
              "<IPython.core.display.HTML object>"
            ],
            "text/html": [
              "<strong>Sequence:</strong> SERPSPPVNLTSSDQTQSSVQLKWEPPLKDGGSPILGYIIERCEEGKDNWIRCNMKLVPELTYKVTGLEKGNKYLYRVSAENKAGVSDPSEILGPLTADDAFVE"
            ]
          },
          "metadata": {}
        },
        {
          "output_type": "display_data",
          "data": {
            "text/plain": [
              "<IPython.core.display.HTML object>"
            ],
            "text/html": [
              "<strong>True Label:</strong> CCCCCCCEEEEEECCCCCEEEEEEECCCCCCCCCCCEEEEEEEECCCCCCEECCCCCECCCEEEEECCCCCCEEEEEEEEECCCCECCCCCCEEEEECCCCCCC<br><strong>Predicted Label:</strong> CCCCCCC<span style='color:red;'>C</span><span style='color:red;'>C</span><span style='color:red;'>C</span><span style='color:red;'>C</span><span style='color:red;'>C</span><span style='color:red;'>C</span>CCCC<span style='color:red;'>H</span><span style='color:red;'>H</span>EEEE<span style='color:red;'>C</span><span style='color:red;'>C</span>CCCCCCCCC<span style='color:red;'>E</span><span style='color:red;'>H</span>E<span style='color:red;'>H</span>EE<span style='color:red;'>H</span><span style='color:red;'>H</span><span style='color:red;'>C</span><span style='color:red;'>C</span>CCCCC<span style='color:red;'>E</span>EE<span style='color:red;'>E</span>CC<span style='color:red;'>E</span>C<span style='color:red;'>C</span><span style='color:red;'>H</span><span style='color:red;'>H</span><span style='color:red;'>E</span>EEEE<span style='color:red;'>C</span>CCCCCCEEEEEE<span style='color:red;'>C</span><span style='color:red;'>C</span><span style='color:red;'>C</span>CCCC<span style='color:red;'>C</span>CCC<span style='color:red;'>H</span><span style='color:red;'>H</span>C<span style='color:red;'>H</span><span style='color:red;'>C</span><span style='color:red;'>C</span><span style='color:red;'>C</span><span style='color:red;'>C</span><span style='color:red;'>H</span>C<span style='color:red;'>H</span><span style='color:red;'>H</span><span style='color:red;'>H</span>CC"
            ]
          },
          "metadata": {}
        },
        {
          "output_type": "display_data",
          "data": {
            "text/plain": [
              "<IPython.core.display.HTML object>"
            ],
            "text/html": [
              "<hr>"
            ]
          },
          "metadata": {}
        },
        {
          "output_type": "display_data",
          "data": {
            "text/plain": [
              "<IPython.core.display.HTML object>"
            ],
            "text/html": [
              "<strong>Sequence:</strong> ENYSNTDPEELLRKHVFPSVPK"
            ]
          },
          "metadata": {}
        },
        {
          "output_type": "display_data",
          "data": {
            "text/plain": [
              "<IPython.core.display.HTML object>"
            ],
            "text/html": [
              "<strong>True Label:</strong> CCCECCCHHHHHHHCCCCCCCC<br><strong>Predicted Label:</strong> CCC<span style='color:red;'>C</span>CCCHHHHHHHC<span style='color:red;'>E</span>CCCCCC"
            ]
          },
          "metadata": {}
        },
        {
          "output_type": "display_data",
          "data": {
            "text/plain": [
              "<IPython.core.display.HTML object>"
            ],
            "text/html": [
              "<hr>"
            ]
          },
          "metadata": {}
        },
        {
          "output_type": "display_data",
          "data": {
            "text/plain": [
              "<IPython.core.display.HTML object>"
            ],
            "text/html": [
              "<strong>Sequence:</strong> GSGAGEAEERVVVISSSEDSDAENSSSRY"
            ]
          },
          "metadata": {}
        },
        {
          "output_type": "display_data",
          "data": {
            "text/plain": [
              "<IPython.core.display.HTML object>"
            ],
            "text/html": [
              "<strong>True Label:</strong> CCCCCCCCCCEEECCCCCCCCCCCCCCCC<br><strong>Predicted Label:</strong> CCCCCC<span style='color:red;'>H</span><span style='color:red;'>H</span><span style='color:red;'>H</span><span style='color:red;'>E</span>EEE<span style='color:red;'>E</span><span style='color:red;'>E</span>CCCCCCCCCCCCCC"
            ]
          },
          "metadata": {}
        },
        {
          "output_type": "display_data",
          "data": {
            "text/plain": [
              "<IPython.core.display.HTML object>"
            ],
            "text/html": [
              "<hr>"
            ]
          },
          "metadata": {}
        },
        {
          "output_type": "display_data",
          "data": {
            "text/plain": [
              "<IPython.core.display.HTML object>"
            ],
            "text/html": [
              "<strong>Sequence:</strong> MAGTTGERPFSDIITSVRYWVIHSITIPALFIAGWLFVSTGLAYDVFGTPRPDSYYAQEQRSIPLVTDRFEAKQQVETFLEQLK"
            ]
          },
          "metadata": {}
        },
        {
          "output_type": "display_data",
          "data": {
            "text/plain": [
              "<IPython.core.display.HTML object>"
            ],
            "text/html": [
              "<strong>True Label:</strong> CCCCCCCCCHHHHCCCHHHHHHHHHHHHHHHHHHHHHHHCCHHHHHHCCCCCCCCCCCCCCCCCCCCCCCCHHHHHHHHHHCCC<br><strong>Predicted Label:</strong> CCCCCCCCCHHHH<span style='color:red;'>H</span><span style='color:red;'>H</span><span style='color:red;'>E</span>HH<span style='color:red;'>E</span><span style='color:red;'>E</span><span style='color:red;'>E</span><span style='color:red;'>E</span><span style='color:red;'>E</span><span style='color:red;'>E</span><span style='color:red;'>E</span><span style='color:red;'>C</span><span style='color:red;'>E</span><span style='color:red;'>C</span>HHHHHH<span style='color:red;'>E</span><span style='color:red;'>E</span><span style='color:red;'>E</span><span style='color:red;'>E</span>HCC<span style='color:red;'>C</span>HHH<span style='color:red;'>E</span><span style='color:red;'>C</span>CCCCCCC<span style='color:red;'>H</span><span style='color:red;'>H</span>C<span style='color:red;'>H</span><span style='color:red;'>H</span><span style='color:red;'>H</span>CCCCCC<span style='color:red;'>H</span><span style='color:red;'>H</span><span style='color:red;'>H</span><span style='color:red;'>H</span><span style='color:red;'>H</span>HHHHHHHHHH<span style='color:red;'>H</span>CC"
            ]
          },
          "metadata": {}
        },
        {
          "output_type": "display_data",
          "data": {
            "text/plain": [
              "<IPython.core.display.HTML object>"
            ],
            "text/html": [
              "<hr>"
            ]
          },
          "metadata": {}
        },
        {
          "output_type": "display_data",
          "data": {
            "text/plain": [
              "<IPython.core.display.HTML object>"
            ],
            "text/html": [
              "<strong>Sequence:</strong> GNADE*YKELED*QERLRK*RKKLRS"
            ]
          },
          "metadata": {}
        },
        {
          "output_type": "display_data",
          "data": {
            "text/plain": [
              "<IPython.core.display.HTML object>"
            ],
            "text/html": [
              "<strong>True Label:</strong> CHHHHHHHHHHHHHHHHHHHHHHHHC<br><strong>Predicted Label:</strong> C<span style='color:red;'>C</span><span style='color:red;'>C</span><span style='color:red;'>C</span><span style='color:red;'>C</span>HHHHH<span style='color:red;'>C</span><span style='color:red;'>C</span>HHHHHHH<span style='color:red;'>C</span>HHH<span style='color:red;'>C</span><span style='color:red;'>C</span>C"
            ]
          },
          "metadata": {}
        },
        {
          "output_type": "display_data",
          "data": {
            "text/plain": [
              "<IPython.core.display.HTML object>"
            ],
            "text/html": [
              "<hr>"
            ]
          },
          "metadata": {}
        },
        {
          "output_type": "display_data",
          "data": {
            "text/plain": [
              "<IPython.core.display.HTML object>"
            ],
            "text/html": [
              "<strong>Sequence:</strong> *APAPFVPAA*AV*LA*LAAL*G"
            ]
          },
          "metadata": {}
        },
        {
          "output_type": "display_data",
          "data": {
            "text/plain": [
              "<IPython.core.display.HTML object>"
            ],
            "text/html": [
              "<strong>True Label:</strong> CCCCCCHHHHHHHHHHHHHHHCC<br><strong>Predicted Label:</strong> CCCCCC<span style='color:red;'>C</span><span style='color:red;'>C</span>H<span style='color:red;'>C</span>HHHHHHHHHH<span style='color:red;'>C</span>CC"
            ]
          },
          "metadata": {}
        },
        {
          "output_type": "display_data",
          "data": {
            "text/plain": [
              "<IPython.core.display.HTML object>"
            ],
            "text/html": [
              "<hr>"
            ]
          },
          "metadata": {}
        },
        {
          "output_type": "display_data",
          "data": {
            "text/plain": [
              "<IPython.core.display.HTML object>"
            ],
            "text/html": [
              "<strong>Sequence:</strong> VTPRRDAEYPPPELLEALKPLHDICAKKTGVTDEAIIEFSDGKIHEDEKLKCYMNCLFHEAKVVDDNGDVHLEKLHDSLPNSMHDIAMHMGKRCLYPEGENLCEKAFWLHKCWKQADPKHYFLV"
            ]
          },
          "metadata": {}
        },
        {
          "output_type": "display_data",
          "data": {
            "text/plain": [
              "<IPython.core.display.HTML object>"
            ],
            "text/html": [
              "<strong>True Label:</strong> CCCCCCCCCCCHHHHHHHHHHHHHHHHHHCCCHHHHHHHHHCCCCCCHHHHHHHHHHHHHCCCECCCCCECHHHHHHHCCHHHHHHHHHHHCCCCCCCCCCHHHHHHHHHHHHHHHCCCCCCCC<br><strong>Predicted Label:</strong> CCCCCCCCCCC<span style='color:red;'>C</span>HHHHHHH<span style='color:red;'>C</span>HHHHH<span style='color:red;'>C</span><span style='color:red;'>C</span><span style='color:red;'>C</span><span style='color:red;'>C</span>CCCHHHH<span style='color:red;'>E</span><span style='color:red;'>E</span><span style='color:red;'>E</span><span style='color:red;'>C</span><span style='color:red;'>C</span>CCCCCCHHHHHHHHH<span style='color:red;'>C</span><span style='color:red;'>E</span>HHC<span style='color:red;'>E</span><span style='color:red;'>E</span>ECCCCCE<span style='color:red;'>E</span>HHHHH<span style='color:red;'>C</span>HCC<span style='color:red;'>C</span><span style='color:red;'>C</span>HHHHHHH<span style='color:red;'>C</span><span style='color:red;'>C</span>CC<span style='color:red;'>E</span>CCCCCCCHHHHHH<span style='color:red;'>E</span>H<span style='color:red;'>E</span>HHHH<span style='color:red;'>C</span><span style='color:red;'>C</span>CCC<span style='color:red;'>E</span><span style='color:red;'>E</span><span style='color:red;'>E</span><span style='color:red;'>E</span>C"
            ]
          },
          "metadata": {}
        },
        {
          "output_type": "display_data",
          "data": {
            "text/plain": [
              "<IPython.core.display.HTML object>"
            ],
            "text/html": [
              "<hr>"
            ]
          },
          "metadata": {}
        },
        {
          "output_type": "display_data",
          "data": {
            "text/plain": [
              "<IPython.core.display.HTML object>"
            ],
            "text/html": [
              "<strong>Sequence:</strong> LSSNSSMNPKSLTDPKLLKNIPMWLKSLRLHKYSDALSGTPWIELIYLDDETLEKKGVLALGARRKLLKAFGIVIDYKERDLIDRSAY"
            ]
          },
          "metadata": {}
        },
        {
          "output_type": "display_data",
          "data": {
            "text/plain": [
              "<IPython.core.display.HTML object>"
            ],
            "text/html": [
              "<strong>True Label:</strong> CCCCCCCCHHHHCCHHHHCCHHHHHHHCCCHHHHHHHCCCCHHHHCCCCHHHHHHCCCCCHHHHHHHHHHHHHHHHHHHCCCCCHHHC<br><strong>Predicted Label:</strong> CCCCCCCC<span style='color:red;'>C</span><span style='color:red;'>C</span><span style='color:red;'>C</span><span style='color:red;'>C</span>CCHHHH<span style='color:red;'>H</span>C<span style='color:red;'>C</span><span style='color:red;'>C</span>HHHHH<span style='color:red;'>H</span><span style='color:red;'>H</span><span style='color:red;'>H</span><span style='color:red;'>E</span>HHHHH<span style='color:red;'>C</span>CCCC<span style='color:red;'>E</span>H<span style='color:red;'>E</span>H<span style='color:red;'>E</span><span style='color:red;'>E</span><span style='color:red;'>E</span>C<span style='color:red;'>C</span>HHHH<span style='color:red;'>C</span>CC<span style='color:red;'>E</span><span style='color:red;'>E</span><span style='color:red;'>E</span>HH<span style='color:red;'>C</span><span style='color:red;'>C</span>HHHHHHH<span style='color:red;'>E</span><span style='color:red;'>E</span><span style='color:red;'>E</span><span style='color:red;'>E</span><span style='color:red;'>E</span>H<span style='color:red;'>C</span>H<span style='color:red;'>H</span><span style='color:red;'>H</span><span style='color:red;'>H</span><span style='color:red;'>H</span><span style='color:red;'>H</span><span style='color:red;'>C</span><span style='color:red;'>C</span><span style='color:red;'>C</span>C"
            ]
          },
          "metadata": {}
        },
        {
          "output_type": "display_data",
          "data": {
            "text/plain": [
              "<IPython.core.display.HTML object>"
            ],
            "text/html": [
              "<hr>"
            ]
          },
          "metadata": {}
        },
        {
          "output_type": "display_data",
          "data": {
            "text/plain": [
              "<IPython.core.display.HTML object>"
            ],
            "text/html": [
              "<strong>Sequence:</strong> EADCGLRPLFEKKSLEDKTERELLESYID"
            ]
          },
          "metadata": {}
        },
        {
          "output_type": "display_data",
          "data": {
            "text/plain": [
              "<IPython.core.display.HTML object>"
            ],
            "text/html": [
              "<strong>True Label:</strong> CCCCCCCCCCHHHCCCCCCHHHHHHHCCC<br><strong>Predicted Label:</strong> CCCCCCC<span style='color:red;'>H</span><span style='color:red;'>H</span><span style='color:red;'>H</span><span style='color:red;'>C</span><span style='color:red;'>C</span><span style='color:red;'>C</span>C<span style='color:red;'>H</span><span style='color:red;'>H</span>CCCHHHHHHH<span style='color:red;'>H</span>CC"
            ]
          },
          "metadata": {}
        },
        {
          "output_type": "display_data",
          "data": {
            "text/plain": [
              "<IPython.core.display.HTML object>"
            ],
            "text/html": [
              "<hr>"
            ]
          },
          "metadata": {}
        },
        {
          "output_type": "display_data",
          "data": {
            "text/plain": [
              "<IPython.core.display.HTML object>"
            ],
            "text/html": [
              "<strong>Sequence:</strong> MHHHHHHSSGVDLGTENLYFQSMRKLHFSTAPPNPDAPWTPRVAGFNKRVFCAAVGRLAAMHARMAAVQLWDMSRPRTDEDLNELLGITTIRVTVCEGKNLLQRANELVNPDVVQDVDAATATRGRSAASR"
            ]
          },
          "metadata": {}
        },
        {
          "output_type": "display_data",
          "data": {
            "text/plain": [
              "<IPython.core.display.HTML object>"
            ],
            "text/html": [
              "<strong>True Label:</strong> CCCCCCCCCCCCCCCCCCCCCCCCCCCCCCCCCCCCCCCCHHHHHHHHHHHHHHHHHHHHHHHHHHHHHHHHHHCCCCHHHHHHHHHHCCEEEECCCHHHHHHHHHHCCCCCCCCCCCCCCCCCCCCCCCC<br><strong>Predicted Label:</strong> CCCCCCCCCCCCCCCCCCCC<span style='color:red;'>H</span><span style='color:red;'>H</span><span style='color:red;'>H</span><span style='color:red;'>H</span>CC<span style='color:red;'>E</span><span style='color:red;'>E</span>CCCCCCCCCCCC<span style='color:red;'>C</span>H<span style='color:red;'>C</span><span style='color:red;'>C</span><span style='color:red;'>C</span><span style='color:red;'>C</span><span style='color:red;'>C</span><span style='color:red;'>C</span><span style='color:red;'>C</span><span style='color:red;'>E</span><span style='color:red;'>E</span>HHHHHHHHHHHHHHHHHHH<span style='color:red;'>E</span>H<span style='color:red;'>C</span><span style='color:red;'>C</span>CCCC<span style='color:red;'>C</span>HHHHHHH<span style='color:red;'>C</span><span style='color:red;'>C</span><span style='color:red;'>E</span><span style='color:red;'>E</span>EEEE<span style='color:red;'>E</span><span style='color:red;'>E</span>C<span style='color:red;'>C</span><span style='color:red;'>C</span>HHHHHHHH<span style='color:red;'>H</span>CCC<span style='color:red;'>H</span><span style='color:red;'>H</span><span style='color:red;'>H</span><span style='color:red;'>H</span><span style='color:red;'>H</span><span style='color:red;'>H</span><span style='color:red;'>H</span><span style='color:red;'>H</span><span style='color:red;'>H</span><span style='color:red;'>H</span>CCCCCC<span style='color:red;'>H</span>CCC"
            ]
          },
          "metadata": {}
        },
        {
          "output_type": "display_data",
          "data": {
            "text/plain": [
              "<IPython.core.display.HTML object>"
            ],
            "text/html": [
              "<hr>"
            ]
          },
          "metadata": {}
        },
        {
          "output_type": "display_data",
          "data": {
            "text/plain": [
              "<IPython.core.display.HTML object>"
            ],
            "text/html": [
              "<strong>Sequence:</strong> APTRQPSPVTRPWQHVDAIKEALSLLNDSTDTAAVMDETVEVVSEMFDSQEPTCLQTRLELYKQGLRGSLTSLTGSLTMMASHYKKHCPPTQETSCETQIITFKSFKENLKDFLFIIPFDCWEPVQK"
            ]
          },
          "metadata": {}
        },
        {
          "output_type": "display_data",
          "data": {
            "text/plain": [
              "<IPython.core.display.HTML object>"
            ],
            "text/html": [
              "<strong>True Label:</strong> CCCCCCCCCCCCCHHHHHHHHHHHHHHCCCCCHHHHCCEEEEECCCCCCCCCCCHHHHHHHHHHHCCHHHHHHHHHHHHHHHHHHHHCCCCCCCCCCEEEEEHHHHHHHHHHHHHHCCCCCCCCCCC<br><strong>Predicted Label:</strong> CCCCCCCCCCCCC<span style='color:red;'>C</span>HHHHHHHHHHHH<span style='color:red;'>C</span>CCCC<span style='color:red;'>H</span>HHHHC<span style='color:red;'>H</span><span style='color:red;'>C</span>EEE<span style='color:red;'>H</span><span style='color:red;'>H</span><span style='color:red;'>H</span><span style='color:red;'>H</span><span style='color:red;'>H</span>CCCCCC<span style='color:red;'>E</span>HHHHHHHHHH<span style='color:red;'>C</span>CC<span style='color:red;'>C</span><span style='color:red;'>C</span><span style='color:red;'>C</span><span style='color:red;'>C</span><span style='color:red;'>C</span><span style='color:red;'>C</span><span style='color:red;'>C</span><span style='color:red;'>C</span><span style='color:red;'>C</span><span style='color:red;'>E</span>HHH<span style='color:red;'>C</span><span style='color:red;'>C</span>HHH<span style='color:red;'>C</span><span style='color:red;'>C</span>CCCCCCCCC<span style='color:red;'>H</span><span style='color:red;'>C</span>EEEE<span style='color:red;'>E</span><span style='color:red;'>E</span><span style='color:red;'>C</span>HHHHHHHH<span style='color:red;'>E</span><span style='color:red;'>E</span><span style='color:red;'>E</span><span style='color:red;'>E</span><span style='color:red;'>E</span><span style='color:red;'>E</span>CCCCCCCC"
            ]
          },
          "metadata": {}
        },
        {
          "output_type": "display_data",
          "data": {
            "text/plain": [
              "<IPython.core.display.HTML object>"
            ],
            "text/html": [
              "<hr>"
            ]
          },
          "metadata": {}
        },
        {
          "output_type": "display_data",
          "data": {
            "text/plain": [
              "<IPython.core.display.HTML object>"
            ],
            "text/html": [
              "<strong>Sequence:</strong> MKYCKFCCKAVTGVKLIHVPKCAIKRKLWEQSLGCSLGENSQICDTHFNDSQWKAAPAKGQTFKRRRLNADAVPSKV"
            ]
          },
          "metadata": {}
        },
        {
          "output_type": "display_data",
          "data": {
            "text/plain": [
              "<IPython.core.display.HTML object>"
            ],
            "text/html": [
              "<strong>True Label:</strong> CCEECCCCEECCCCCEEECCCCHHHHHHHHHHHCCCCCCCCEEEHHHCCHHHECCCCCCCCCCCCCCECCCCCCCCC<br><strong>Predicted Label:</strong> CC<span style='color:red;'>C</span><span style='color:red;'>C</span>C<span style='color:red;'>E</span><span style='color:red;'>E</span><span style='color:red;'>E</span>E<span style='color:red;'>C</span>CCC<span style='color:red;'>E</span><span style='color:red;'>E</span>EEECCC<span style='color:red;'>H</span>H<span style='color:red;'>E</span>HHHHHHH<span style='color:red;'>C</span><span style='color:red;'>C</span>CCCCCCCC<span style='color:red;'>C</span>E<span style='color:red;'>H</span><span style='color:red;'>C</span><span style='color:red;'>C</span>HCC<span style='color:red;'>C</span><span style='color:red;'>C</span>H<span style='color:red;'>H</span>CCCCCCCC<span style='color:red;'>E</span><span style='color:red;'>E</span><span style='color:red;'>H</span>C<span style='color:red;'>H</span><span style='color:red;'>H</span><span style='color:red;'>H</span>C<span style='color:red;'>H</span>CCCCCCC"
            ]
          },
          "metadata": {}
        },
        {
          "output_type": "display_data",
          "data": {
            "text/plain": [
              "<IPython.core.display.HTML object>"
            ],
            "text/html": [
              "<hr>"
            ]
          },
          "metadata": {}
        },
        {
          "output_type": "display_data",
          "data": {
            "text/plain": [
              "<IPython.core.display.HTML object>"
            ],
            "text/html": [
              "<strong>Sequence:</strong> TSNTPNQEPVSYPIFTVRWVAVHTLAVPTIFFLGAIAAMQFIQR"
            ]
          },
          "metadata": {}
        },
        {
          "output_type": "display_data",
          "data": {
            "text/plain": [
              "<IPython.core.display.HTML object>"
            ],
            "text/html": [
              "<strong>True Label:</strong> CCCCCCCCCCCCCCCCHHHHHHHHHHHHHHHHHHHHHHHCCCCC<br><strong>Predicted Label:</strong> CCCCCCCCCCCCC<span style='color:red;'>E</span><span style='color:red;'>E</span><span style='color:red;'>E</span><span style='color:red;'>E</span><span style='color:red;'>E</span><span style='color:red;'>E</span><span style='color:red;'>E</span><span style='color:red;'>E</span>HH<span style='color:red;'>E</span><span style='color:red;'>E</span><span style='color:red;'>C</span><span style='color:red;'>C</span><span style='color:red;'>C</span><span style='color:red;'>E</span><span style='color:red;'>E</span><span style='color:red;'>E</span><span style='color:red;'>E</span>HHHHHHH<span style='color:red;'>H</span><span style='color:red;'>H</span><span style='color:red;'>H</span>CC"
            ]
          },
          "metadata": {}
        },
        {
          "output_type": "display_data",
          "data": {
            "text/plain": [
              "<IPython.core.display.HTML object>"
            ],
            "text/html": [
              "<hr>"
            ]
          },
          "metadata": {}
        },
        {
          "output_type": "display_data",
          "data": {
            "text/plain": [
              "<IPython.core.display.HTML object>"
            ],
            "text/html": [
              "<strong>Sequence:</strong> GCMNGGGDLAGKWQLRQYQYADGTSEKVDSVFYNFQKGSFSAICLLKDGGLTTFFGNYSLKGAEISIILLPESVNDKNYDTYFGWPEGKCTFKVEDLSYSSLRLEYEGTKSIFRKF"
            ]
          },
          "metadata": {}
        },
        {
          "output_type": "display_data",
          "data": {
            "text/plain": [
              "<IPython.core.display.HTML object>"
            ],
            "text/html": [
              "<strong>True Label:</strong> CCCCCCCCCCEEEEEEEEECCCCCEEEEEEEEEEEECCEEEEEEECCCCCEEEEEEEEEEECCEEEEEECHHHHCCCCHHHHCCCHHHEEEEEEEEECCCEEEEEECCEEEEEEEC<br><strong>Predicted Label:</strong> CCCCCCCCCC<span style='color:red;'>C</span>EEEE<span style='color:red;'>H</span><span style='color:red;'>H</span><span style='color:red;'>H</span><span style='color:red;'>H</span>CCCCC<span style='color:red;'>C</span><span style='color:red;'>C</span><span style='color:red;'>C</span><span style='color:red;'>C</span><span style='color:red;'>H</span>E<span style='color:red;'>H</span>EE<span style='color:red;'>H</span><span style='color:red;'>H</span><span style='color:red;'>C</span>CC<span style='color:red;'>C</span>EEEEE<span style='color:red;'>H</span><span style='color:red;'>E</span>CCCC<span style='color:red;'>C</span>EE<span style='color:red;'>H</span>E<span style='color:red;'>C</span><span style='color:red;'>C</span>E<span style='color:red;'>C</span>E<span style='color:red;'>C</span>CCEEEEEEC<span style='color:red;'>C</span>HHHCCCC<span style='color:red;'>C</span><span style='color:red;'>C</span><span style='color:red;'>C</span>HCCC<span style='color:red;'>C</span><span style='color:red;'>C</span><span style='color:red;'>C</span>EEEEEEE<span style='color:red;'>C</span><span style='color:red;'>C</span>C<span style='color:red;'>H</span><span style='color:red;'>H</span><span style='color:red;'>H</span>EEEEECC<span style='color:red;'>C</span>EE<span style='color:red;'>H</span><span style='color:red;'>H</span><span style='color:red;'>C</span><span style='color:red;'>C</span>C"
            ]
          },
          "metadata": {}
        },
        {
          "output_type": "display_data",
          "data": {
            "text/plain": [
              "<IPython.core.display.HTML object>"
            ],
            "text/html": [
              "<hr>"
            ]
          },
          "metadata": {}
        },
        {
          "output_type": "display_data",
          "data": {
            "text/plain": [
              "<IPython.core.display.HTML object>"
            ],
            "text/html": [
              "<strong>Sequence:</strong> YNFSNCNFTSITKIYCNIIFHDLTGDLKGAKFEQIEDCESKPACLLKIEYYTLNPIPGCPSLPDKTFARRTREALNDHCPGYPETERNDGTQEMAQEVQNICLQQTSQILRLWYSFMQSPEGTKHHHHHH"
            ]
          },
          "metadata": {}
        },
        {
          "output_type": "display_data",
          "data": {
            "text/plain": [
              "<IPython.core.display.HTML object>"
            ],
            "text/html": [
              "<strong>True Label:</strong> CCHHHCCHHHHHHHHHHCHHHHHHHHHCCCCCCCCCCCCCHHHHHHHHHHHHHCCECCECCHHHCHHHHHHHHHHHHHCCCCCCCCCCCCCCCCCCCCHHHHHHHHHHHHHHHHHHHHCCCCCCCCCCCC<br><strong>Predicted Label:</strong> CC<span style='color:red;'>C</span><span style='color:red;'>C</span><span style='color:red;'>C</span>CC<span style='color:red;'>C</span><span style='color:red;'>E</span><span style='color:red;'>C</span>H<span style='color:red;'>C</span><span style='color:red;'>E</span><span style='color:red;'>E</span><span style='color:red;'>E</span>H<span style='color:red;'>E</span><span style='color:red;'>E</span><span style='color:red;'>E</span><span style='color:red;'>E</span><span style='color:red;'>E</span><span style='color:red;'>C</span><span style='color:red;'>C</span><span style='color:red;'>C</span><span style='color:red;'>C</span><span style='color:red;'>C</span><span style='color:red;'>C</span>CCCC<span style='color:red;'>H</span><span style='color:red;'>H</span><span style='color:red;'>H</span><span style='color:red;'>H</span><span style='color:red;'>H</span><span style='color:red;'>H</span>CCC<span style='color:red;'>C</span><span style='color:red;'>C</span><span style='color:red;'>C</span>H<span style='color:red;'>E</span><span style='color:red;'>E</span><span style='color:red;'>E</span><span style='color:red;'>E</span><span style='color:red;'>E</span><span style='color:red;'>E</span><span style='color:red;'>E</span><span style='color:red;'>E</span><span style='color:red;'>C</span>CC<span style='color:red;'>C</span>CC<span style='color:red;'>C</span>CC<span style='color:red;'>C</span><span style='color:red;'>C</span><span style='color:red;'>C</span>C<span style='color:red;'>C</span>HHH<span style='color:red;'>C</span><span style='color:red;'>C</span>HHHHH<span style='color:red;'>C</span><span style='color:red;'>C</span>CCCCCCCCCCCCC<span style='color:red;'>H</span><span style='color:red;'>H</span><span style='color:red;'>H</span><span style='color:red;'>H</span><span style='color:red;'>H</span><span style='color:red;'>H</span><span style='color:red;'>H</span>HHHHH<span style='color:red;'>C</span>HHHHHHHH<span style='color:red;'>E</span>HHH<span style='color:red;'>C</span><span style='color:red;'>C</span>CCCCCCCCCCCC"
            ]
          },
          "metadata": {}
        },
        {
          "output_type": "display_data",
          "data": {
            "text/plain": [
              "<IPython.core.display.HTML object>"
            ],
            "text/html": [
              "<hr>"
            ]
          },
          "metadata": {}
        },
        {
          "output_type": "display_data",
          "data": {
            "text/plain": [
              "<IPython.core.display.HTML object>"
            ],
            "text/html": [
              "<strong>Sequence:</strong> EDWLTFQKKHITNTRDVDCDNIMSTNLFHAKDKNTFIYSRPEPVKAICKGIIASKNVLTTSEFYLSDCNVTSRPAKYKLKKSTNKFCVTCENQAPVHFVGVGSC"
            ]
          },
          "metadata": {}
        },
        {
          "output_type": "display_data",
          "data": {
            "text/plain": [
              "<IPython.core.display.HTML object>"
            ],
            "text/html": [
              "<strong>True Label:</strong> CCHHHHHHHHEECCCCCCHHHHCCCCCCCCCCEEEEEECCHHHHHHHHCCCCCCEEEECCCCEEEEEEEECCCCCCEEEEEEEECEEEEEECCEEEEEEEECCC<br><strong>Predicted Label:</strong> CC<span style='color:red;'>C</span><span style='color:red;'>E</span>H<span style='color:red;'>E</span>H<span style='color:red;'>C</span><span style='color:red;'>C</span><span style='color:red;'>C</span>E<span style='color:red;'>C</span>CCCCCC<span style='color:red;'>C</span><span style='color:red;'>C</span><span style='color:red;'>C</span>HCCCC<span style='color:red;'>H</span><span style='color:red;'>H</span><span style='color:red;'>H</span>CCC<span style='color:red;'>C</span><span style='color:red;'>C</span>EEEECC<span style='color:red;'>C</span><span style='color:red;'>C</span><span style='color:red;'>C</span>HH<span style='color:red;'>E</span><span style='color:red;'>E</span>H<span style='color:red;'>H</span>C<span style='color:red;'>E</span><span style='color:red;'>E</span><span style='color:red;'>E</span><span style='color:red;'>E</span><span style='color:red;'>H</span><span style='color:red;'>C</span><span style='color:red;'>H</span><span style='color:red;'>C</span>CCC<span style='color:red;'>H</span>EE<span style='color:red;'>H</span><span style='color:red;'>C</span><span style='color:red;'>C</span><span style='color:red;'>C</span><span style='color:red;'>C</span><span style='color:red;'>C</span>CCCCCC<span style='color:red;'>C</span><span style='color:red;'>H</span>E<span style='color:red;'>C</span><span style='color:red;'>H</span><span style='color:red;'>C</span><span style='color:red;'>C</span><span style='color:red;'>C</span>CEEEE<span style='color:red;'>C</span><span style='color:red;'>H</span>CC<span style='color:red;'>C</span><span style='color:red;'>C</span>EEEEE<span style='color:red;'>C</span>CCC"
            ]
          },
          "metadata": {}
        },
        {
          "output_type": "display_data",
          "data": {
            "text/plain": [
              "<IPython.core.display.HTML object>"
            ],
            "text/html": [
              "<hr>"
            ]
          },
          "metadata": {}
        },
        {
          "output_type": "display_data",
          "data": {
            "text/plain": [
              "<IPython.core.display.HTML object>"
            ],
            "text/html": [
              "<strong>Sequence:</strong> MHHHHHHEPKERDKEEGKDSKPRSLRFTWSMKTTSSMDPNDMMREIRKVLDANNCDYEQKERFLLFCVHGDARQDSLVQWEMEVCKLPRLSLNGVRFKRISGTSIAFKNIASKIANELKL"
            ]
          },
          "metadata": {}
        },
        {
          "output_type": "display_data",
          "data": {
            "text/plain": [
              "<IPython.core.display.HTML object>"
            ],
            "text/html": [
              "<strong>True Label:</strong> CCCCCCCCCCCCCCCCCCCCCCCECCCCCCCCCEECCCHHHHHHHHHHHHHHCCCEEEEEECCEEEEEECCCCCCCCEEEEEEEEEEHHHCEEEEEEEEEECCHHHHHHHHHHHHHHCCC<br><strong>Predicted Label:</strong> CCCCCCCCCC<span style='color:red;'>H</span>CCCCCCCCCCCCE<span style='color:red;'>E</span><span style='color:red;'>E</span><span style='color:red;'>E</span><span style='color:red;'>E</span><span style='color:red;'>E</span><span style='color:red;'>E</span><span style='color:red;'>E</span>CC<span style='color:red;'>C</span><span style='color:red;'>C</span>CCC<span style='color:red;'>C</span><span style='color:red;'>C</span><span style='color:red;'>C</span>HHHHHHHHHH<span style='color:red;'>C</span>CCC<span style='color:red;'>C</span><span style='color:red;'>C</span><span style='color:red;'>C</span><span style='color:red;'>H</span><span style='color:red;'>H</span><span style='color:red;'>H</span><span style='color:red;'>H</span><span style='color:red;'>E</span>EEEEE<span style='color:red;'>C</span>CCCC<span style='color:red;'>H</span><span style='color:red;'>H</span><span style='color:red;'>H</span><span style='color:red;'>H</span><span style='color:red;'>H</span><span style='color:red;'>H</span><span style='color:red;'>H</span><span style='color:red;'>H</span>E<span style='color:red;'>H</span><span style='color:red;'>H</span><span style='color:red;'>C</span><span style='color:red;'>C</span><span style='color:red;'>C</span><span style='color:red;'>C</span><span style='color:red;'>C</span><span style='color:red;'>C</span>CE<span style='color:red;'>C</span><span style='color:red;'>C</span><span style='color:red;'>C</span>EEE<span style='color:red;'>C</span>E<span style='color:red;'>C</span>CC<span style='color:red;'>E</span><span style='color:red;'>E</span><span style='color:red;'>E</span>HHHHHHHHHHHCCC"
            ]
          },
          "metadata": {}
        },
        {
          "output_type": "display_data",
          "data": {
            "text/plain": [
              "<IPython.core.display.HTML object>"
            ],
            "text/html": [
              "<hr>"
            ]
          },
          "metadata": {}
        },
        {
          "output_type": "display_data",
          "data": {
            "text/plain": [
              "<IPython.core.display.HTML object>"
            ],
            "text/html": [
              "<strong>Sequence:</strong> GSMRTEKDIENYLKKKTKGLCLKFTSPGTIGVPDRIVVMNTGTFFVEVKAPGKKPRPSQVAMHKKIKEAGQHVWVVDSYESVDMALKEMENW"
            ]
          },
          "metadata": {}
        },
        {
          "output_type": "display_data",
          "data": {
            "text/plain": [
              "<IPython.core.display.HTML object>"
            ],
            "text/html": [
              "<strong>True Label:</strong> CCCCCHHHHHHHHHHHCCCEEEECCCCCCCCCCCEEEEECCEEEEEEECCCCCCCCHHHHHHHHHHHHHCCCEEEECCHHHHHHHHHHHHCC<br><strong>Predicted Label:</strong> CCCCCHH<span style='color:red;'>C</span>HHHHHHH<span style='color:red;'>C</span>CCC<span style='color:red;'>C</span>EEECCCCCCCCCC<span style='color:red;'>H</span><span style='color:red;'>H</span>EEEE<span style='color:red;'>E</span>C<span style='color:red;'>C</span>EEEEEE<span style='color:red;'>E</span>CCCCCCC<span style='color:red;'>C</span><span style='color:red;'>C</span>HHHHH<span style='color:red;'>C</span>HHHHHCC<span style='color:red;'>E</span>EEEE<span style='color:red;'>E</span>CH<span style='color:red;'>C</span><span style='color:red;'>C</span>HHHHHHHH<span style='color:red;'>C</span>CC"
            ]
          },
          "metadata": {}
        },
        {
          "output_type": "display_data",
          "data": {
            "text/plain": [
              "<IPython.core.display.HTML object>"
            ],
            "text/html": [
              "<hr>"
            ]
          },
          "metadata": {}
        },
        {
          "output_type": "display_data",
          "data": {
            "text/plain": [
              "<IPython.core.display.HTML object>"
            ],
            "text/html": [
              "<strong>Sequence:</strong> SGVKGFVKDSITGSGLENATISVAGINHNITTGRFGDFYRLLVPGTYNLTVVLTGYMPLTVTNVVVKEGPATEVDFSLRPHH"
            ]
          },
          "metadata": {}
        },
        {
          "output_type": "display_data",
          "data": {
            "text/plain": [
              "<IPython.core.display.HTML object>"
            ],
            "text/html": [
              "<strong>True Label:</strong> CEEEEEEEECCCCCECCCCEEEECCCCCCEECCCCCEEEEECCCEEEEEEEECCCECCEEEEEEEECCCCCEECCEEECECC<br><strong>Predicted Label:</strong> C<span style='color:red;'>C</span><span style='color:red;'>C</span><span style='color:red;'>C</span><span style='color:red;'>C</span><span style='color:red;'>H</span><span style='color:red;'>C</span><span style='color:red;'>H</span><span style='color:red;'>C</span><span style='color:red;'>H</span>CCCC<span style='color:red;'>C</span>CCCC<span style='color:red;'>C</span>EEE<span style='color:red;'>E</span>CCCCC<span style='color:red;'>C</span><span style='color:red;'>C</span>CCCCC<span style='color:red;'>C</span><span style='color:red;'>H</span><span style='color:red;'>H</span><span style='color:red;'>H</span>E<span style='color:red;'>E</span>CC<span style='color:red;'>C</span>EEEEEEE<span style='color:red;'>E</span><span style='color:red;'>E</span>C<span style='color:red;'>C</span>CCEEEEEE<span style='color:red;'>H</span>E<span style='color:red;'>E</span>CCCC<span style='color:red;'>C</span><span style='color:red;'>H</span><span style='color:red;'>E</span>CEEEC<span style='color:red;'>C</span>CC"
            ]
          },
          "metadata": {}
        },
        {
          "output_type": "display_data",
          "data": {
            "text/plain": [
              "<IPython.core.display.HTML object>"
            ],
            "text/html": [
              "<hr>"
            ]
          },
          "metadata": {}
        },
        {
          "output_type": "display_data",
          "data": {
            "text/plain": [
              "<IPython.core.display.HTML object>"
            ],
            "text/html": [
              "<strong>Sequence:</strong> MSWIEPIISHFCQDLGVPTSSPLSPLIQLEMAQSGTLQLEQHGATLTLWLARSLAWHRCEDAMVKALTLTAAQKSGALPLRAGWLGESQLVLFVSLDERSLTLPLLHQAFEQLLRLQQEVLAPP"
            ]
          },
          "metadata": {}
        },
        {
          "output_type": "display_data",
          "data": {
            "text/plain": [
              "<IPython.core.display.HTML object>"
            ],
            "text/html": [
              "<strong>True Label:</strong> CCCCHHHHHHHHHHCCCCCCCCCCCEEEEEECCCEEEEEEEECCEEEEEEEEECCHHHHHHHHHHHHHHCCHHHCCCCCCEEEEECCCEEEEEEEEEHHHCCHHHHHHHHHHHHHHHHHHHCCC<br><strong>Predicted Label:</strong> CCCCHHHHHHHHH<span style='color:red;'>C</span>CCCCCCCCCC<span style='color:red;'>H</span><span style='color:red;'>H</span><span style='color:red;'>H</span><span style='color:red;'>H</span><span style='color:red;'>H</span><span style='color:red;'>H</span><span style='color:red;'>H</span>CCC<span style='color:red;'>C</span>EEE<span style='color:red;'>H</span><span style='color:red;'>H</span><span style='color:red;'>H</span><span style='color:red;'>C</span>CCEEEE<span style='color:red;'>H</span>E<span style='color:red;'>H</span><span style='color:red;'>H</span><span style='color:red;'>H</span><span style='color:red;'>H</span><span style='color:red;'>H</span>HHH<span style='color:red;'>C</span>HHHHHHH<span style='color:red;'>E</span><span style='color:red;'>E</span><span style='color:red;'>E</span><span style='color:red;'>H</span><span style='color:red;'>H</span>HHHCCCCCC<span style='color:red;'>C</span><span style='color:red;'>H</span><span style='color:red;'>H</span><span style='color:red;'>H</span><span style='color:red;'>C</span>C<span style='color:red;'>H</span>CEEEEEEE<span style='color:red;'>H</span><span style='color:red;'>C</span><span style='color:red;'>C</span><span style='color:red;'>C</span><span style='color:red;'>C</span>CCH<span style='color:red;'>C</span>HHHHHHHHHHHHHHHH<span style='color:red;'>C</span>CCC"
            ]
          },
          "metadata": {}
        },
        {
          "output_type": "display_data",
          "data": {
            "text/plain": [
              "<IPython.core.display.HTML object>"
            ],
            "text/html": [
              "<hr>"
            ]
          },
          "metadata": {}
        },
        {
          "output_type": "display_data",
          "data": {
            "text/plain": [
              "<IPython.core.display.HTML object>"
            ],
            "text/html": [
              "<strong>Sequence:</strong> GENIVCRVICTTGQIPIRDLSADISQVLKEKRSIKKVWTFGRNPACDYHLGNISRLSNKHFQILLGEDGNLLLNDISTNGTWLNGQKVEKNSNQLLSQGDEITVGVGVESDILSLVIFINDKFKQCL"
            ]
          },
          "metadata": {}
        },
        {
          "output_type": "display_data",
          "data": {
            "text/plain": [
              "<IPython.core.display.HTML object>"
            ],
            "text/html": [
              "<strong>True Label:</strong> CCEEEEEEEECCCCCCCEEEEECHHHHHHCCCCCCEEEEEECCCCCCEECCCCCCCCCCCEEEEECCCCCEEEEECCCCCCEECCEECCCCCCEECCCCCEEEECCCCHHHCEEEEEEECHHHHHHC<br><strong>Predicted Label:</strong> CC<span style='color:red;'>C</span>EEEEEEE<span style='color:red;'>E</span>CCCCC<span style='color:red;'>H</span><span style='color:red;'>C</span><span style='color:red;'>H</span><span style='color:red;'>H</span><span style='color:red;'>H</span><span style='color:red;'>H</span><span style='color:red;'>H</span>HHHHHH<span style='color:red;'>H</span><span style='color:red;'>H</span>CC<span style='color:red;'>H</span><span style='color:red;'>H</span><span style='color:red;'>H</span>EEEE<span style='color:red;'>C</span>CCCCCC<span style='color:red;'>C</span><span style='color:red;'>C</span>CCC<span style='color:red;'>H</span>C<span style='color:red;'>H</span><span style='color:red;'>H</span>CC<span style='color:red;'>H</span>CE<span style='color:red;'>H</span>E<span style='color:red;'>H</span><span style='color:red;'>C</span>CCCCCEE<span style='color:red;'>H</span><span style='color:red;'>H</span><span style='color:red;'>H</span>CCCCCCEECC<span style='color:red;'>C</span><span style='color:red;'>C</span>CCCCC<span style='color:red;'>H</span><span style='color:red;'>H</span><span style='color:red;'>H</span><span style='color:red;'>H</span><span style='color:red;'>H</span>CCCEEEECCC<span style='color:red;'>E</span><span style='color:red;'>C</span>HH<span style='color:red;'>H</span><span style='color:red;'>H</span><span style='color:red;'>H</span>EEEEEC<span style='color:red;'>C</span>H<span style='color:red;'>C</span>HHHC"
            ]
          },
          "metadata": {}
        },
        {
          "output_type": "display_data",
          "data": {
            "text/plain": [
              "<IPython.core.display.HTML object>"
            ],
            "text/html": [
              "<hr>"
            ]
          },
          "metadata": {}
        },
        {
          "output_type": "display_data",
          "data": {
            "text/plain": [
              "<IPython.core.display.HTML object>"
            ],
            "text/html": [
              "<strong>Sequence:</strong> MIVGNLGAQKAKRNDTPISAKKDIMGDKTVRVRADLHHIIKIETAKNGGNVKEVMDQALEEYIRKYLPDKL"
            ]
          },
          "metadata": {}
        },
        {
          "output_type": "display_data",
          "data": {
            "text/plain": [
              "<IPython.core.display.HTML object>"
            ],
            "text/html": [
              "<strong>True Label:</strong> CCCCCCCCCCCCCCCCCCCCCCCCCCEEEEEEEHHHHHHHHHHHHHCCCCHHHHHHHHHHHHHHHHCHHHC<br><strong>Predicted Label:</strong> C<span style='color:red;'>E</span><span style='color:red;'>H</span><span style='color:red;'>H</span>CCC<span style='color:red;'>H</span><span style='color:red;'>H</span><span style='color:red;'>H</span><span style='color:red;'>H</span><span style='color:red;'>H</span>CCCCCCCC<span style='color:red;'>H</span><span style='color:red;'>H</span><span style='color:red;'>H</span><span style='color:red;'>H</span>CC<span style='color:red;'>C</span><span style='color:red;'>C</span>EEEE<span style='color:red;'>H</span>H<span style='color:red;'>C</span>HHHH<span style='color:red;'>E</span><span style='color:red;'>E</span><span style='color:red;'>E</span><span style='color:red;'>E</span>HH<span style='color:red;'>C</span>CCCC<span style='color:red;'>C</span>HHHHHHHHHHHHHHHC<span style='color:red;'>C</span><span style='color:red;'>C</span><span style='color:red;'>C</span>C"
            ]
          },
          "metadata": {}
        },
        {
          "output_type": "display_data",
          "data": {
            "text/plain": [
              "<IPython.core.display.HTML object>"
            ],
            "text/html": [
              "<hr>"
            ]
          },
          "metadata": {}
        },
        {
          "output_type": "display_data",
          "data": {
            "text/plain": [
              "<IPython.core.display.HTML object>"
            ],
            "text/html": [
              "<strong>Sequence:</strong> WSATNEEDDLSVEAEIAHQIAESFSKKYKFPSRSSGIFLYNFEQLKMNLDDIVKEAKNVPGVTRLAHDGSKIPLRCVLGWVALANSKKFQLLVEADKLSKIMQDDLNRYTSC"
            ]
          },
          "metadata": {}
        },
        {
          "output_type": "display_data",
          "data": {
            "text/plain": [
              "<IPython.core.display.HTML object>"
            ],
            "text/html": [
              "<strong>True Label:</strong> CCCCHHHHHHHHHHHHHHHHHHCCCCCEEEEECCCCEEEECHHHHCCCHHHHHHHHCCCCCHHHHHHCCCCCCHHHHHHHHHHHHCHHHHHHECHHHHHHHHHHHHHCCCCC<br><strong>Predicted Label:</strong> CCCC<span style='color:red;'>C</span><span style='color:red;'>C</span><span style='color:red;'>C</span><span style='color:red;'>C</span><span style='color:red;'>C</span><span style='color:red;'>C</span><span style='color:red;'>C</span>HHHHHHHHHHH<span style='color:red;'>H</span><span style='color:red;'>H</span>CCC<span style='color:red;'>C</span><span style='color:red;'>C</span><span style='color:red;'>C</span><span style='color:red;'>C</span><span style='color:red;'>C</span>CCCCEEEE<span style='color:red;'>H</span>HHHH<span style='color:red;'>H</span><span style='color:red;'>H</span>CHHHHHHHHCCCCC<span style='color:red;'>C</span><span style='color:red;'>C</span><span style='color:red;'>E</span>H<span style='color:red;'>C</span><span style='color:red;'>C</span>CCCCCC<span style='color:red;'>E</span><span style='color:red;'>E</span><span style='color:red;'>E</span>H<span style='color:red;'>E</span><span style='color:red;'>E</span><span style='color:red;'>E</span>H<span style='color:red;'>E</span>HHHC<span style='color:red;'>C</span><span style='color:red;'>C</span><span style='color:red;'>E</span><span style='color:red;'>E</span>HH<span style='color:red;'>H</span><span style='color:red;'>H</span>HHHHHHHHHHHHH<span style='color:red;'>H</span>CCCC"
            ]
          },
          "metadata": {}
        },
        {
          "output_type": "display_data",
          "data": {
            "text/plain": [
              "<IPython.core.display.HTML object>"
            ],
            "text/html": [
              "<hr>"
            ]
          },
          "metadata": {}
        },
        {
          "output_type": "display_data",
          "data": {
            "text/plain": [
              "<IPython.core.display.HTML object>"
            ],
            "text/html": [
              "<strong>Sequence:</strong> GMTQPHQIILLAHGSSDARWCETFEKLAEPTVESIENAAIAYMELAEPSLDTIVNRAKGQGVEQFTVVPLFLAAGRHLRKDVPAMIERLEAEHGVTIRLAEPIGKNPRLGLAIRDVVKEELERSEH"
            ]
          },
          "metadata": {}
        },
        {
          "output_type": "display_data",
          "data": {
            "text/plain": [
              "<IPython.core.display.HTML object>"
            ],
            "text/html": [
              "<strong>True Label:</strong> CCCCCEEEEEEECCCCCHHHHHHHHHHHHHHHHHCCCEEEEECCCCCCEHHHHHHHHHHCCCCEEEEEECCCCCCCCHHHHHHHHHHHHHHHHCCEEEECCCHHHCHHHHHHHHHHHHHHHHHHHC<br><strong>Predicted Label:</strong> CCCCC<span style='color:red;'>C</span>EEEEE<span style='color:red;'>H</span>CCCCC<span style='color:red;'>C</span>HHHHHHHHH<span style='color:red;'>C</span><span style='color:red;'>C</span><span style='color:red;'>C</span><span style='color:red;'>C</span>HHH<span style='color:red;'>H</span><span style='color:red;'>H</span><span style='color:red;'>H</span><span style='color:red;'>H</span><span style='color:red;'>H</span><span style='color:red;'>H</span><span style='color:red;'>H</span><span style='color:red;'>H</span><span style='color:red;'>H</span><span style='color:red;'>H</span><span style='color:red;'>H</span>CCC<span style='color:red;'>C</span>H<span style='color:red;'>C</span>HHHHHH<span style='color:red;'>C</span><span style='color:red;'>C</span>CC<span style='color:red;'>H</span><span style='color:red;'>H</span>EEEEEE<span style='color:red;'>H</span><span style='color:red;'>H</span><span style='color:red;'>H</span><span style='color:red;'>H</span>CC<span style='color:red;'>H</span><span style='color:red;'>H</span><span style='color:red;'>C</span>H<span style='color:red;'>C</span><span style='color:red;'>C</span><span style='color:red;'>C</span>HHHHHHHHHH<span style='color:red;'>C</span>CCEEEECC<span style='color:red;'>H</span><span style='color:red;'>C</span><span style='color:red;'>C</span><span style='color:red;'>C</span>C<span style='color:red;'>C</span><span style='color:red;'>C</span><span style='color:red;'>C</span><span style='color:red;'>C</span>HHHHHHHHHHHH<span style='color:red;'>C</span><span style='color:red;'>C</span><span style='color:red;'>C</span>C"
            ]
          },
          "metadata": {}
        },
        {
          "output_type": "display_data",
          "data": {
            "text/plain": [
              "<IPython.core.display.HTML object>"
            ],
            "text/html": [
              "<hr>"
            ]
          },
          "metadata": {}
        },
        {
          "output_type": "display_data",
          "data": {
            "text/plain": [
              "<IPython.core.display.HTML object>"
            ],
            "text/html": [
              "<strong>Sequence:</strong> SMSGISPKKSKYMTPMQQKLNEVYEAVKNYTDKRGRRLSAIFLRLPSRSELPDYYLTIKKPMDMEKIRSHMMANKYQDIDSMVEDFVMMFNNACTYNEPESLIYKDALVLHKVLLETRRDLEGD"
            ]
          },
          "metadata": {}
        },
        {
          "output_type": "display_data",
          "data": {
            "text/plain": [
              "<IPython.core.display.HTML object>"
            ],
            "text/html": [
              "<strong>True Label:</strong> CCCCCCCCCCCCCCHHHHHHHHHHHHHHHCECCCCCEHHHHHCCCCCCCCCCCHHHHCCCCCCHHHHHHHHHCCCCCCHHHHHHHHHHHHHHHHHHCCCCCHHHHHHHHHHHHHHHHHHHCCCC<br><strong>Predicted Label:</strong> CCCCCCCCCCCCCCHHHHHHHHHHHHHHHC<span style='color:red;'>C</span>CCCCC<span style='color:red;'>C</span>HHHHH<span style='color:red;'>H</span><span style='color:red;'>E</span>CCC<span style='color:red;'>H</span>CCCCCH<span style='color:red;'>E</span><span style='color:red;'>E</span><span style='color:red;'>E</span><span style='color:red;'>E</span>CCCCCHHHHHHH<span style='color:red;'>C</span><span style='color:red;'>C</span>CC<span style='color:red;'>H</span><span style='color:red;'>H</span><span style='color:red;'>H</span>CHHHHHHHHH<span style='color:red;'>E</span><span style='color:red;'>E</span><span style='color:red;'>E</span><span style='color:red;'>C</span><span style='color:red;'>C</span><span style='color:red;'>C</span><span style='color:red;'>C</span><span style='color:red;'>E</span><span style='color:red;'>C</span>CCC<span style='color:red;'>H</span><span style='color:red;'>H</span><span style='color:red;'>E</span><span style='color:red;'>E</span>HHHH<span style='color:red;'>E</span>HHHHHH<span style='color:red;'>E</span>HHHHHCCCC"
            ]
          },
          "metadata": {}
        },
        {
          "output_type": "display_data",
          "data": {
            "text/plain": [
              "<IPython.core.display.HTML object>"
            ],
            "text/html": [
              "<hr>"
            ]
          },
          "metadata": {}
        },
        {
          "output_type": "display_data",
          "data": {
            "text/plain": [
              "<IPython.core.display.HTML object>"
            ],
            "text/html": [
              "<strong>Sequence:</strong> SNAMDRVATARAYYRALDEHDYDLLSDVLAPDFVHDRPDRTIEGRERFVRFMREERPQTDTSHPIATIYTGASTVAVEGRLLNSDGAEITQFVDVFAFEDGVIGRIRTHTPEP"
            ]
          },
          "metadata": {}
        },
        {
          "output_type": "display_data",
          "data": {
            "text/plain": [
              "<IPython.core.display.HTML object>"
            ],
            "text/html": [
              "<strong>True Label:</strong> CCHHHHHHHHHHHHHHHHHCCHHHHHHCEEEEEEEEECCEEEECHHHHHHHHHHCCCCCCCECCEEEEEECCCEEEEEEEEECCCCCEEEEEEEEEEEECCEEEEEEEEEECC<br><strong>Predicted Label:</strong> CC<span style='color:red;'>C</span>HHHHHHHHHHHHHH<span style='color:red;'>C</span><span style='color:red;'>C</span>CCHHHHHH<span style='color:red;'>H</span><span style='color:red;'>C</span><span style='color:red;'>C</span><span style='color:red;'>C</span><span style='color:red;'>H</span><span style='color:red;'>H</span><span style='color:red;'>C</span><span style='color:red;'>C</span><span style='color:red;'>C</span><span style='color:red;'>C</span>CC<span style='color:red;'>C</span><span style='color:red;'>C</span><span style='color:red;'>C</span><span style='color:red;'>C</span>C<span style='color:red;'>C</span>HHHHHHHH<span style='color:red;'>C</span>CCCCCCC<span style='color:red;'>C</span>CC<span style='color:red;'>C</span>EEEE<span style='color:red;'>C</span>CCCEEEEE<span style='color:red;'>C</span>EE<span style='color:red;'>C</span>CCCCCEE<span style='color:red;'>H</span><span style='color:red;'>H</span><span style='color:red;'>H</span><span style='color:red;'>H</span><span style='color:red;'>H</span><span style='color:red;'>H</span>EEE<span style='color:red;'>C</span>CC<span style='color:red;'>C</span>EE<span style='color:red;'>H</span>EE<span style='color:red;'>C</span><span style='color:red;'>C</span><span style='color:red;'>C</span><span style='color:red;'>C</span>CC"
            ]
          },
          "metadata": {}
        },
        {
          "output_type": "display_data",
          "data": {
            "text/plain": [
              "<IPython.core.display.HTML object>"
            ],
            "text/html": [
              "<hr>"
            ]
          },
          "metadata": {}
        },
        {
          "output_type": "display_data",
          "data": {
            "text/plain": [
              "<IPython.core.display.HTML object>"
            ],
            "text/html": [
              "<strong>Sequence:</strong> GSEFIKIRLTVLCAKNLAKKDFFRLPDPFAKIVVDGSGQCHSTDTVKNTLDPKWNQHYDLYVGKTDSITISVWNHKKIHKKQGAGFLGCVRLLSNAISRLKDTGYQRLDLCKLNPSDTDAVRGQIVVSLQTR"
            ]
          },
          "metadata": {}
        },
        {
          "output_type": "display_data",
          "data": {
            "text/plain": [
              "<IPython.core.display.HTML object>"
            ],
            "text/html": [
              "<strong>True Label:</strong> CCCEEEEEEEEEEEECCCCCCCCCCCCEEEEEEECCCCCEEECCCCCCCCCCEEEEEEEEEEECCCCEEEEEEEHHHCCCCCCCCEEEEEEECHHHHHHHCCCCCEEEECECCCCCCCCCCCCEEEEEEEEC<br><strong>Predicted Label:</strong> CCCE<span style='color:red;'>H</span><span style='color:red;'>H</span>EEEEEEE<span style='color:red;'>H</span><span style='color:red;'>H</span><span style='color:red;'>H</span><span style='color:red;'>H</span><span style='color:red;'>H</span><span style='color:red;'>H</span><span style='color:red;'>H</span><span style='color:red;'>H</span><span style='color:red;'>H</span>C<span style='color:red;'>E</span>CCC<span style='color:red;'>H</span><span style='color:red;'>H</span><span style='color:red;'>H</span>E<span style='color:red;'>H</span>EECCCCC<span style='color:red;'>C</span><span style='color:red;'>C</span><span style='color:red;'>C</span>CC<span style='color:red;'>H</span><span style='color:red;'>E</span><span style='color:red;'>H</span><span style='color:red;'>H</span>CCCC<span style='color:red;'>C</span><span style='color:red;'>H</span><span style='color:red;'>C</span><span style='color:red;'>H</span><span style='color:red;'>C</span><span style='color:red;'>H</span><span style='color:red;'>H</span>EE<span style='color:red;'>C</span><span style='color:red;'>C</span>CCC<span style='color:red;'>E</span>EEEEEE<span style='color:red;'>C</span><span style='color:red;'>C</span><span style='color:red;'>C</span><span style='color:red;'>C</span><span style='color:red;'>H</span><span style='color:red;'>H</span>CCCCCC<span style='color:red;'>C</span><span style='color:red;'>C</span>EEEE<span style='color:red;'>H</span><span style='color:red;'>H</span>HHHHHHH<span style='color:red;'>H</span>CCCC<span style='color:red;'>C</span><span style='color:red;'>H</span><span style='color:red;'>H</span><span style='color:red;'>H</span><span style='color:red;'>H</span><span style='color:red;'>H</span><span style='color:red;'>H</span>CCCCCC<span style='color:red;'>H</span><span style='color:red;'>H</span><span style='color:red;'>H</span><span style='color:red;'>H</span>CEEE<span style='color:red;'>H</span>E<span style='color:red;'>H</span><span style='color:red;'>C</span><span style='color:red;'>C</span>C"
            ]
          },
          "metadata": {}
        },
        {
          "output_type": "display_data",
          "data": {
            "text/plain": [
              "<IPython.core.display.HTML object>"
            ],
            "text/html": [
              "<hr>"
            ]
          },
          "metadata": {}
        },
        {
          "output_type": "display_data",
          "data": {
            "text/plain": [
              "<IPython.core.display.HTML object>"
            ],
            "text/html": [
              "<strong>Sequence:</strong> MLTPTPDSSPRSTSSPSQSKNGSFTPRTANILKPLMSPPSREEIMATLLDHD"
            ]
          },
          "metadata": {}
        },
        {
          "output_type": "display_data",
          "data": {
            "text/plain": [
              "<IPython.core.display.HTML object>"
            ],
            "text/html": [
              "<strong>True Label:</strong> CCCCCCCCCCCCCCCCCCCCCCCCCCCCCCEEEECCCCCCHHHHHHHCCCCC<br><strong>Predicted Label:</strong> CCCCCCCCCCCCCCCCCCCCCCCCCCCC<span style='color:red;'>H</span><span style='color:red;'>H</span><span style='color:red;'>H</span><span style='color:red;'>H</span><span style='color:red;'>H</span><span style='color:red;'>H</span>CCCCCCHHHHHHH<span style='color:red;'>H</span><span style='color:red;'>H</span>CCC"
            ]
          },
          "metadata": {}
        },
        {
          "output_type": "display_data",
          "data": {
            "text/plain": [
              "<IPython.core.display.HTML object>"
            ],
            "text/html": [
              "<hr>"
            ]
          },
          "metadata": {}
        },
        {
          "output_type": "display_data",
          "data": {
            "text/plain": [
              "<IPython.core.display.HTML object>"
            ],
            "text/html": [
              "<strong>Sequence:</strong> GPMADLWDDNDDDDDILELVNRPPMSQMAVPIKPPESQAEQLMKAKGEVGVLRQKLSMLEKTLREHDDNQKKLESSLKSSHEEEVTKLKIELERLEDERKFMLLEQKHLFT"
            ]
          },
          "metadata": {}
        },
        {
          "output_type": "display_data",
          "data": {
            "text/plain": [
              "<IPython.core.display.HTML object>"
            ],
            "text/html": [
              "<strong>True Label:</strong> CCCCCCCCCCCCCHHHHCCCCCCCCCCCCCCCCCCCCHHHHHHHHHHHHHHHHHHHHHHHHHHHHHHHHHHHHHHHHHHHHHHHHHHHHHHHHHHHHHHHHHHHHHCCCCC<br><strong>Predicted Label:</strong> CCC<span style='color:red;'>H</span><span style='color:red;'>H</span><span style='color:red;'>H</span>CCCCCCC<span style='color:red;'>C</span>HHH<span style='color:red;'>H</span><span style='color:red;'>H</span><span style='color:red;'>H</span>CCCCCC<span style='color:red;'>H</span>CCCCCCCC<span style='color:red;'>H</span>CHHHHHHH<span style='color:red;'>C</span><span style='color:red;'>C</span><span style='color:red;'>C</span><span style='color:red;'>C</span><span style='color:red;'>E</span><span style='color:red;'>E</span>HHHHHHHHHHHHHH<span style='color:red;'>C</span><span style='color:red;'>C</span><span style='color:red;'>C</span><span style='color:red;'>C</span><span style='color:red;'>C</span>HHHHHHH<span style='color:red;'>C</span><span style='color:red;'>C</span><span style='color:red;'>C</span><span style='color:red;'>C</span><span style='color:red;'>C</span>H<span style='color:red;'>C</span>HHH<span style='color:red;'>E</span><span style='color:red;'>E</span>H<span style='color:red;'>E</span>HHHHHHHHHHH<span style='color:red;'>E</span>HHHHC<span style='color:red;'>H</span>CCC"
            ]
          },
          "metadata": {}
        },
        {
          "output_type": "display_data",
          "data": {
            "text/plain": [
              "<IPython.core.display.HTML object>"
            ],
            "text/html": [
              "<hr>"
            ]
          },
          "metadata": {}
        },
        {
          "output_type": "display_data",
          "data": {
            "text/plain": [
              "<IPython.core.display.HTML object>"
            ],
            "text/html": [
              "<strong>Sequence:</strong> TTDTRRRVKLYALNAERQWDDRGTGHVSSTYVERLKGISLLVRAESDGSLLLESKIQPDTAYQKQQDTLIVWSEGDNFDLALSFQEKAGCDEIWEKICQVQGKDPSVEITQDIVEESEDERF"
            ]
          },
          "metadata": {}
        },
        {
          "output_type": "display_data",
          "data": {
            "text/plain": [
              "<IPython.core.display.HTML object>"
            ],
            "text/html": [
              "<strong>True Label:</strong> CCCCCCEEEEEEECCCCCEEEEEEEEEEEEEEHHHCEEEEEEEECCCCCEEEEEECCCCCCCEEECCCEEEEEEECCEEEEEEECCHHHHHHHHHHHHHHHCCCCCCCECCCCCCCCCCCCC<br><strong>Predicted Label:</strong> CCCC<span style='color:red;'>H</span><span style='color:red;'>H</span><span style='color:red;'>H</span>EEEE<span style='color:red;'>H</span><span style='color:red;'>H</span>C<span style='color:red;'>H</span><span style='color:red;'>H</span><span style='color:red;'>H</span><span style='color:red;'>H</span><span style='color:red;'>H</span><span style='color:red;'>C</span><span style='color:red;'>C</span><span style='color:red;'>C</span><span style='color:red;'>C</span><span style='color:red;'>C</span><span style='color:red;'>C</span><span style='color:red;'>C</span><span style='color:red;'>C</span><span style='color:red;'>C</span><span style='color:red;'>C</span><span style='color:red;'>C</span>E<span style='color:red;'>H</span>HHH<span style='color:red;'>H</span><span style='color:red;'>C</span><span style='color:red;'>C</span>EE<span style='color:red;'>H</span><span style='color:red;'>H</span><span style='color:red;'>H</span><span style='color:red;'>H</span>CCCC<span style='color:red;'>E</span>EE<span style='color:red;'>H</span><span style='color:red;'>H</span><span style='color:red;'>H</span><span style='color:red;'>C</span>CCCCC<span style='color:red;'>H</span><span style='color:red;'>H</span><span style='color:red;'>H</span><span style='color:red;'>H</span><span style='color:red;'>H</span><span style='color:red;'>H</span>C<span style='color:red;'>E</span>EEEEE<span style='color:red;'>C</span><span style='color:red;'>C</span>CC<span style='color:red;'>H</span><span style='color:red;'>H</span><span style='color:red;'>H</span><span style='color:red;'>H</span><span style='color:red;'>H</span><span style='color:red;'>H</span><span style='color:red;'>H</span><span style='color:red;'>H</span><span style='color:red;'>H</span>H<span style='color:red;'>C</span><span style='color:red;'>C</span><span style='color:red;'>C</span><span style='color:red;'>C</span>HHHHHHH<span style='color:red;'>E</span><span style='color:red;'>E</span><span style='color:red;'>C</span>CCCCC<span style='color:red;'>E</span><span style='color:red;'>E</span>E<span style='color:red;'>H</span><span style='color:red;'>H</span><span style='color:red;'>H</span><span style='color:red;'>H</span><span style='color:red;'>H</span><span style='color:red;'>H</span>CC<span style='color:red;'>H</span>CCCC"
            ]
          },
          "metadata": {}
        },
        {
          "output_type": "display_data",
          "data": {
            "text/plain": [
              "<IPython.core.display.HTML object>"
            ],
            "text/html": [
              "<hr>"
            ]
          },
          "metadata": {}
        },
        {
          "output_type": "display_data",
          "data": {
            "text/plain": [
              "<IPython.core.display.HTML object>"
            ],
            "text/html": [
              "<strong>Sequence:</strong> PVIQTFVSTPLDHHKRENLAQVYRAVTRDVLGKPEDLVMMTFHDSTPMHFFGSTDPVACVRVEALGGYGPSEPEKVTSIVTAAITKECGIVADRIFVLYFSPLHCGWNGTNF"
            ]
          },
          "metadata": {}
        },
        {
          "output_type": "display_data",
          "data": {
            "text/plain": [
              "<IPython.core.display.HTML object>"
            ],
            "text/html": [
              "<strong>True Label:</strong> CEEEEEECCCCCHHHHHHHHHHHHHHHHHCCCCCHHHCEEEEECCCCCCECCECCCCEEEEEECCCCCCCCHHHHHHHHHHHHHHHHHCCCHHHEEEEEECCCCCEECCEEC<br><strong>Predicted Label:</strong> C<span style='color:red;'>C</span>E<span style='color:red;'>H</span><span style='color:red;'>H</span><span style='color:red;'>H</span>ECCCCC<span style='color:red;'>C</span><span style='color:red;'>C</span><span style='color:red;'>C</span><span style='color:red;'>C</span>HHHHHHHHH<span style='color:red;'>E</span>HHH<span style='color:red;'>H</span>CCCCHHH<span style='color:red;'>H</span><span style='color:red;'>H</span>EEE<span style='color:red;'>C</span>CCCCC<span style='color:red;'>H</span>ECC<span style='color:red;'>C</span>CCC<span style='color:red;'>E</span><span style='color:red;'>H</span>EEE<span style='color:red;'>H</span>E<span style='color:red;'>H</span><span style='color:red;'>H</span>CCCCCC<span style='color:red;'>C</span><span style='color:red;'>C</span><span style='color:red;'>C</span><span style='color:red;'>C</span><span style='color:red;'>C</span>H<span style='color:red;'>E</span><span style='color:red;'>E</span>HHHHHHH<span style='color:red;'>C</span><span style='color:red;'>C</span>C<span style='color:red;'>E</span><span style='color:red;'>E</span>HHHEEEEEECCCCC<span style='color:red;'>C</span><span style='color:red;'>C</span>CC<span style='color:red;'>C</span><span style='color:red;'>C</span>C"
            ]
          },
          "metadata": {}
        },
        {
          "output_type": "display_data",
          "data": {
            "text/plain": [
              "<IPython.core.display.HTML object>"
            ],
            "text/html": [
              "<hr>"
            ]
          },
          "metadata": {}
        },
        {
          "output_type": "display_data",
          "data": {
            "text/plain": [
              "<IPython.core.display.HTML object>"
            ],
            "text/html": [
              "<strong>Sequence:</strong> GPLGSEVVRCICEVQEENDFMIQCEECQSWQHGVCMGLLEENVPEKYTCYVCQ"
            ]
          },
          "metadata": {}
        },
        {
          "output_type": "display_data",
          "data": {
            "text/plain": [
              "<IPython.core.display.HTML object>"
            ],
            "text/html": [
              "<strong>True Label:</strong> CHHHCCCECCCCCCCCCCCCEEECCCCCCEEECCCCCCCCCCCCCCCCCCCCC<br><strong>Predicted Label:</strong> C<span style='color:red;'>C</span><span style='color:red;'>C</span><span style='color:red;'>C</span>C<span style='color:red;'>H</span><span style='color:red;'>E</span><span style='color:red;'>H</span><span style='color:red;'>E</span><span style='color:red;'>H</span><span style='color:red;'>E</span><span style='color:red;'>E</span><span style='color:red;'>E</span><span style='color:red;'>H</span>CC<span style='color:red;'>H</span>CC<span style='color:red;'>H</span>EEECC<span style='color:red;'>H</span>CCC<span style='color:red;'>C</span><span style='color:red;'>C</span><span style='color:red;'>C</span>C<span style='color:red;'>E</span><span style='color:red;'>E</span><span style='color:red;'>H</span><span style='color:red;'>H</span><span style='color:red;'>H</span><span style='color:red;'>H</span><span style='color:red;'>H</span>CCCCCCC<span style='color:red;'>E</span><span style='color:red;'>E</span><span style='color:red;'>E</span>CCC"
            ]
          },
          "metadata": {}
        },
        {
          "output_type": "display_data",
          "data": {
            "text/plain": [
              "<IPython.core.display.HTML object>"
            ],
            "text/html": [
              "<hr>"
            ]
          },
          "metadata": {}
        },
        {
          "output_type": "display_data",
          "data": {
            "text/plain": [
              "<IPython.core.display.HTML object>"
            ],
            "text/html": [
              "<strong>Sequence:</strong> RYCKRTIPPGYKVDQVFGPRTKGKEGNFGDDKMNEEGIKDGRVTAMLNLVPSSHACLFGSRVTPKLQPDGLHLKFEFTTVVPRDDPQFDNYVKICDQCVDGVGTRPKD"
            ]
          },
          "metadata": {}
        },
        {
          "output_type": "display_data",
          "data": {
            "text/plain": [
              "<IPython.core.display.HTML object>"
            ],
            "text/html": [
              "<strong>True Label:</strong> CHHHCCCCCCCCCHHHHCCCCCCCCCCECCHHHHHHHHHCHHHHHHHCCCCCHHHHHHHCEEEEEEECCEEEEEEEEEEEEECCCCCHHHHHHHHHHHECCCCCCCCC<br><strong>Predicted Label:</strong> C<span style='color:red;'>C</span><span style='color:red;'>C</span><span style='color:red;'>C</span>CCCCCCCC<span style='color:red;'>E</span><span style='color:red;'>C</span>H<span style='color:red;'>E</span><span style='color:red;'>C</span>CCCCCCCCCC<span style='color:red;'>C</span>CC<span style='color:red;'>C</span><span style='color:red;'>C</span><span style='color:red;'>C</span><span style='color:red;'>C</span>H<span style='color:red;'>C</span><span style='color:red;'>C</span><span style='color:red;'>C</span><span style='color:red;'>C</span>C<span style='color:red;'>C</span><span style='color:red;'>C</span><span style='color:red;'>E</span><span style='color:red;'>E</span>HHHCCCCC<span style='color:red;'>C</span><span style='color:red;'>C</span><span style='color:red;'>E</span><span style='color:red;'>E</span><span style='color:red;'>E</span><span style='color:red;'>C</span><span style='color:red;'>C</span>C<span style='color:red;'>C</span><span style='color:red;'>C</span><span style='color:red;'>C</span><span style='color:red;'>H</span><span style='color:red;'>C</span><span style='color:red;'>C</span><span style='color:red;'>C</span>CC<span style='color:red;'>C</span><span style='color:red;'>C</span>EEEEEEEEE<span style='color:red;'>C</span><span style='color:red;'>C</span>CCCCC<span style='color:red;'>C</span><span style='color:red;'>C</span>HH<span style='color:red;'>E</span><span style='color:red;'>E</span><span style='color:red;'>E</span><span style='color:red;'>C</span>HH<span style='color:red;'>C</span><span style='color:red;'>C</span>CCCCCCCCC"
            ]
          },
          "metadata": {}
        },
        {
          "output_type": "display_data",
          "data": {
            "text/plain": [
              "<IPython.core.display.HTML object>"
            ],
            "text/html": [
              "<hr>"
            ]
          },
          "metadata": {}
        },
        {
          "output_type": "display_data",
          "data": {
            "text/plain": [
              "<IPython.core.display.HTML object>"
            ],
            "text/html": [
              "<strong>Sequence:</strong> DDPHRLLQQLVLSGNLIKEAVRRLHSRRLQ"
            ]
          },
          "metadata": {}
        },
        {
          "output_type": "display_data",
          "data": {
            "text/plain": [
              "<IPython.core.display.HTML object>"
            ],
            "text/html": [
              "<strong>True Label:</strong> CCCCHHHHHHHHHCCHHHHHHHHHHCCCCC<br><strong>Predicted Label:</strong> CCC<span style='color:red;'>H</span>HHHHHH<span style='color:red;'>E</span><span style='color:red;'>E</span><span style='color:red;'>C</span>CCHHHHHHHHH<span style='color:red;'>C</span>CCCCC"
            ]
          },
          "metadata": {}
        },
        {
          "output_type": "display_data",
          "data": {
            "text/plain": [
              "<IPython.core.display.HTML object>"
            ],
            "text/html": [
              "<hr>"
            ]
          },
          "metadata": {}
        },
        {
          "output_type": "display_data",
          "data": {
            "text/plain": [
              "<IPython.core.display.HTML object>"
            ],
            "text/html": [
              "<strong>Sequence:</strong> SNAMSANDKLTILWTTDNKDTVFNMLAMYALNSKNRGWWKHINIILWGASVKLVANDTQVQTEILEMLQSGITIEACQDCCENFGVASIITNLGITVRYMGIPLTEYLKNGEKILSI"
            ]
          },
          "metadata": {}
        },
        {
          "output_type": "display_data",
          "data": {
            "text/plain": [
              "<IPython.core.display.HTML object>"
            ],
            "text/html": [
              "<strong>True Label:</strong> CCCCCCCCEEEEEECCCCHHHHHHCHHHHHHHHHHHCCCCEEEEEECCHHHHHHHHCHHHHHHHHHHHHHCCEEEEEHHHHHHHCCHHHHHHCCCEEECCHHHHHHHHHCCCEEEEC<br><strong>Predicted Label:</strong> CCCCCCCC<span style='color:red;'>C</span>EEEEE<span style='color:red;'>E</span>CCC<span style='color:red;'>C</span><span style='color:red;'>C</span><span style='color:red;'>C</span>HHH<span style='color:red;'>H</span>HHHHHH<span style='color:red;'>C</span><span style='color:red;'>C</span><span style='color:red;'>C</span><span style='color:red;'>C</span><span style='color:red;'>C</span>CC<span style='color:red;'>H</span><span style='color:red;'>E</span>EE<span style='color:red;'>H</span>EEE<span style='color:red;'>E</span>C<span style='color:red;'>C</span><span style='color:red;'>E</span><span style='color:red;'>E</span>H<span style='color:red;'>E</span><span style='color:red;'>E</span><span style='color:red;'>C</span><span style='color:red;'>C</span>C<span style='color:red;'>C</span><span style='color:red;'>E</span>HHHHHHHHHH<span style='color:red;'>C</span>CCEE<span style='color:red;'>H</span><span style='color:red;'>H</span><span style='color:red;'>H</span>HHH<span style='color:red;'>C</span>H<span style='color:red;'>C</span><span style='color:red;'>C</span>C<span style='color:red;'>E</span><span style='color:red;'>E</span><span style='color:red;'>E</span>HHHHCCCEEE<span style='color:red;'>E</span><span style='color:red;'>E</span><span style='color:red;'>C</span><span style='color:red;'>C</span><span style='color:red;'>C</span><span style='color:red;'>C</span><span style='color:red;'>C</span>HHH<span style='color:red;'>C</span>CCCEE<span style='color:red;'>H</span><span style='color:red;'>C</span>C"
            ]
          },
          "metadata": {}
        },
        {
          "output_type": "display_data",
          "data": {
            "text/plain": [
              "<IPython.core.display.HTML object>"
            ],
            "text/html": [
              "<hr>"
            ]
          },
          "metadata": {}
        },
        {
          "output_type": "display_data",
          "data": {
            "text/plain": [
              "<IPython.core.display.HTML object>"
            ],
            "text/html": [
              "<strong>Sequence:</strong> GPVPPSTALKELIEELVNITQNQKAPLCNGSMVWSINLTAGVYCAALESLINVSGCSAIEKTQRMLNGFCPHKVSAGQFSSLRVRDTKIEVAQFVKDLLVHLKKLFREGQFN"
            ]
          },
          "metadata": {}
        },
        {
          "output_type": "display_data",
          "data": {
            "text/plain": [
              "<IPython.core.display.HTML object>"
            ],
            "text/html": [
              "<strong>True Label:</strong> CCCCHHHHHHHHHHHHHHHHHHCCCCCHHHCEEECCCCCCCHHHHHHHHHCCCCCCHHHHHHHHHHHHHCCCCCCCCCCCCCCCCCCEEEHHHHHHHHHHHHHHHHHCCCCC<br><strong>Predicted Label:</strong> CCCC<span style='color:red;'>C</span><span style='color:red;'>C</span><span style='color:red;'>C</span>HHHHHHHHHHHH<span style='color:red;'>C</span>HHCCCCC<span style='color:red;'>C</span><span style='color:red;'>C</span><span style='color:red;'>C</span>CEEE<span style='color:red;'>E</span><span style='color:red;'>E</span><span style='color:red;'>E</span><span style='color:red;'>E</span>CCC<span style='color:red;'>E</span><span style='color:red;'>E</span>HHHHHHH<span style='color:red;'>H</span><span style='color:red;'>E</span>CCCC<span style='color:red;'>C</span>HHHHHHHHH<span style='color:red;'>C</span><span style='color:red;'>C</span><span style='color:red;'>C</span>CCCCCCCCC<span style='color:red;'>H</span>C<span style='color:red;'>H</span><span style='color:red;'>E</span><span style='color:red;'>E</span><span style='color:red;'>E</span>CCCEE<span style='color:red;'>H</span><span style='color:red;'>E</span>HHHHHHHHHHHHHHHHCCCCC"
            ]
          },
          "metadata": {}
        },
        {
          "output_type": "display_data",
          "data": {
            "text/plain": [
              "<IPython.core.display.HTML object>"
            ],
            "text/html": [
              "<hr>"
            ]
          },
          "metadata": {}
        },
        {
          "output_type": "display_data",
          "data": {
            "text/plain": [
              "<IPython.core.display.HTML object>"
            ],
            "text/html": [
              "<strong>Sequence:</strong> MIQNHIKNMTPEICKASRALVNLTQKELALMAGIATPTIADFERGARKPHGNNLRSIIIAFENKGLDFVEEGGEIIGIFIRRKNVRAEESIDLSGHGSH"
            ]
          },
          "metadata": {}
        },
        {
          "output_type": "display_data",
          "data": {
            "text/plain": [
              "<IPython.core.display.HTML object>"
            ],
            "text/html": [
              "<strong>True Label:</strong> CCCCCCCCCCHHHHHHHHHHCCCCHHHHHHHHCCCHHHHHHHHCCCCCCCHHHHHHHHHHHHHCCEEEEEECCEEEEEEECCCCCCCCCCCCCCCCCCC<br><strong>Predicted Label:</strong> CC<span style='color:red;'>H</span><span style='color:red;'>H</span><span style='color:red;'>H</span><span style='color:red;'>H</span><span style='color:red;'>H</span>CCCHHHHH<span style='color:red;'>C</span>HHHH<span style='color:red;'>H</span><span style='color:red;'>H</span><span style='color:red;'>H</span>CHHHHHHHHCCC<span style='color:red;'>C</span><span style='color:red;'>C</span><span style='color:red;'>C</span>HHHHH<span style='color:red;'>H</span>CCCCCC<span style='color:red;'>C</span><span style='color:red;'>C</span><span style='color:red;'>C</span>HHHH<span style='color:red;'>E</span><span style='color:red;'>E</span><span style='color:red;'>E</span><span style='color:red;'>E</span><span style='color:red;'>E</span>HCC<span style='color:red;'>C</span><span style='color:red;'>C</span><span style='color:red;'>H</span><span style='color:red;'>H</span><span style='color:red;'>H</span><span style='color:red;'>C</span>CCEEEEEEE<span style='color:red;'>E</span>CCC<span style='color:red;'>H</span>CC<span style='color:red;'>H</span><span style='color:red;'>H</span>C<span style='color:red;'>H</span>CCCCCCCC"
            ]
          },
          "metadata": {}
        },
        {
          "output_type": "display_data",
          "data": {
            "text/plain": [
              "<IPython.core.display.HTML object>"
            ],
            "text/html": [
              "<hr>"
            ]
          },
          "metadata": {}
        },
        {
          "output_type": "display_data",
          "data": {
            "text/plain": [
              "<IPython.core.display.HTML object>"
            ],
            "text/html": [
              "<strong>Sequence:</strong> MAHHHHHHMLDHIGFNIADMKKSRAFYDAALSPLGIGHAMEFGDWVGYGRNGKPEFWIGAQKGAKLEGVLHVAFSAGTRSEVGRFYEAAIAAGGRDNGKPGLRPHYHPDYYAAFVLDPDGHNIEVVCHLPE"
            ]
          },
          "metadata": {}
        },
        {
          "output_type": "display_data",
          "data": {
            "text/plain": [
              "<IPython.core.display.HTML object>"
            ],
            "text/html": [
              "<strong>True Label:</strong> CCCCCCCCCCCCEEEECCCHHHHHHHHHHHHHHHCCEEEECCCCEEEEEECCEEEEEEECCCCCCCCCCCEEEEECCCHHHHHHHHHHHHHCCCEECCCCEECCCCCCCCEEEEEECCCCCEEEEEECCCC<br><strong>Predicted Label:</strong> CCCCCCCCC<span style='color:red;'>H</span><span style='color:red;'>H</span><span style='color:red;'>H</span><span style='color:red;'>C</span><span style='color:red;'>C</span>EE<span style='color:red;'>H</span><span style='color:red;'>H</span><span style='color:red;'>H</span>HHH<span style='color:red;'>C</span><span style='color:red;'>C</span>HHHHHHH<span style='color:red;'>C</span><span style='color:red;'>C</span><span style='color:red;'>C</span>CC<span style='color:red;'>C</span><span style='color:red;'>H</span><span style='color:red;'>H</span><span style='color:red;'>H</span><span style='color:red;'>H</span><span style='color:red;'>H</span>CCEEE<span style='color:red;'>C</span><span style='color:red;'>C</span><span style='color:red;'>C</span>CC<span style='color:red;'>C</span><span style='color:red;'>C</span>EEEE<span style='color:red;'>H</span>CCCCC<span style='color:red;'>E</span>C<span style='color:red;'>H</span>C<span style='color:red;'>E</span><span style='color:red;'>E</span>EEEEECCC<span style='color:red;'>C</span><span style='color:red;'>C</span>H<span style='color:red;'>C</span><span style='color:red;'>C</span>HHHHHHHH<span style='color:red;'>H</span>CC<span style='color:red;'>C</span><span style='color:red;'>C</span>CCCC<span style='color:red;'>C</span><span style='color:red;'>C</span>CCCCCCC<span style='color:red;'>H</span><span style='color:red;'>H</span><span style='color:red;'>H</span><span style='color:red;'>H</span><span style='color:red;'>H</span>EECCCCC<span style='color:red;'>C</span>EEEEE<span style='color:red;'>E</span>CCC"
            ]
          },
          "metadata": {}
        },
        {
          "output_type": "display_data",
          "data": {
            "text/plain": [
              "<IPython.core.display.HTML object>"
            ],
            "text/html": [
              "<hr>"
            ]
          },
          "metadata": {}
        },
        {
          "output_type": "display_data",
          "data": {
            "text/plain": [
              "<IPython.core.display.HTML object>"
            ],
            "text/html": [
              "<strong>Sequence:</strong> KVFGRCELAAAMKRHGLDNYRGYSLGNWVCAAKFESNFNTQATNRNTDGSTDYGILQINSRWWCNDGRTPGSRNLCNIPCSALLSSDITASVNCAKKIVSDGNGMNAWVAWRNRCKGTDVQAWIRGCRL"
            ]
          },
          "metadata": {}
        },
        {
          "output_type": "display_data",
          "data": {
            "text/plain": [
              "<IPython.core.display.HTML object>"
            ],
            "text/html": [
              "<strong>True Label:</strong> CECCHHHHHHHHHHCCCCCECCECHHHHHHHHHHHHCCECCCEEECCCCCEEECCCCEECCCCCECCCCCCCCCCCCCEHHHHHCCCCHHHHHHHHHHHHCCCCHHHCHHHHHHCCCCCHHHHCCCCCC<br><strong>Predicted Label:</strong> C<span style='color:red;'>C</span>CC<span style='color:red;'>E</span><span style='color:red;'>C</span>HHHHHHHHCC<span style='color:red;'>H</span>CC<span style='color:red;'>C</span>CC<span style='color:red;'>C</span>C<span style='color:red;'>C</span><span style='color:red;'>C</span><span style='color:red;'>C</span><span style='color:red;'>E</span><span style='color:red;'>E</span>HHHHHH<span style='color:red;'>C</span>CC<span style='color:red;'>C</span>CCC<span style='color:red;'>C</span><span style='color:red;'>C</span><span style='color:red;'>C</span>CCCCC<span style='color:red;'>C</span><span style='color:red;'>C</span><span style='color:red;'>C</span>C<span style='color:red;'>E</span><span style='color:red;'>E</span><span style='color:red;'>E</span><span style='color:red;'>H</span><span style='color:red;'>C</span>C<span style='color:red;'>E</span><span style='color:red;'>E</span><span style='color:red;'>E</span><span style='color:red;'>E</span><span style='color:red;'>C</span>CCCCCCCCCCCCC<span style='color:red;'>C</span><span style='color:red;'>C</span>HHH<span style='color:red;'>C</span><span style='color:red;'>H</span>CCCHH<span style='color:red;'>E</span><span style='color:red;'>E</span>HHHHHH<span style='color:red;'>E</span><span style='color:red;'>E</span>CCCC<span style='color:red;'>C</span>HH<span style='color:red;'>H</span>HHHHHHCCCC<span style='color:red;'>E</span>HHHH<span style='color:red;'>H</span><span style='color:red;'>H</span>CCCC"
            ]
          },
          "metadata": {}
        },
        {
          "output_type": "display_data",
          "data": {
            "text/plain": [
              "<IPython.core.display.HTML object>"
            ],
            "text/html": [
              "<hr>"
            ]
          },
          "metadata": {}
        },
        {
          "output_type": "display_data",
          "data": {
            "text/plain": [
              "<IPython.core.display.HTML object>"
            ],
            "text/html": [
              "<strong>Sequence:</strong> PQFEKIEGRMIRILYLLVKPESMSHEQFRKECVVHFQMSAGMPGLHKYEVRLVAGNPTDTHVPYLDVGRIDAIGECWFASEEQYQVYMESDIRKAWFEHGKYFIGQLKPFVTEELV"
            ]
          },
          "metadata": {}
        },
        {
          "output_type": "display_data",
          "data": {
            "text/plain": [
              "<IPython.core.display.HTML object>"
            ],
            "text/html": [
              "<strong>True Label:</strong> CHHHHHHHCCEEEEEEEECCCCCCHHHHHHHHHHHHHHHCCCCCCCEEEEEEEEECCCCCCCCECCCCCCCEEEEEEECCHHHHHHHHHCHHHHHHHHHHHHHCCEEEEEEEECCC<br><strong>Predicted Label:</strong> C<span style='color:red;'>C</span><span style='color:red;'>C</span>HHH<span style='color:red;'>C</span><span style='color:red;'>C</span><span style='color:red;'>H</span><span style='color:red;'>E</span><span style='color:red;'>H</span>EE<span style='color:red;'>H</span><span style='color:red;'>H</span><span style='color:red;'>H</span>EECCCCCC<span style='color:red;'>C</span>HHHHHH<span style='color:red;'>E</span><span style='color:red;'>E</span><span style='color:red;'>E</span><span style='color:red;'>E</span><span style='color:red;'>E</span><span style='color:red;'>E</span><span style='color:red;'>E</span><span style='color:red;'>C</span>CCCCCCCE<span style='color:red;'>H</span>EEEEE<span style='color:red;'>C</span><span style='color:red;'>C</span>CCCCCCCC<span style='color:red;'>C</span><span style='color:red;'>E</span>CCC<span style='color:red;'>H</span><span style='color:red;'>H</span><span style='color:red;'>H</span><span style='color:red;'>H</span><span style='color:red;'>H</span><span style='color:red;'>H</span>EEEECC<span style='color:red;'>C</span>HHHHHH<span style='color:red;'>E</span><span style='color:red;'>C</span><span style='color:red;'>H</span>HHHHHHHH<span style='color:red;'>C</span><span style='color:red;'>C</span><span style='color:red;'>E</span><span style='color:red;'>E</span><span style='color:red;'>E</span><span style='color:red;'>E</span><span style='color:red;'>H</span><span style='color:red;'>C</span><span style='color:red;'>C</span><span style='color:red;'>C</span><span style='color:red;'>H</span><span style='color:red;'>H</span><span style='color:red;'>C</span><span style='color:red;'>C</span><span style='color:red;'>H</span><span style='color:red;'>H</span>CC"
            ]
          },
          "metadata": {}
        },
        {
          "output_type": "display_data",
          "data": {
            "text/plain": [
              "<IPython.core.display.HTML object>"
            ],
            "text/html": [
              "<hr>"
            ]
          },
          "metadata": {}
        },
        {
          "output_type": "display_data",
          "data": {
            "text/plain": [
              "<IPython.core.display.HTML object>"
            ],
            "text/html": [
              "<strong>Sequence:</strong> GPGSMSFRVIEREPRAQRVALQLVAIVKLTRTALLYSDPDLRRALLQDLESNEGVRVYPREKTDKFKLQPDESVNRLIEHDIRSRLGDDTVIAQSVNDIPGVWISFKIDDDDYWVALDRDQLDTVTG"
            ]
          },
          "metadata": {}
        },
        {
          "output_type": "display_data",
          "data": {
            "text/plain": [
              "<IPython.core.display.HTML object>"
            ],
            "text/html": [
              "<strong>True Label:</strong> CCCCCCCCCCCCHHHHHHHHHHHHHHHHHHHHHHHCECHHHHHHHHHHHHHHHCEEEEECCCCCCEEECCCCHHHHHHHHHHHHHHCCCCCEEEEECCEEEEEEEEEECCEEEEEEECCCCCCCCCC<br><strong>Predicted Label:</strong> CCCCC<span style='color:red;'>E</span><span style='color:red;'>E</span><span style='color:red;'>E</span><span style='color:red;'>E</span><span style='color:red;'>H</span>CC<span style='color:red;'>C</span><span style='color:red;'>C</span><span style='color:red;'>C</span>HHHHHHHHHHH<span style='color:red;'>E</span>H<span style='color:red;'>E</span><span style='color:red;'>E</span>HH<span style='color:red;'>E</span><span style='color:red;'>E</span><span style='color:red;'>E</span><span style='color:red;'>E</span><span style='color:red;'>C</span>C<span style='color:red;'>C</span>HHHHHHHHHH<span style='color:red;'>C</span><span style='color:red;'>C</span><span style='color:red;'>C</span><span style='color:red;'>C</span>C<span style='color:red;'>C</span>EE<span style='color:red;'>C</span><span style='color:red;'>C</span>CCCCCC<span style='color:red;'>C</span>EECCCC<span style='color:red;'>C</span>HHHHHHHHHHHH<span style='color:red;'>C</span>CCC<span style='color:red;'>E</span><span style='color:red;'>E</span><span style='color:red;'>H</span><span style='color:red;'>H</span><span style='color:red;'>H</span><span style='color:red;'>H</span><span style='color:red;'>H</span>CC<span style='color:red;'>C</span><span style='color:red;'>C</span><span style='color:red;'>C</span>EEEEEEECC<span style='color:red;'>C</span><span style='color:red;'>C</span>EEEEEC<span style='color:red;'>H</span><span style='color:red;'>H</span><span style='color:red;'>H</span><span style='color:red;'>H</span>CCCCC"
            ]
          },
          "metadata": {}
        },
        {
          "output_type": "display_data",
          "data": {
            "text/plain": [
              "<IPython.core.display.HTML object>"
            ],
            "text/html": [
              "<hr>"
            ]
          },
          "metadata": {}
        },
        {
          "output_type": "display_data",
          "data": {
            "text/plain": [
              "<IPython.core.display.HTML object>"
            ],
            "text/html": [
              "<strong>Sequence:</strong> LSTEIRKAIEDAIESAPVVLFMKGTPEFPKCGFSRATIGLLGNQGVDPAKFAAYNVLEDPELREGIKEFSEWPTIPQLYVNKEFIGGCDVITSMARSGELADLLEEAQALVPEEEEETKDR"
            ]
          },
          "metadata": {}
        },
        {
          "output_type": "display_data",
          "data": {
            "text/plain": [
              "<IPython.core.display.HTML object>"
            ],
            "text/html": [
              "<strong>True Label:</strong> CCHHHHHHHHHHHHCCCEEEEECECCCCECCCHHHHHHHHHHHHCECHHHEEEEECCCCHHHHHHHHHHHCCCCCCEEEECCEEEECHHHHHHHHHHCHHHHHHHHCCCECCCCCCCCCCC<br><strong>Predicted Label:</strong> CC<span style='color:red;'>C</span>HHHHHHHHHHHCCCEEEEEC<span style='color:red;'>C</span>CCCC<span style='color:red;'>C</span>CCC<span style='color:red;'>C</span><span style='color:red;'>C</span><span style='color:red;'>C</span><span style='color:red;'>E</span><span style='color:red;'>E</span>HHH<span style='color:red;'>C</span><span style='color:red;'>C</span><span style='color:red;'>C</span><span style='color:red;'>C</span>C<span style='color:red;'>C</span>C<span style='color:red;'>C</span>HH<span style='color:red;'>H</span><span style='color:red;'>H</span><span style='color:red;'>H</span><span style='color:red;'>H</span><span style='color:red;'>H</span><span style='color:red;'>H</span>CCCHHHHHHHHHH<span style='color:red;'>C</span>CCCCCC<span style='color:red;'>H</span><span style='color:red;'>H</span>EEC<span style='color:red;'>H</span><span style='color:red;'>H</span>E<span style='color:red;'>H</span><span style='color:red;'>C</span>C<span style='color:red;'>C</span><span style='color:red;'>C</span><span style='color:red;'>E</span>HHHH<span style='color:red;'>C</span><span style='color:red;'>C</span><span style='color:red;'>C</span>CHHHHHHHH<span style='color:red;'>H</span><span style='color:red;'>H</span><span style='color:red;'>H</span><span style='color:red;'>H</span>CCCCCC<span style='color:red;'>H</span>CCCC"
            ]
          },
          "metadata": {}
        },
        {
          "output_type": "display_data",
          "data": {
            "text/plain": [
              "<IPython.core.display.HTML object>"
            ],
            "text/html": [
              "<hr>"
            ]
          },
          "metadata": {}
        },
        {
          "output_type": "display_data",
          "data": {
            "text/plain": [
              "<IPython.core.display.HTML object>"
            ],
            "text/html": [
              "<strong>Sequence:</strong> MEKEKVLEMTIEELDLSVRSYNCLKRAGINTVQELANKTEEDMMKVRNLGRKSLEEVKAKLEELGLGLRKDDG"
            ]
          },
          "metadata": {}
        },
        {
          "output_type": "display_data",
          "data": {
            "text/plain": [
              "<IPython.core.display.HTML object>"
            ],
            "text/html": [
              "<strong>True Label:</strong> CCCHHHHCCEHHHCCCEHHHHHHHHHCCCCEHHHHHCCCHHHHHCCCCCCHHHHHHHHHHHHHCCCCCCCCCC<br><strong>Predicted Label:</strong> CCC<span style='color:red;'>C</span>HHH<span style='color:red;'>H</span><span style='color:red;'>E</span><span style='color:red;'>C</span>HHHCC<span style='color:red;'>H</span>E<span style='color:red;'>E</span><span style='color:red;'>E</span><span style='color:red;'>E</span>HHHHHHCCCC<span style='color:red;'>C</span>HHHHH<span style='color:red;'>H</span>CCHHHHH<span style='color:red;'>H</span><span style='color:red;'>H</span><span style='color:red;'>H</span><span style='color:red;'>H</span><span style='color:red;'>H</span>C<span style='color:red;'>C</span><span style='color:red;'>C</span><span style='color:red;'>C</span>HHHHHHHHHH<span style='color:red;'>H</span>CCCCCCCCC"
            ]
          },
          "metadata": {}
        },
        {
          "output_type": "display_data",
          "data": {
            "text/plain": [
              "<IPython.core.display.HTML object>"
            ],
            "text/html": [
              "<hr>"
            ]
          },
          "metadata": {}
        },
        {
          "output_type": "display_data",
          "data": {
            "text/plain": [
              "<IPython.core.display.HTML object>"
            ],
            "text/html": [
              "<strong>Sequence:</strong> *SMSDVAIVKEGWLHKRGEYIKTWRPRYFLLKNDGTFIGYKERPQDVDQREAPLNNFSVAQCQLMKTERPRPNTFIIRCLQWTTVIERTFHVETPEEREEWTTAIQTVADGLKKQEEEEMDFRSG"
            ]
          },
          "metadata": {}
        },
        {
          "output_type": "display_data",
          "data": {
            "text/plain": [
              "<IPython.core.display.HTML object>"
            ],
            "text/html": [
              "<strong>True Label:</strong> CCCHHHCEEEEEEEEEECCCCCCEEEEEEEEECCCEEEEECCCCCCHHHHCCCCEEEECCCCEEEEECCCCCCEEEEEEEECCEEEEEEEECCCHHHHHHHHHHHHHHHHHHHHHHHCCCCCCCC<br><strong>Predicted Label:</strong> CCC<span style='color:red;'>C</span>H<span style='color:red;'>E</span><span style='color:red;'>E</span>EE<span style='color:red;'>H</span><span style='color:red;'>C</span><span style='color:red;'>C</span><span style='color:red;'>C</span>EE<span style='color:red;'>C</span><span style='color:red;'>C</span>CC<span style='color:red;'>E</span><span style='color:red;'>E</span><span style='color:red;'>H</span><span style='color:red;'>E</span>E<span style='color:red;'>C</span><span style='color:red;'>C</span><span style='color:red;'>C</span><span style='color:red;'>H</span>EEE<span style='color:red;'>C</span>CCC<span style='color:red;'>C</span>EE<span style='color:red;'>C</span><span style='color:red;'>C</span>CCCCC<span style='color:red;'>H</span>HHH<span style='color:red;'>C</span>CCCC<span style='color:red;'>C</span><span style='color:red;'>C</span><span style='color:red;'>C</span><span style='color:red;'>C</span><span style='color:red;'>E</span><span style='color:red;'>H</span><span style='color:red;'>H</span><span style='color:red;'>H</span><span style='color:red;'>H</span><span style='color:red;'>H</span><span style='color:red;'>H</span><span style='color:red;'>H</span><span style='color:red;'>C</span>CCCCCC<span style='color:red;'>C</span>EEE<span style='color:red;'>H</span><span style='color:red;'>H</span>EE<span style='color:red;'>E</span><span style='color:red;'>E</span>E<span style='color:red;'>H</span>E<span style='color:red;'>H</span>EEEE<span style='color:red;'>E</span>CC<span style='color:red;'>C</span>HHH<span style='color:red;'>C</span><span style='color:red;'>C</span>HHHHHHHHHHHH<span style='color:red;'>C</span><span style='color:red;'>C</span>HHH<span style='color:red;'>H</span><span style='color:red;'>H</span><span style='color:red;'>H</span>CCCCC"
            ]
          },
          "metadata": {}
        },
        {
          "output_type": "display_data",
          "data": {
            "text/plain": [
              "<IPython.core.display.HTML object>"
            ],
            "text/html": [
              "<hr>"
            ]
          },
          "metadata": {}
        },
        {
          "output_type": "display_data",
          "data": {
            "text/plain": [
              "<IPython.core.display.HTML object>"
            ],
            "text/html": [
              "<strong>Sequence:</strong> EDPEVLFKNKGCVACHAIDTKKVGPAYADVAKKYAGRKDAVDYLAGKIKKGGSGVWGSVPMPPQNVTDAEAKQLAQWILSIK"
            ]
          },
          "metadata": {}
        },
        {
          "output_type": "display_data",
          "data": {
            "text/plain": [
              "<IPython.core.display.HTML object>"
            ],
            "text/html": [
              "<strong>True Label:</strong> CCHHHHHHHCCHHHCCCCCCCCCCCCHHHHHHHHCCCCCHHHHHHHHHHHCECCCCCCCCECCCCCCHHHHHHHHHHHHCCC<br><strong>Predicted Label:</strong> CC<span style='color:red;'>C</span>HH<span style='color:red;'>E</span><span style='color:red;'>E</span><span style='color:red;'>E</span><span style='color:red;'>C</span>CC<span style='color:red;'>C</span><span style='color:red;'>E</span><span style='color:red;'>E</span><span style='color:red;'>H</span><span style='color:red;'>H</span><span style='color:red;'>H</span>CCCCCCCC<span style='color:red;'>H</span>HHHHHHHHCCCCCHHHHHHHHH<span style='color:red;'>C</span><span style='color:red;'>C</span>C<span style='color:red;'>C</span>CCCCCCCC<span style='color:red;'>C</span>CCCC<span style='color:red;'>H</span>CHHHHHHHHHHH<span style='color:red;'>E</span><span style='color:red;'>E</span><span style='color:red;'>E</span>C"
            ]
          },
          "metadata": {}
        },
        {
          "output_type": "display_data",
          "data": {
            "text/plain": [
              "<IPython.core.display.HTML object>"
            ],
            "text/html": [
              "<hr>"
            ]
          },
          "metadata": {}
        },
        {
          "output_type": "display_data",
          "data": {
            "text/plain": [
              "<IPython.core.display.HTML object>"
            ],
            "text/html": [
              "<strong>Sequence:</strong> AVQQNKELNFKLREKQNEIFELKKIAETLRSKLEKYVDITKKLEDQNLNLQIKISDLEKKLSDANSTFKEMRFP"
            ]
          },
          "metadata": {}
        },
        {
          "output_type": "display_data",
          "data": {
            "text/plain": [
              "<IPython.core.display.HTML object>"
            ],
            "text/html": [
              "<strong>True Label:</strong> CCCHHHHHHHHHHHHHHHHHHHHHHHHHHHHHHHHHHHHHHHHHHHHHHHHHHHHHHHHHHHCCCCCCCCCCCC<br><strong>Predicted Label:</strong> CC<span style='color:red;'>H</span>H<span style='color:red;'>C</span>H<span style='color:red;'>C</span><span style='color:red;'>C</span><span style='color:red;'>C</span><span style='color:red;'>E</span>HHHHHHHHH<span style='color:red;'>E</span>HHHHHHHHHHHHHHHH<span style='color:red;'>E</span><span style='color:red;'>E</span><span style='color:red;'>E</span>HHHHH<span style='color:red;'>C</span><span style='color:red;'>C</span><span style='color:red;'>C</span><span style='color:red;'>C</span><span style='color:red;'>C</span><span style='color:red;'>E</span><span style='color:red;'>E</span><span style='color:red;'>E</span><span style='color:red;'>E</span>HHHHHHHHHCCCCC<span style='color:red;'>H</span><span style='color:red;'>H</span>CCCCC"
            ]
          },
          "metadata": {}
        },
        {
          "output_type": "display_data",
          "data": {
            "text/plain": [
              "<IPython.core.display.HTML object>"
            ],
            "text/html": [
              "<hr>"
            ]
          },
          "metadata": {}
        },
        {
          "output_type": "display_data",
          "data": {
            "text/plain": [
              "<IPython.core.display.HTML object>"
            ],
            "text/html": [
              "<strong>Sequence:</strong> DMDLDSYQIALEEVLTWLLSAEDTFQEQDDISDDVEDVKEQFATHETFMMELSAHQSSVGSVLQAGNQLMTQGTLSDEEEFEIQEQMTLLNARWEALRVESMERQSRLHDALMELQKK"
            ]
          },
          "metadata": {}
        },
        {
          "output_type": "display_data",
          "data": {
            "text/plain": [
              "<IPython.core.display.HTML object>"
            ],
            "text/html": [
              "<strong>True Label:</strong> CCCHHHHHHHHHHHHHHHHHHHHHHHCCCCCCCCHHHHHHHHHHHHHHHHHHHHHHHHHHHHHHHHHHHHHCCCCCHHHHHHHHHHHHHHHHHHHHHHHHHHHHHHHHHHHHHHHHCC<br><strong>Predicted Label:</strong> CCC<span style='color:red;'>C</span><span style='color:red;'>C</span>HH<span style='color:red;'>E</span>HHHHHHHHHH<span style='color:red;'>E</span><span style='color:red;'>C</span>H<span style='color:red;'>C</span>HHH<span style='color:red;'>C</span>C<span style='color:red;'>H</span><span style='color:red;'>H</span>CC<span style='color:red;'>H</span><span style='color:red;'>H</span>CHHHHHHHHH<span style='color:red;'>C</span><span style='color:red;'>C</span>HHHH<span style='color:red;'>E</span>HH<span style='color:red;'>C</span>H<span style='color:red;'>C</span><span style='color:red;'>C</span><span style='color:red;'>C</span><span style='color:red;'>C</span><span style='color:red;'>C</span><span style='color:red;'>C</span>HHHH<span style='color:red;'>C</span><span style='color:red;'>C</span><span style='color:red;'>C</span><span style='color:red;'>C</span>HHHCCCCCHHHH<span style='color:red;'>C</span><span style='color:red;'>C</span><span style='color:red;'>E</span>HHHHHHHHHHHHHHHH<span style='color:red;'>C</span>HHHHHHHHHHHHHHHHCC"
            ]
          },
          "metadata": {}
        },
        {
          "output_type": "display_data",
          "data": {
            "text/plain": [
              "<IPython.core.display.HTML object>"
            ],
            "text/html": [
              "<hr>"
            ]
          },
          "metadata": {}
        },
        {
          "output_type": "display_data",
          "data": {
            "text/plain": [
              "<IPython.core.display.HTML object>"
            ],
            "text/html": [
              "<strong>Sequence:</strong> MAANAFVRARIDEDLKNQAADVLAGMGLTISDLVRITLTKVAREKALPFDLREPNQLTIQSIKNSEAGIDVHKAKDADDLFDKLGI"
            ]
          },
          "metadata": {}
        },
        {
          "output_type": "display_data",
          "data": {
            "text/plain": [
              "<IPython.core.display.HTML object>"
            ],
            "text/html": [
              "<strong>True Label:</strong> CCCEEEEEEEECHHHHHHHHHHHHHCCCCHHHHHHHHHHHHHHHCCCCCCCCCCCHHHHHHHHHHHHCCCEEEECCHHHHHHHHCC<br><strong>Predicted Label:</strong> CCC<span style='color:red;'>H</span><span style='color:red;'>H</span><span style='color:red;'>H</span><span style='color:red;'>H</span><span style='color:red;'>H</span><span style='color:red;'>H</span><span style='color:red;'>H</span><span style='color:red;'>C</span>CHHHHHHHHHHHHHCCCCHHHH<span style='color:red;'>E</span><span style='color:red;'>E</span><span style='color:red;'>E</span><span style='color:red;'>E</span><span style='color:red;'>E</span><span style='color:red;'>E</span>HHHHH<span style='color:red;'>H</span>CCCCCCCCCC<span style='color:red;'>C</span><span style='color:red;'>E</span><span style='color:red;'>E</span>HHHH<span style='color:red;'>C</span><span style='color:red;'>C</span><span style='color:red;'>C</span><span style='color:red;'>C</span><span style='color:red;'>C</span>CCC<span style='color:red;'>H</span><span style='color:red;'>H</span><span style='color:red;'>H</span><span style='color:red;'>H</span>CCHHHHHHH<span style='color:red;'>C</span>CC"
            ]
          },
          "metadata": {}
        },
        {
          "output_type": "display_data",
          "data": {
            "text/plain": [
              "<IPython.core.display.HTML object>"
            ],
            "text/html": [
              "<hr>"
            ]
          },
          "metadata": {}
        },
        {
          "output_type": "display_data",
          "data": {
            "text/plain": [
              "<IPython.core.display.HTML object>"
            ],
            "text/html": [
              "<strong>Sequence:</strong> SNAVNLFGQKDRGNHVSGVDRGKVIMYGLSTCVWCKKTKKLLTDLGVDFDYVYVDRLEGKEEEEAVEEVRRFNPSVSFPTTIINDEKAIVGFKEKEIRESLGF"
            ]
          },
          "metadata": {}
        },
        {
          "output_type": "display_data",
          "data": {
            "text/plain": [
              "<IPython.core.display.HTML object>"
            ],
            "text/html": [
              "<strong>True Label:</strong> CEEECCCCCEEEEEECCCECCCCEEEEECCCCHHHHHHHHHHHHHCECEEEEEHHHCCHHHHHHHHHHHHHHCCCCCCCEEEECCCEEEECCCHHHHHHHCCC<br><strong>Predicted Label:</strong> C<span style='color:red;'>C</span><span style='color:red;'>C</span><span style='color:red;'>H</span><span style='color:red;'>H</span><span style='color:red;'>H</span>CCC<span style='color:red;'>C</span><span style='color:red;'>C</span><span style='color:red;'>C</span><span style='color:red;'>C</span><span style='color:red;'>C</span><span style='color:red;'>C</span>CCC<span style='color:red;'>C</span>CCC<span style='color:red;'>E</span>EEE<span style='color:red;'>H</span><span style='color:red;'>C</span>CC<span style='color:red;'>E</span><span style='color:red;'>E</span><span style='color:red;'>E</span><span style='color:red;'>E</span><span style='color:red;'>E</span><span style='color:red;'>C</span><span style='color:red;'>C</span><span style='color:red;'>C</span>HHHHHH<span style='color:red;'>C</span>C<span style='color:red;'>C</span>C<span style='color:red;'>C</span><span style='color:red;'>C</span>EEE<span style='color:red;'>E</span>HH<span style='color:red;'>H</span>C<span style='color:red;'>C</span><span style='color:red;'>C</span><span style='color:red;'>C</span>HHHHHHHHH<span style='color:red;'>C</span><span style='color:red;'>E</span>CCCCCCC<span style='color:red;'>C</span>EEECC<span style='color:red;'>H</span><span style='color:red;'>C</span><span style='color:red;'>H</span>E<span style='color:red;'>H</span>CCC<span style='color:red;'>C</span>HHHHHHCCC"
            ]
          },
          "metadata": {}
        },
        {
          "output_type": "display_data",
          "data": {
            "text/plain": [
              "<IPython.core.display.HTML object>"
            ],
            "text/html": [
              "<hr>"
            ]
          },
          "metadata": {}
        },
        {
          "output_type": "display_data",
          "data": {
            "text/plain": [
              "<IPython.core.display.HTML object>"
            ],
            "text/html": [
              "<strong>Sequence:</strong> GIKKTDDEASDESEEEVSEY"
            ]
          },
          "metadata": {}
        },
        {
          "output_type": "display_data",
          "data": {
            "text/plain": [
              "<IPython.core.display.HTML object>"
            ],
            "text/html": [
              "<strong>True Label:</strong> CCCCCCCCCCCCCCCCCCEC<br><strong>Predicted Label:</strong> CCCCCCCCCCCCC<span style='color:red;'>H</span>C<span style='color:red;'>H</span><span style='color:red;'>H</span>C<span style='color:red;'>C</span>C"
            ]
          },
          "metadata": {}
        },
        {
          "output_type": "display_data",
          "data": {
            "text/plain": [
              "<IPython.core.display.HTML object>"
            ],
            "text/html": [
              "<hr>"
            ]
          },
          "metadata": {}
        },
        {
          "output_type": "display_data",
          "data": {
            "text/plain": [
              "<IPython.core.display.HTML object>"
            ],
            "text/html": [
              "<strong>Sequence:</strong> SGSGSYPSSNTLVEMTLGMKKLKEEMEGVVKELAENNHILERFGSLTMDGGLRNVDCL"
            ]
          },
          "metadata": {}
        },
        {
          "output_type": "display_data",
          "data": {
            "text/plain": [
              "<IPython.core.display.HTML object>"
            ],
            "text/html": [
              "<strong>True Label:</strong> CCCCCCCCHHHHHHHHHHHHHHHHHHHHHHHHHHHHHHHHHHHEEECCCCCCCCCCCC<br><strong>Predicted Label:</strong> CCCCCCCC<span style='color:red;'>C</span><span style='color:red;'>C</span><span style='color:red;'>C</span>HHH<span style='color:red;'>E</span><span style='color:red;'>E</span>H<span style='color:red;'>C</span>HHHHHHHH<span style='color:red;'>C</span><span style='color:red;'>C</span>HHHHHH<span style='color:red;'>C</span><span style='color:red;'>C</span><span style='color:red;'>C</span>HHHHHH<span style='color:red;'>C</span><span style='color:red;'>C</span>EC<span style='color:red;'>E</span>CCCCCC<span style='color:red;'>H</span>CCC"
            ]
          },
          "metadata": {}
        },
        {
          "output_type": "display_data",
          "data": {
            "text/plain": [
              "<IPython.core.display.HTML object>"
            ],
            "text/html": [
              "<hr>"
            ]
          },
          "metadata": {}
        },
        {
          "output_type": "display_data",
          "data": {
            "text/plain": [
              "<IPython.core.display.HTML object>"
            ],
            "text/html": [
              "<strong>Sequence:</strong> VDRDRFMDEFFEQVEEIRGFIDKIAENVEEVKRKHSAILASPNPDEKTKEELEELMSDIKKTANKVRSKLKSIEQSIEQEEGLNRSSADLRIRKTQHSTLSRKFVEVMSEYNATQSDYRERCKGRIQ"
            ]
          },
          "metadata": {}
        },
        {
          "output_type": "display_data",
          "data": {
            "text/plain": [
              "<IPython.core.display.HTML object>"
            ],
            "text/html": [
              "<strong>True Label:</strong> CCCCHHHHHHHHHHHHHHHHHHHHHHHHHHHHHHHHHHHCCCCCCHHHHHHHHHHHHHHHHHHHHHHHHHHHHHHHHHHHHCCCCCCHHHHHHHHHHHHHHHHHHHHHHHHHHHHHHHHHHHCCCCC<br><strong>Predicted Label:</strong> CCC<span style='color:red;'>H</span>HHHHHHHHHHHHHHHHHHHHHHHHHHHH<span style='color:red;'>C</span><span style='color:red;'>C</span><span style='color:red;'>C</span>HHHHCCCCCC<span style='color:red;'>C</span><span style='color:red;'>C</span><span style='color:red;'>C</span>HHHHHHHHHHHHHHHHHHHHHHHHHHHHHHHH<span style='color:red;'>C</span>C<span style='color:red;'>H</span>CCC<span style='color:red;'>H</span>H<span style='color:red;'>C</span>HH<span style='color:red;'>E</span><span style='color:red;'>C</span>H<span style='color:red;'>C</span><span style='color:red;'>C</span><span style='color:red;'>C</span><span style='color:red;'>C</span><span style='color:red;'>C</span><span style='color:red;'>C</span>HHHHHHHHHH<span style='color:red;'>C</span><span style='color:red;'>C</span><span style='color:red;'>C</span><span style='color:red;'>C</span>HH<span style='color:red;'>C</span>HHHH<span style='color:red;'>C</span>CCCCC"
            ]
          },
          "metadata": {}
        },
        {
          "output_type": "display_data",
          "data": {
            "text/plain": [
              "<IPython.core.display.HTML object>"
            ],
            "text/html": [
              "<hr>"
            ]
          },
          "metadata": {}
        },
        {
          "output_type": "display_data",
          "data": {
            "text/plain": [
              "<IPython.core.display.HTML object>"
            ],
            "text/html": [
              "<strong>Sequence:</strong> MTSEQTGEPAEDTSGVIKMAVKFDRRAYPAQITPKMCLLEWCRREKLAQPVYETVQRPLDRLFSSIVTVAEQKYQSTLWDKSKKLAEQAAAIVCLRSQGLPEGRLGEESPSLHKHHHHHH"
            ]
          },
          "metadata": {}
        },
        {
          "output_type": "display_data",
          "data": {
            "text/plain": [
              "<IPython.core.display.HTML object>"
            ],
            "text/html": [
              "<strong>True Label:</strong> CCCCCCCCCCCCCCCEEEECCCCCHHHCCCCCCHHHHHHHHHHHCCCCCCEEEEEEEHHHCEEEEEEEECCEEEEECCCECCHHHHHHHHHHHHHHHCCCCCCCCCCCCCCCCCCCCCCC<br><strong>Predicted Label:</strong> CCCCCCCCCCCCCCCEEE<span style='color:red;'>H</span><span style='color:red;'>H</span><span style='color:red;'>E</span><span style='color:red;'>H</span><span style='color:red;'>E</span>C<span style='color:red;'>C</span><span style='color:red;'>C</span><span style='color:red;'>C</span>CCCCCCHH<span style='color:red;'>E</span><span style='color:red;'>E</span><span style='color:red;'>E</span>HHHHHH<span style='color:red;'>H</span><span style='color:red;'>H</span><span style='color:red;'>H</span>CC<span style='color:red;'>H</span><span style='color:red;'>C</span><span style='color:red;'>H</span><span style='color:red;'>H</span><span style='color:red;'>H</span><span style='color:red;'>C</span><span style='color:red;'>C</span><span style='color:red;'>C</span><span style='color:red;'>C</span>HH<span style='color:red;'>H</span><span style='color:red;'>H</span><span style='color:red;'>H</span><span style='color:red;'>H</span><span style='color:red;'>H</span>EEE<span style='color:red;'>H</span><span style='color:red;'>H</span>C<span style='color:red;'>H</span><span style='color:red;'>H</span><span style='color:red;'>C</span><span style='color:red;'>H</span><span style='color:red;'>H</span><span style='color:red;'>H</span><span style='color:red;'>H</span>C<span style='color:red;'>H</span>CCHHHHHHHHHHH<span style='color:red;'>E</span><span style='color:red;'>E</span><span style='color:red;'>C</span><span style='color:red;'>C</span>CCCCCCCCCCCCCC<span style='color:red;'>H</span>CCCCCCCC"
            ]
          },
          "metadata": {}
        },
        {
          "output_type": "display_data",
          "data": {
            "text/plain": [
              "<IPython.core.display.HTML object>"
            ],
            "text/html": [
              "<hr>"
            ]
          },
          "metadata": {}
        },
        {
          "output_type": "display_data",
          "data": {
            "text/plain": [
              "<IPython.core.display.HTML object>"
            ],
            "text/html": [
              "<strong>Sequence:</strong> MGSSHHHHHHSSGLVPRGSHMTTDEADETRSNETQNPHKPSPSRLSTGASADAVWDNGIDDAYFLEATEDAELAEAAENSLLSYNSEVDEIPDELIIEVLQE"
            ]
          },
          "metadata": {}
        },
        {
          "output_type": "display_data",
          "data": {
            "text/plain": [
              "<IPython.core.display.HTML object>"
            ],
            "text/html": [
              "<strong>True Label:</strong> CCCCCCCCCCCCCCCCCCCCCCCCCCCCCCCCCCCCCCCCCCCCCCCCCCCCCCCCCCCCCCCCCCCCCCCCCCCCCCCCCCCCCCCCCCCCHHHHCCCCCC<br><strong>Predicted Label:</strong> CCCCCCCCCCCCCCCCCCCCCCCC<span style='color:red;'>H</span>CCCCCCCCCCCCCCCCCCCCCCCCC<span style='color:red;'>H</span><span style='color:red;'>H</span><span style='color:red;'>H</span><span style='color:red;'>H</span><span style='color:red;'>H</span>CCCCC<span style='color:red;'>H</span><span style='color:red;'>H</span><span style='color:red;'>H</span><span style='color:red;'>H</span><span style='color:red;'>H</span><span style='color:red;'>E</span><span style='color:red;'>H</span>C<span style='color:red;'>H</span><span style='color:red;'>H</span><span style='color:red;'>H</span><span style='color:red;'>H</span><span style='color:red;'>H</span><span style='color:red;'>H</span><span style='color:red;'>H</span><span style='color:red;'>H</span><span style='color:red;'>H</span><span style='color:red;'>H</span><span style='color:red;'>H</span><span style='color:red;'>H</span><span style='color:red;'>H</span><span style='color:red;'>H</span><span style='color:red;'>H</span>CCC<span style='color:red;'>H</span><span style='color:red;'>H</span>CCCCHH<span style='color:red;'>E</span><span style='color:red;'>E</span><span style='color:red;'>H</span><span style='color:red;'>H</span><span style='color:red;'>H</span><span style='color:red;'>H</span>CC"
            ]
          },
          "metadata": {}
        },
        {
          "output_type": "display_data",
          "data": {
            "text/plain": [
              "<IPython.core.display.HTML object>"
            ],
            "text/html": [
              "<hr>"
            ]
          },
          "metadata": {}
        },
        {
          "output_type": "display_data",
          "data": {
            "text/plain": [
              "<IPython.core.display.HTML object>"
            ],
            "text/html": [
              "<strong>Sequence:</strong> KENGKRTEVKIGAKTSVMKEKDGKLFTGKANKETNKVDGANATEDADEGKGLVTAKDVIDAVNKTGWRIKTTDANGQNGDFATVASGTNVTFASGNGTTATVTNGTDGITVKYDAK"
            ]
          },
          "metadata": {}
        },
        {
          "output_type": "display_data",
          "data": {
            "text/plain": [
              "<IPython.core.display.HTML object>"
            ],
            "text/html": [
              "<strong>True Label:</strong> CCCCCCCCCCCCCCECCCEEECCEEECHHHHHHCCCCCCCCHHHHCCCCCCECCHHHHHHHHHHCEEEEEEECCCCCEEEEEEEECCCCCCCCCCCCEEEEEEEECCEEEEEEEEC<br><strong>Predicted Label:</strong> CCCCCCC<span style='color:red;'>E</span><span style='color:red;'>E</span><span style='color:red;'>E</span><span style='color:red;'>E</span>CCC<span style='color:red;'>C</span><span style='color:red;'>H</span><span style='color:red;'>H</span><span style='color:red;'>H</span><span style='color:red;'>C</span><span style='color:red;'>C</span><span style='color:red;'>C</span>CC<span style='color:red;'>C</span>EEC<span style='color:red;'>C</span><span style='color:red;'>C</span><span style='color:red;'>C</span><span style='color:red;'>C</span><span style='color:red;'>C</span><span style='color:red;'>C</span>CCCCCCCC<span style='color:red;'>C</span><span style='color:red;'>C</span>H<span style='color:red;'>C</span>CCCCCCE<span style='color:red;'>E</span><span style='color:red;'>E</span>HHHHHHHH<span style='color:red;'>C</span><span style='color:red;'>C</span>C<span style='color:red;'>C</span><span style='color:red;'>C</span>EEE<span style='color:red;'>C</span><span style='color:red;'>C</span>CCCCC<span style='color:red;'>C</span><span style='color:red;'>C</span><span style='color:red;'>C</span>E<span style='color:red;'>H</span><span style='color:red;'>H</span><span style='color:red;'>H</span><span style='color:red;'>C</span>CCC<span style='color:red;'>E</span><span style='color:red;'>E</span>C<span style='color:red;'>E</span><span style='color:red;'>E</span>CCCC<span style='color:red;'>C</span>EEEE<span style='color:red;'>C</span><span style='color:red;'>C</span><span style='color:red;'>C</span>CC<span style='color:red;'>C</span><span style='color:red;'>C</span>EEEE<span style='color:red;'>C</span><span style='color:red;'>C</span>C"
            ]
          },
          "metadata": {}
        },
        {
          "output_type": "display_data",
          "data": {
            "text/plain": [
              "<IPython.core.display.HTML object>"
            ],
            "text/html": [
              "<hr>"
            ]
          },
          "metadata": {}
        },
        {
          "output_type": "display_data",
          "data": {
            "text/plain": [
              "<IPython.core.display.HTML object>"
            ],
            "text/html": [
              "<strong>Sequence:</strong> AFACSFPPSEIPGSKECLAEALQKHQGFKKKSYALICAYLNYKEDAENYERAAEDFDSAVKCTGCKEGVDLHEGNPELIEEGFEKFLASLKIDRKALGSLCTLFQKLYAIPHN"
            ]
          },
          "metadata": {}
        },
        {
          "output_type": "display_data",
          "data": {
            "text/plain": [
              "<IPython.core.display.HTML object>"
            ],
            "text/html": [
              "<strong>True Label:</strong> CCCCCCCCCCCCCCCCHHHHHHHHCHHHHHHHHHHHHHHHCHHHCHHHHHHHHHHHHHHHHHHCCCCCCCCCCCCHHHHHHHHHHHHHHHCCCHHHHHHHHHHHHHHCCCCCC<br><strong>Predicted Label:</strong> CC<span style='color:red;'>E</span><span style='color:red;'>E</span>CCCCCCCCCCC<span style='color:red;'>H</span>HHHHHHHHC<span style='color:red;'>C</span><span style='color:red;'>C</span><span style='color:red;'>C</span><span style='color:red;'>C</span><span style='color:red;'>C</span><span style='color:red;'>C</span><span style='color:red;'>C</span><span style='color:red;'>E</span><span style='color:red;'>E</span><span style='color:red;'>E</span><span style='color:red;'>E</span>HHHHC<span style='color:red;'>C</span><span style='color:red;'>C</span><span style='color:red;'>C</span>C<span style='color:red;'>C</span><span style='color:red;'>C</span>HHHHHHHHHHHH<span style='color:red;'>E</span><span style='color:red;'>E</span><span style='color:red;'>C</span><span style='color:red;'>C</span>CCCCCCCCCCCCHHHHHHHHHHHHHH<span style='color:red;'>E</span>C<span style='color:red;'>E</span>CHHHHHHH<span style='color:red;'>E</span>HHHHHH<span style='color:red;'>E</span><span style='color:red;'>E</span>CCCC"
            ]
          },
          "metadata": {}
        },
        {
          "output_type": "display_data",
          "data": {
            "text/plain": [
              "<IPython.core.display.HTML object>"
            ],
            "text/html": [
              "<hr>"
            ]
          },
          "metadata": {}
        },
        {
          "output_type": "display_data",
          "data": {
            "text/plain": [
              "<IPython.core.display.HTML object>"
            ],
            "text/html": [
              "<strong>Sequence:</strong> SNALNSAPTPRDVVANAPAPVQAAVAGAQEYAAQAGLNTEELAVDALYNAIKVRLAGTGLGIPPQIEAFYQANRTNFNGFYMANRGAIDFIFSM"
            ]
          },
          "metadata": {}
        },
        {
          "output_type": "display_data",
          "data": {
            "text/plain": [
              "<IPython.core.display.HTML object>"
            ],
            "text/html": [
              "<strong>True Label:</strong> CCCCCCCCCHHHHCCCCCHHHHHHHHHHHHHHHHHCCCHHHHHHHHHHHHHHHHHHCCCCCCCHHHHHHHHCCCCCHHHHHHHCHHHHHHHHHC<br><strong>Predicted Label:</strong> CCC<span style='color:red;'>H</span>CCCCC<span style='color:red;'>C</span>HHH<span style='color:red;'>H</span><span style='color:red;'>H</span>CCC<span style='color:red;'>C</span><span style='color:red;'>C</span>HHHHHH<span style='color:red;'>C</span><span style='color:red;'>C</span>HHHHHHHCCC<span style='color:red;'>C</span>HHHHHHHHHHH<span style='color:red;'>E</span><span style='color:red;'>E</span>H<span style='color:red;'>E</span><span style='color:red;'>E</span><span style='color:red;'>C</span>CCCCCCC<span style='color:red;'>C</span>HHHHHHH<span style='color:red;'>H</span>CCCC<span style='color:red;'>C</span><span style='color:red;'>C</span><span style='color:red;'>C</span>H<span style='color:red;'>E</span><span style='color:red;'>E</span><span style='color:red;'>C</span>C<span style='color:red;'>C</span><span style='color:red;'>C</span><span style='color:red;'>C</span>HHHH<span style='color:red;'>E</span><span style='color:red;'>C</span>C"
            ]
          },
          "metadata": {}
        },
        {
          "output_type": "display_data",
          "data": {
            "text/plain": [
              "<IPython.core.display.HTML object>"
            ],
            "text/html": [
              "<hr>"
            ]
          },
          "metadata": {}
        },
        {
          "output_type": "display_data",
          "data": {
            "text/plain": [
              "<IPython.core.display.HTML object>"
            ],
            "text/html": [
              "<strong>Sequence:</strong> QFSDMRISINQTPGKSLDFGFTIKWDIPGIFVASVEAGSPAEFSQLQVDDEIIAINNTKFSYNDSKEWEEAMAKAQETGHLVMDVRRYGK"
            ]
          },
          "metadata": {}
        },
        {
          "output_type": "display_data",
          "data": {
            "text/plain": [
              "<IPython.core.display.HTML object>"
            ],
            "text/html": [
              "<strong>True Label:</strong> CEEEEEEEEECCCCCCCCCCEEEEEECCEEEEEEECCCCHHHHCCCCCCCEEEEECCEECCCCCHHHHHHHHHHHHHHCEEEEEEEEECC<br><strong>Predicted Label:</strong> C<span style='color:red;'>C</span><span style='color:red;'>C</span><span style='color:red;'>C</span><span style='color:red;'>C</span>EEEE<span style='color:red;'>C</span>CCCCCC<span style='color:red;'>E</span>CCCEEEEE<span style='color:red;'>C</span>CC<span style='color:red;'>C</span><span style='color:red;'>H</span>EEE<span style='color:red;'>H</span><span style='color:red;'>H</span><span style='color:red;'>H</span>CCC<span style='color:red;'>C</span><span style='color:red;'>C</span>HH<span style='color:red;'>H</span><span style='color:red;'>H</span><span style='color:red;'>H</span>C<span style='color:red;'>E</span>C<span style='color:red;'>H</span><span style='color:red;'>H</span>EEEECC<span style='color:red;'>C</span><span style='color:red;'>C</span>C<span style='color:red;'>E</span><span style='color:red;'>E</span>CC<span style='color:red;'>C</span><span style='color:red;'>C</span>HHHHHHHHHH<span style='color:red;'>C</span><span style='color:red;'>C</span>C<span style='color:red;'>C</span>EEE<span style='color:red;'>H</span><span style='color:red;'>H</span><span style='color:red;'>H</span><span style='color:red;'>H</span><span style='color:red;'>C</span>CC"
            ]
          },
          "metadata": {}
        },
        {
          "output_type": "display_data",
          "data": {
            "text/plain": [
              "<IPython.core.display.HTML object>"
            ],
            "text/html": [
              "<hr>"
            ]
          },
          "metadata": {}
        },
        {
          "output_type": "display_data",
          "data": {
            "text/plain": [
              "<IPython.core.display.HTML object>"
            ],
            "text/html": [
              "<strong>Sequence:</strong> WKEPCRIELYRVVESLAKAQETSGEEISKFYLPNCNKNGFYHSRQCETSMDGEAGLCWCVYPWNGKRIPGSPEIRGDPNC"
            ]
          },
          "metadata": {}
        },
        {
          "output_type": "display_data",
          "data": {
            "text/plain": [
              "<IPython.core.display.HTML object>"
            ],
            "text/html": [
              "<strong>True Label:</strong> CCCHHHHHHHHHHHHHHHHHHHCCCCCCEECCCCECCCCCECCEEECEECCCCCCCEEEECCCCCCECCCCCCECCCCCC<br><strong>Predicted Label:</strong> CCC<span style='color:red;'>C</span><span style='color:red;'>C</span><span style='color:red;'>E</span><span style='color:red;'>E</span><span style='color:red;'>E</span><span style='color:red;'>E</span><span style='color:red;'>E</span>HHHHHHHHH<span style='color:red;'>C</span><span style='color:red;'>C</span><span style='color:red;'>C</span>CCC<span style='color:red;'>H</span><span style='color:red;'>H</span><span style='color:red;'>H</span><span style='color:red;'>H</span>E<span style='color:red;'>E</span>CCC<span style='color:red;'>C</span>CCCCCECC<span style='color:red;'>C</span><span style='color:red;'>C</span><span style='color:red;'>C</span>C<span style='color:red;'>C</span><span style='color:red;'>C</span>CCCCCC<span style='color:red;'>E</span>EEEE<span style='color:red;'>E</span>CCCCC<span style='color:red;'>C</span>CCCCCC<span style='color:red;'>C</span>CCCCCC"
            ]
          },
          "metadata": {}
        },
        {
          "output_type": "display_data",
          "data": {
            "text/plain": [
              "<IPython.core.display.HTML object>"
            ],
            "text/html": [
              "<hr>"
            ]
          },
          "metadata": {}
        },
        {
          "output_type": "display_data",
          "data": {
            "text/plain": [
              "<IPython.core.display.HTML object>"
            ],
            "text/html": [
              "<strong>Sequence:</strong> GMNKKTQLLEVIAALPEELVDQALNYVQMLQNPIQITPGVCGGQARIRNTRIPVWTLVAYRQQGAPDKELLANYPGLTAEDLSAAWHYYEQNPEQIDREIAQDDLV"
            ]
          },
          "metadata": {}
        },
        {
          "output_type": "display_data",
          "data": {
            "text/plain": [
              "<IPython.core.display.HTML object>"
            ],
            "text/html": [
              "<strong>True Label:</strong> CCCHHHHHHHHHHCCCHHHHHHHHHHHHHHHCCEECCCCCHHHCCEECCCCCEHHHHHHHHHCCCCHHHHHHHCCCCCHHHHHHHHHHHHHCHHHHHHHHCCCCCC<br><strong>Predicted Label:</strong> CCC<span style='color:red;'>C</span><span style='color:red;'>C</span>HHHHHHHH<span style='color:red;'>H</span>C<span style='color:red;'>H</span>HHHHHHHHHHHHHH<span style='color:red;'>C</span>C<span style='color:red;'>H</span>E<span style='color:red;'>C</span><span style='color:red;'>E</span>CCCC<span style='color:red;'>C</span><span style='color:red;'>C</span><span style='color:red;'>C</span>C<span style='color:red;'>E</span>E<span style='color:red;'>H</span><span style='color:red;'>H</span>CCCC<span style='color:red;'>C</span><span style='color:red;'>E</span><span style='color:red;'>E</span><span style='color:red;'>E</span><span style='color:red;'>E</span><span style='color:red;'>E</span>HHHHCCCC<span style='color:red;'>C</span>HHHHH<span style='color:red;'>C</span>CCCCCHHHHHHHHHHH<span style='color:red;'>C</span><span style='color:red;'>C</span>CHHHHHHHH<span style='color:red;'>H</span><span style='color:red;'>H</span><span style='color:red;'>H</span>CCC"
            ]
          },
          "metadata": {}
        },
        {
          "output_type": "display_data",
          "data": {
            "text/plain": [
              "<IPython.core.display.HTML object>"
            ],
            "text/html": [
              "<hr>"
            ]
          },
          "metadata": {}
        },
        {
          "output_type": "display_data",
          "data": {
            "text/plain": [
              "<IPython.core.display.HTML object>"
            ],
            "text/html": [
              "<strong>Sequence:</strong> MFNDRVIVKKSPLGGYGVFARKSFEKGELVEECLCIVRHNDDWGTALEDYLFSRKNMSAMALGFGAIFNHSKDPNARHELTAGLKRMRIFTIKPIAIGEEITISYGDDYWLSRPRLTQN"
            ]
          },
          "metadata": {}
        },
        {
          "output_type": "display_data",
          "data": {
            "text/plain": [
              "<IPython.core.display.HTML object>"
            ],
            "text/html": [
              "<strong>True Label:</strong> CECCCEEEEECCCCCEEEEECCCECCCCEEEEEEEEEEEHHHCCCCCCCCCEEECCEEEEECECCCCCEECCCCCEEEEECCCCCEEEEEECCCECCCCEEEECCCCCCCCCCCCCCCC<br><strong>Predicted Label:</strong> C<span style='color:red;'>C</span>CC<span style='color:red;'>E</span>EEEE<span style='color:red;'>C</span>CCCCC<span style='color:red;'>C</span>EEEECC<span style='color:red;'>H</span><span style='color:red;'>H</span>CCCC<span style='color:red;'>H</span><span style='color:red;'>H</span><span style='color:red;'>H</span><span style='color:red;'>H</span><span style='color:red;'>H</span>EEEEEE<span style='color:red;'>C</span><span style='color:red;'>C</span><span style='color:red;'>C</span>C<span style='color:red;'>H</span><span style='color:red;'>H</span><span style='color:red;'>H</span><span style='color:red;'>H</span><span style='color:red;'>H</span><span style='color:red;'>H</span><span style='color:red;'>H</span><span style='color:red;'>H</span>E<span style='color:red;'>C</span><span style='color:red;'>C</span>CC<span style='color:red;'>H</span><span style='color:red;'>H</span><span style='color:red;'>H</span><span style='color:red;'>H</span><span style='color:red;'>H</span><span style='color:red;'>H</span><span style='color:red;'>C</span>CC<span style='color:red;'>E</span><span style='color:red;'>H</span><span style='color:red;'>E</span><span style='color:red;'>C</span><span style='color:red;'>C</span>CCCCC<span style='color:red;'>C</span><span style='color:red;'>C</span><span style='color:red;'>C</span><span style='color:red;'>H</span><span style='color:red;'>H</span><span style='color:red;'>H</span><span style='color:red;'>H</span><span style='color:red;'>H</span><span style='color:red;'>H</span><span style='color:red;'>H</span><span style='color:red;'>C</span><span style='color:red;'>H</span>EEEE<span style='color:red;'>E</span><span style='color:red;'>E</span><span style='color:red;'>E</span>E<span style='color:red;'>E</span>CCCEEEE<span style='color:red;'>E</span>CCCC<span style='color:red;'>E</span><span style='color:red;'>E</span><span style='color:red;'>E</span>CCCCCCCC"
            ]
          },
          "metadata": {}
        },
        {
          "output_type": "display_data",
          "data": {
            "text/plain": [
              "<IPython.core.display.HTML object>"
            ],
            "text/html": [
              "<hr>"
            ]
          },
          "metadata": {}
        },
        {
          "output_type": "display_data",
          "data": {
            "text/plain": [
              "<IPython.core.display.HTML object>"
            ],
            "text/html": [
              "<strong>Sequence:</strong> DKKAYFYHSSFQILNVEYTEALNSPATHEYRTLSERIEAMITDEFRGSSLKSEFIRTHVVKLRKEGTGVVADVVMKFRSSKRNNRKVMKTRIQSVLRRLSSSGNLEIAPSNEITSLTDQDT"
            ]
          },
          "metadata": {}
        },
        {
          "output_type": "display_data",
          "data": {
            "text/plain": [
              "<IPython.core.display.HTML object>"
            ],
            "text/html": [
              "<strong>True Label:</strong> CCCEEEEEEEEEEEEEECCHHHHCCCCHHHHHHHHHHHHHHHHHHHCCCCCCCEEEEEEEEEEEECCEEEEEEEEEEECCCCCCHHHHHHHHHHHHHHHCCCCCCEECCCCCCCCCCCCCC<br><strong>Predicted Label:</strong> CCCEEEE<span style='color:red;'>C</span><span style='color:red;'>C</span><span style='color:red;'>C</span>EEEE<span style='color:red;'>C</span>E<span style='color:red;'>C</span><span style='color:red;'>E</span><span style='color:red;'>H</span>HHH<span style='color:red;'>C</span>CCCC<span style='color:red;'>C</span><span style='color:red;'>C</span>H<span style='color:red;'>C</span><span style='color:red;'>C</span>HHHHHHHHHHHH<span style='color:red;'>C</span><span style='color:red;'>C</span>CCCC<span style='color:red;'>H</span><span style='color:red;'>H</span><span style='color:red;'>H</span><span style='color:red;'>H</span><span style='color:red;'>H</span><span style='color:red;'>H</span><span style='color:red;'>H</span><span style='color:red;'>H</span>EE<span style='color:red;'>H</span><span style='color:red;'>H</span><span style='color:red;'>C</span><span style='color:red;'>H</span><span style='color:red;'>C</span>CC<span style='color:red;'>C</span>EEE<span style='color:red;'>H</span><span style='color:red;'>H</span><span style='color:red;'>H</span><span style='color:red;'>H</span>EE<span style='color:red;'>C</span>CCCCCC<span style='color:red;'>C</span>HHHHHH<span style='color:red;'>E</span>HHHHHHHCCCCC<span style='color:red;'>E</span>EECCCCC<span style='color:red;'>H</span><span style='color:red;'>E</span>C<span style='color:red;'>H</span>CCCCC"
            ]
          },
          "metadata": {}
        },
        {
          "output_type": "display_data",
          "data": {
            "text/plain": [
              "<IPython.core.display.HTML object>"
            ],
            "text/html": [
              "<hr>"
            ]
          },
          "metadata": {}
        },
        {
          "output_type": "display_data",
          "data": {
            "text/plain": [
              "<IPython.core.display.HTML object>"
            ],
            "text/html": [
              "<strong>Sequence:</strong> MNAEINPLHAYFKLPNTVSLVAGSSEGETPLNAFDGALLNAGIGNVNLIRIS"
            ]
          },
          "metadata": {}
        },
        {
          "output_type": "display_data",
          "data": {
            "text/plain": [
              "<IPython.core.display.HTML object>"
            ],
            "text/html": [
              "<strong>True Label:</strong> CCCCCCCCCCCCCCCCEEEEEEEEEECCCHHHHHHHHHHHHCCCCCEEEECC<br><strong>Predicted Label:</strong> CCCCCC<span style='color:red;'>H</span><span style='color:red;'>H</span><span style='color:red;'>H</span><span style='color:red;'>H</span><span style='color:red;'>H</span><span style='color:red;'>E</span>CCCC<span style='color:red;'>C</span>E<span style='color:red;'>H</span>EE<span style='color:red;'>C</span><span style='color:red;'>C</span><span style='color:red;'>C</span><span style='color:red;'>C</span><span style='color:red;'>C</span>CCC<span style='color:red;'>C</span>HH<span style='color:red;'>C</span><span style='color:red;'>C</span><span style='color:red;'>C</span><span style='color:red;'>C</span>HHHH<span style='color:red;'>C</span>CCCC<span style='color:red;'>E</span>EEEECC"
            ]
          },
          "metadata": {}
        },
        {
          "output_type": "display_data",
          "data": {
            "text/plain": [
              "<IPython.core.display.HTML object>"
            ],
            "text/html": [
              "<hr>"
            ]
          },
          "metadata": {}
        },
        {
          "output_type": "display_data",
          "data": {
            "text/plain": [
              "<IPython.core.display.HTML object>"
            ],
            "text/html": [
              "<strong>Sequence:</strong> MAGTSEAVKKWVNKIIEENIIAVFAKTECPYCIKAISILKGYNLNSHMHVENIEKNPDMANIQAYLKELTGKSSVPRIFINKDVVGGCDDLVKENDEGKLKERLQKLGLVN"
            ]
          },
          "metadata": {}
        },
        {
          "output_type": "display_data",
          "data": {
            "text/plain": [
              "<IPython.core.display.HTML object>"
            ],
            "text/html": [
              "<strong>True Label:</strong> CCCCCCHHHHHHHHHHHHCCEEEEECCCCHHHHHHHHHHHHCCCHHHEEEEECCCCCCHHHHHHHHHHHHCCCCCCEEEECCEEEECHHHHHHHHHHCHHHHHHHHCCCCC<br><strong>Predicted Label:</strong> CCCCC<span style='color:red;'>H</span>HHHHHHHHHHHH<span style='color:red;'>H</span><span style='color:red;'>H</span><span style='color:red;'>H</span>E<span style='color:red;'>H</span><span style='color:red;'>H</span><span style='color:red;'>C</span>CCCC<span style='color:red;'>C</span><span style='color:red;'>C</span><span style='color:red;'>E</span>HH<span style='color:red;'>E</span>HHHHH<span style='color:red;'>C</span>CCC<span style='color:red;'>C</span><span style='color:red;'>C</span><span style='color:red;'>C</span><span style='color:red;'>C</span><span style='color:red;'>C</span><span style='color:red;'>H</span><span style='color:red;'>H</span><span style='color:red;'>H</span><span style='color:red;'>H</span>CCC<span style='color:red;'>H</span>CH<span style='color:red;'>C</span>HHHHHHHHH<span style='color:red;'>C</span>CCCCCCEEEECC<span style='color:red;'>C</span><span style='color:red;'>C</span><span style='color:red;'>C</span><span style='color:red;'>C</span>C<span style='color:red;'>C</span><span style='color:red;'>C</span>HHH<span style='color:red;'>C</span><span style='color:red;'>C</span><span style='color:red;'>C</span><span style='color:red;'>C</span><span style='color:red;'>C</span>C<span style='color:red;'>C</span>HHHHHHHCCCCC"
            ]
          },
          "metadata": {}
        },
        {
          "output_type": "display_data",
          "data": {
            "text/plain": [
              "<IPython.core.display.HTML object>"
            ],
            "text/html": [
              "<hr>"
            ]
          },
          "metadata": {}
        },
        {
          "output_type": "display_data",
          "data": {
            "text/plain": [
              "<IPython.core.display.HTML object>"
            ],
            "text/html": [
              "<strong>Sequence:</strong> VSQPAPMSPKVTVGGSVGGVSLQARQAQLRLRLYAVVQGRMQTIAERRYRVSGLPLRYAFDLEVDRLEGEALYLRTELSWVGVAAVQASAWQQVAAGVDERVRLVRRDCFPNCTAARPEERSGND"
            ]
          },
          "metadata": {}
        },
        {
          "output_type": "display_data",
          "data": {
            "text/plain": [
              "<IPython.core.display.HTML object>"
            ],
            "text/html": [
              "<strong>True Label:</strong> CCCCCCCCCEEEEEEEEECCCCCCCCEEEEEEEEEEECCEEEEEEEEEEEECCCCEEEEEEEEHHHHCCCCEEEEEEEEECCCCCCCEEEEEEECCCCEEEEECEECCCCCCCCCCCCCCCCCCC<br><strong>Predicted Label:</strong> CCCCCCCCC<span style='color:red;'>C</span>EEE<span style='color:red;'>C</span><span style='color:red;'>C</span><span style='color:red;'>C</span><span style='color:red;'>C</span><span style='color:red;'>C</span>C<span style='color:red;'>E</span><span style='color:red;'>E</span><span style='color:red;'>E</span><span style='color:red;'>H</span><span style='color:red;'>H</span><span style='color:red;'>H</span><span style='color:red;'>H</span><span style='color:red;'>H</span><span style='color:red;'>H</span><span style='color:red;'>H</span><span style='color:red;'>H</span><span style='color:red;'>H</span><span style='color:red;'>H</span>EE<span style='color:red;'>H</span>E<span style='color:red;'>H</span>CC<span style='color:red;'>C</span><span style='color:red;'>C</span><span style='color:red;'>H</span><span style='color:red;'>H</span><span style='color:red;'>H</span><span style='color:red;'>H</span><span style='color:red;'>H</span><span style='color:red;'>H</span><span style='color:red;'>H</span>EEECCCCEEE<span style='color:red;'>H</span>EE<span style='color:red;'>C</span><span style='color:red;'>C</span>HHH<span style='color:red;'>C</span>CC<span style='color:red;'>H</span><span style='color:red;'>E</span>E<span style='color:red;'>H</span><span style='color:red;'>H</span><span style='color:red;'>H</span><span style='color:red;'>H</span><span style='color:red;'>H</span><span style='color:red;'>C</span>EE<span style='color:red;'>E</span><span style='color:red;'>H</span><span style='color:red;'>E</span><span style='color:red;'>H</span><span style='color:red;'>H</span><span style='color:red;'>H</span><span style='color:red;'>H</span><span style='color:red;'>H</span><span style='color:red;'>H</span><span style='color:red;'>H</span><span style='color:red;'>H</span><span style='color:red;'>H</span><span style='color:red;'>H</span><span style='color:red;'>H</span><span style='color:red;'>H</span><span style='color:red;'>H</span>CC<span style='color:red;'>C</span><span style='color:red;'>H</span><span style='color:red;'>H</span>E<span style='color:red;'>H</span><span style='color:red;'>E</span>E<span style='color:red;'>H</span><span style='color:red;'>H</span>CCCCCCCCCCCCCCCCCC"
            ]
          },
          "metadata": {}
        },
        {
          "output_type": "display_data",
          "data": {
            "text/plain": [
              "<IPython.core.display.HTML object>"
            ],
            "text/html": [
              "<hr>"
            ]
          },
          "metadata": {}
        },
        {
          "output_type": "display_data",
          "data": {
            "text/plain": [
              "<IPython.core.display.HTML object>"
            ],
            "text/html": [
              "<strong>Sequence:</strong> SVDMMDLPRSRINAGMLAQFIDKPVCFVGRLEKIHPTGKMFILSDGEGKNGTIELMEPLDEEISGIVEVVGRVTAKATILCTSYVQFKEDSHPFDLGLYNEAVKIIHDFPQFYPLGIVQHD"
            ]
          },
          "metadata": {}
        },
        {
          "output_type": "display_data",
          "data": {
            "text/plain": [
              "<IPython.core.display.HTML object>"
            ],
            "text/html": [
              "<strong>True Label:</strong> CCCHHHCCCEEECHHHCHHHCCCEEEEEEEEEEECCCCCEEEEECCCCCEEEEECCCCCCCCCCCEEEEEEEECCCCCEEEEEEEECCCCCCCCCHHHHHHHHHHHHHCHHHCCCCCCCCC<br><strong>Predicted Label:</strong> CCCH<span style='color:red;'>C</span><span style='color:red;'>C</span>CCC<span style='color:red;'>C</span><span style='color:red;'>H</span><span style='color:red;'>H</span><span style='color:red;'>H</span>HHH<span style='color:red;'>H</span>HHH<span style='color:red;'>H</span>CC<span style='color:red;'>C</span>EEEE<span style='color:red;'>C</span><span style='color:red;'>H</span><span style='color:red;'>H</span><span style='color:red;'>H</span><span style='color:red;'>C</span><span style='color:red;'>C</span>CCCCCEEEE<span style='color:red;'>C</span>CCCCC<span style='color:red;'>C</span><span style='color:red;'>C</span><span style='color:red;'>C</span>EE<span style='color:red;'>E</span><span style='color:red;'>H</span><span style='color:red;'>H</span><span style='color:red;'>H</span>CCC<span style='color:red;'>H</span><span style='color:red;'>H</span><span style='color:red;'>H</span>CEEEEE<span style='color:red;'>C</span>EE<span style='color:red;'>E</span><span style='color:red;'>E</span><span style='color:red;'>H</span><span style='color:red;'>H</span><span style='color:red;'>E</span>EEE<span style='color:red;'>H</span><span style='color:red;'>H</span>EE<span style='color:red;'>H</span><span style='color:red;'>E</span>CCCCCCCC<span style='color:red;'>C</span><span style='color:red;'>C</span>HHHHHHH<span style='color:red;'>E</span>HH<span style='color:red;'>C</span>C<span style='color:red;'>C</span><span style='color:red;'>C</span>HCCCC<span style='color:red;'>H</span><span style='color:red;'>E</span>CCC"
            ]
          },
          "metadata": {}
        },
        {
          "output_type": "display_data",
          "data": {
            "text/plain": [
              "<IPython.core.display.HTML object>"
            ],
            "text/html": [
              "<hr>"
            ]
          },
          "metadata": {}
        },
        {
          "output_type": "display_data",
          "data": {
            "text/plain": [
              "<IPython.core.display.HTML object>"
            ],
            "text/html": [
              "<strong>Sequence:</strong> AEDIQAKIKNYQTAPFDSRFPNQNQTRNCWQNYLDFHRCEKAMTAKGGDVSVCEWYRRVYKSLCPISWVSTWDDRRAEGTFPGKI"
            ]
          },
          "metadata": {}
        },
        {
          "output_type": "display_data",
          "data": {
            "text/plain": [
              "<IPython.core.display.HTML object>"
            ],
            "text/html": [
              "<strong>True Label:</strong> CCCCCCCCCCCCCCCCCCCCCCCECHHHHHHHHHHHHHHHHHHHCCCCCHHHHHHHHHHHHHHCCHHHHHHHHHHHHHCCCCCCC<br><strong>Predicted Label:</strong> CC<span style='color:red;'>H</span><span style='color:red;'>H</span><span style='color:red;'>H</span><span style='color:red;'>H</span><span style='color:red;'>H</span><span style='color:red;'>H</span><span style='color:red;'>H</span><span style='color:red;'>H</span><span style='color:red;'>H</span>CCCCCCCCCCCC<span style='color:red;'>C</span>C<span style='color:red;'>C</span>HHHHHHHHHH<span style='color:red;'>C</span>HHHHHH<span style='color:red;'>C</span>CCCCC<span style='color:red;'>E</span><span style='color:red;'>E</span><span style='color:red;'>E</span>HHHHHHHHHH<span style='color:red;'>C</span>CC<span style='color:red;'>C</span><span style='color:red;'>E</span><span style='color:red;'>E</span><span style='color:red;'>E</span><span style='color:red;'>E</span><span style='color:red;'>E</span><span style='color:red;'>E</span><span style='color:red;'>C</span>HHH<span style='color:red;'>C</span><span style='color:red;'>C</span>CCCCCCC"
            ]
          },
          "metadata": {}
        },
        {
          "output_type": "display_data",
          "data": {
            "text/plain": [
              "<IPython.core.display.HTML object>"
            ],
            "text/html": [
              "<hr>"
            ]
          },
          "metadata": {}
        },
        {
          "output_type": "display_data",
          "data": {
            "text/plain": [
              "<IPython.core.display.HTML object>"
            ],
            "text/html": [
              "<strong>Sequence:</strong> GAAALKNYYEVHKELFEGVQKWEETWRLFLEFERKASDPNRFTNRGGNLLKEEKQRAKLQKMLPKLEEELKARIELWEQEHSKAFMVNGQKFMEYVAEQWEMHRLEKERAKQERQLKNKKQTETEMLYGS"
            ]
          },
          "metadata": {}
        },
        {
          "output_type": "display_data",
          "data": {
            "text/plain": [
              "<IPython.core.display.HTML object>"
            ],
            "text/html": [
              "<strong>True Label:</strong> CCCHHHHHHCHHHHHHHHHHHHHHHHHHHHHHHHHHHCCCCCCCCCCCHHHHHHHHHHHHHHHHHHHHHHHHHHHHHHHHHCCCCEECCEEHHHHHHHHHHHHHHHHHHHHHHHHHHHHHHHHHHHHHCC<br><strong>Predicted Label:</strong> CCCHHHHHH<span style='color:red;'>H</span>HHHHHH<span style='color:red;'>C</span>HH<span style='color:red;'>C</span><span style='color:red;'>C</span>HHHHHHHHHHHHHH<span style='color:red;'>C</span><span style='color:red;'>C</span>CCCCCCCCCCCH<span style='color:red;'>C</span>HHHHHHHHHHHHH<span style='color:red;'>C</span>HHHHHHHHHHHHHH<span style='color:red;'>C</span>HHC<span style='color:red;'>H</span>C<span style='color:red;'>E</span>EECC<span style='color:red;'>C</span>EHHHHHHHHHHHHHHHHHHHHHHHHHHH<span style='color:red;'>C</span><span style='color:red;'>C</span><span style='color:red;'>C</span><span style='color:red;'>C</span>HHHHH<span style='color:red;'>C</span>CC"
            ]
          },
          "metadata": {}
        },
        {
          "output_type": "display_data",
          "data": {
            "text/plain": [
              "<IPython.core.display.HTML object>"
            ],
            "text/html": [
              "<hr>"
            ]
          },
          "metadata": {}
        },
        {
          "output_type": "display_data",
          "data": {
            "text/plain": [
              "<IPython.core.display.HTML object>"
            ],
            "text/html": [
              "<strong>Sequence:</strong> MLAKNKGKIPGLKIDQKIRGQMPERGWTEDDIKNTVSNGATGTSFDKRSPKKTPPDYLGRNDPATVYGSPGKYVVVNDRTGEVTQISDKTDPGWVDDSRIQWGNKNDQ"
            ]
          },
          "metadata": {}
        },
        {
          "output_type": "display_data",
          "data": {
            "text/plain": [
              "<IPython.core.display.HTML object>"
            ],
            "text/html": [
              "<strong>True Label:</strong> CCCCCCCCCCCCECCHHHHHHHHHCCCCHHHHHHHHHCCEEEEEEEEECHHHCCCCCCCEEEEEEEEEECCEEEEEECCCCEEEEECCCCCCCCECCCCCEECCCCCC<br><strong>Predicted Label:</strong> CCCCCCCCCCCC<span style='color:red;'>C</span><span style='color:red;'>E</span><span style='color:red;'>H</span>HHHH<span style='color:red;'>C</span><span style='color:red;'>C</span><span style='color:red;'>C</span><span style='color:red;'>C</span><span style='color:red;'>C</span>CCCCHHHHHHH<span style='color:red;'>C</span><span style='color:red;'>C</span>CC<span style='color:red;'>C</span><span style='color:red;'>C</span><span style='color:red;'>C</span><span style='color:red;'>C</span><span style='color:red;'>C</span>E<span style='color:red;'>C</span><span style='color:red;'>C</span><span style='color:red;'>C</span>C<span style='color:red;'>C</span><span style='color:red;'>C</span><span style='color:red;'>C</span>CCCC<span style='color:red;'>H</span><span style='color:red;'>H</span>C<span style='color:red;'>C</span><span style='color:red;'>C</span><span style='color:red;'>C</span><span style='color:red;'>C</span><span style='color:red;'>C</span>EE<span style='color:red;'>C</span><span style='color:red;'>C</span><span style='color:red;'>C</span>CCEEEEEECCCC<span style='color:red;'>C</span>EEE<span style='color:red;'>C</span>CCCCCCCC<span style='color:red;'>C</span>CC<span style='color:red;'>H</span><span style='color:red;'>H</span><span style='color:red;'>E</span>EECCCCCC"
            ]
          },
          "metadata": {}
        },
        {
          "output_type": "display_data",
          "data": {
            "text/plain": [
              "<IPython.core.display.HTML object>"
            ],
            "text/html": [
              "<hr>"
            ]
          },
          "metadata": {}
        },
        {
          "output_type": "display_data",
          "data": {
            "text/plain": [
              "<IPython.core.display.HTML object>"
            ],
            "text/html": [
              "<strong>Sequence:</strong> ADLEDNWECLNDNLKVIEKADNAAQVKDALTKMRACALDAQKATPPKLEDKSPDSPEMKDFRHGFDILVGQIDDALKLANEGKVKEAQAAAEQLKTTRNAYIQKYL"
            ]
          },
          "metadata": {}
        },
        {
          "output_type": "display_data",
          "data": {
            "text/plain": [
              "<IPython.core.display.HTML object>"
            ],
            "text/html": [
              "<strong>True Label:</strong> CCCCHHHHHHHHHHHHHHHCCCHHHHHHHHHHHHHHHHHHHCCCCCCCCCCCCCCHHHHHHHHHHHHHHHHHHHHHHHHHCCCHHHHHHHHHHHHHHHHHHCHHHC<br><strong>Predicted Label:</strong> CCC<span style='color:red;'>H</span><span style='color:red;'>C</span><span style='color:red;'>C</span>H<span style='color:red;'>E</span>H<span style='color:red;'>C</span>H<span style='color:red;'>C</span><span style='color:red;'>C</span><span style='color:red;'>E</span><span style='color:red;'>E</span>HHHH<span style='color:red;'>H</span><span style='color:red;'>H</span><span style='color:red;'>H</span>HHHHHHHHHHHHHHHHHHHCCCCCCCCCCCCCC<span style='color:red;'>C</span>HHH<span style='color:red;'>C</span>HH<span style='color:red;'>C</span><span style='color:red;'>C</span>H<span style='color:red;'>E</span><span style='color:red;'>E</span>HH<span style='color:red;'>E</span>HHHHHHHHHHCCCHHHHHHHHHHHH<span style='color:red;'>C</span>HHHHH<span style='color:red;'>H</span>HH<span style='color:red;'>C</span>C"
            ]
          },
          "metadata": {}
        },
        {
          "output_type": "display_data",
          "data": {
            "text/plain": [
              "<IPython.core.display.HTML object>"
            ],
            "text/html": [
              "<hr>"
            ]
          },
          "metadata": {}
        },
        {
          "output_type": "display_data",
          "data": {
            "text/plain": [
              "<IPython.core.display.HTML object>"
            ],
            "text/html": [
              "<strong>Sequence:</strong> AMPLDAGGQNSTQMVLAPGASIFRCRQCGQTISRRDWLLPMGGDHEHVVFNPAGMIFRVWCFSLAQGLRLIGAPSGEFSWFKGYDWTIALCGQCGSHLGWHYEGGSQPQTFFGLIKDRLAEGPAD"
            ]
          },
          "metadata": {}
        },
        {
          "output_type": "display_data",
          "data": {
            "text/plain": [
              "<IPython.core.display.HTML object>"
            ],
            "text/html": [
              "<strong>True Label:</strong> CCCCCCCCCCCCCCCCCCCCEEEEECCCCCEEEEHHHECCHHHCCEEEEECCCCCEEEEEEECCCCCEEEEEEEECCCCCCCCCEEEEEEECCCCCEEEEEEECCCCCCCEEEEEHHHEEEEECC<br><strong>Predicted Label:</strong> CCCCCCCCCCCC<span style='color:red;'>H</span><span style='color:red;'>H</span><span style='color:red;'>E</span><span style='color:red;'>E</span>CCCC<span style='color:red;'>C</span>EEE<span style='color:red;'>C</span>CCCCCEE<span style='color:red;'>C</span><span style='color:red;'>H</span>HH<span style='color:red;'>C</span><span style='color:red;'>H</span>CC<span style='color:red;'>C</span><span style='color:red;'>C</span><span style='color:red;'>C</span>CCEEEEECCCCCEEEEEEE<span style='color:red;'>H</span><span style='color:red;'>H</span><span style='color:red;'>H</span><span style='color:red;'>H</span><span style='color:red;'>H</span><span style='color:red;'>H</span>EE<span style='color:red;'>C</span><span style='color:red;'>C</span><span style='color:red;'>C</span><span style='color:red;'>C</span><span style='color:red;'>C</span>CC<span style='color:red;'>E</span><span style='color:red;'>E</span><span style='color:red;'>E</span><span style='color:red;'>E</span>CCC<span style='color:red;'>C</span>EEEEE<span style='color:red;'>C</span>CCCCC<span style='color:red;'>C</span><span style='color:red;'>C</span><span style='color:red;'>C</span>EEE<span style='color:red;'>C</span>CCCCCC<span style='color:red;'>E</span><span style='color:red;'>H</span><span style='color:red;'>H</span><span style='color:red;'>H</span><span style='color:red;'>H</span><span style='color:red;'>H</span>HHH<span style='color:red;'>H</span><span style='color:red;'>C</span><span style='color:red;'>C</span><span style='color:red;'>C</span><span style='color:red;'>C</span>CC"
            ]
          },
          "metadata": {}
        },
        {
          "output_type": "display_data",
          "data": {
            "text/plain": [
              "<IPython.core.display.HTML object>"
            ],
            "text/html": [
              "<hr>"
            ]
          },
          "metadata": {}
        },
        {
          "output_type": "display_data",
          "data": {
            "text/plain": [
              "<IPython.core.display.HTML object>"
            ],
            "text/html": [
              "<strong>Sequence:</strong> HSFLVDASPSAKDHVAASPKLVKLRFGGGVEPAYSSISILDSTGKLVVEGAKGQADKPRELTLDAPELAVGSYVVKFRVLSSDGHIVEGKYEFTVDPHENLY"
            ]
          },
          "metadata": {}
        },
        {
          "output_type": "display_data",
          "data": {
            "text/plain": [
              "<IPython.core.display.HTML object>"
            ],
            "text/html": [
              "<strong>True Label:</strong> CCCEEEEECCCCCEECCCCCEEEEEECCCECHHHCEEEEECCCCCEEEEECECCCCCCCEEEEECCCCCCEEEEEEEEEEECCCCEEEEEEEEEECCCCCCC<br><strong>Predicted Label:</strong> CC<span style='color:red;'>E</span><span style='color:red;'>H</span>E<span style='color:red;'>C</span><span style='color:red;'>C</span><span style='color:red;'>C</span>CCC<span style='color:red;'>H</span><span style='color:red;'>H</span><span style='color:red;'>H</span><span style='color:red;'>H</span>CCCC<span style='color:red;'>H</span><span style='color:red;'>H</span><span style='color:red;'>H</span>EEE<span style='color:red;'>C</span>CCC<span style='color:red;'>C</span>C<span style='color:red;'>C</span><span style='color:red;'>C</span>HC<span style='color:red;'>C</span>EE<span style='color:red;'>H</span><span style='color:red;'>H</span>CCCC<span style='color:red;'>E</span>EEEE<span style='color:red;'>C</span>C<span style='color:red;'>C</span>CCCCCC<span style='color:red;'>H</span><span style='color:red;'>H</span><span style='color:red;'>C</span><span style='color:red;'>C</span>E<span style='color:red;'>C</span>C<span style='color:red;'>H</span><span style='color:red;'>H</span><span style='color:red;'>H</span>CC<span style='color:red;'>C</span>EEEEEEEEE<span style='color:red;'>C</span>CCCCEE<span style='color:red;'>C</span><span style='color:red;'>C</span>EEEEEECCCCCCC"
            ]
          },
          "metadata": {}
        },
        {
          "output_type": "display_data",
          "data": {
            "text/plain": [
              "<IPython.core.display.HTML object>"
            ],
            "text/html": [
              "<hr>"
            ]
          },
          "metadata": {}
        },
        {
          "output_type": "display_data",
          "data": {
            "text/plain": [
              "<IPython.core.display.HTML object>"
            ],
            "text/html": [
              "<strong>Sequence:</strong> CPLMVKVLDAVRGSPAINVAVHVFRKAADDTWEPFASGKTSESGELHGLTTEEEFVEGIYKVEIDTKSYWKALGISPFHEHAEVVFTANDSGPRRYTIAALLSPYSYSTMAVVTN"
            ]
          },
          "metadata": {}
        },
        {
          "output_type": "display_data",
          "data": {
            "text/plain": [
              "<IPython.core.display.HTML object>"
            ],
            "text/html": [
              "<strong>True Label:</strong> CCEEEEEEECCCCEECCCCEEEEEEECCCCCEEEEEEEECCCCCEECCCCCCCCCCCEEEEEEECHHHHHHHCCCCCCEEEEEEEEEECCCCCCEEEEEEEEECCEEEEEEEEEC<br><strong>Predicted Label:</strong> CC<span style='color:red;'>C</span>E<span style='color:red;'>H</span><span style='color:red;'>H</span><span style='color:red;'>H</span><span style='color:red;'>H</span><span style='color:red;'>H</span><span style='color:red;'>H</span><span style='color:red;'>H</span>CC<span style='color:red;'>C</span><span style='color:red;'>C</span>CC<span style='color:red;'>H</span><span style='color:red;'>H</span>EEE<span style='color:red;'>H</span><span style='color:red;'>H</span><span style='color:red;'>H</span><span style='color:red;'>H</span><span style='color:red;'>H</span><span style='color:red;'>H</span>CCC<span style='color:red;'>C</span><span style='color:red;'>C</span><span style='color:red;'>C</span><span style='color:red;'>C</span><span style='color:red;'>C</span><span style='color:red;'>C</span><span style='color:red;'>C</span><span style='color:red;'>C</span>CCCCC<span style='color:red;'>C</span><span style='color:red;'>C</span>CCCCC<span style='color:red;'>H</span><span style='color:red;'>H</span><span style='color:red;'>H</span><span style='color:red;'>H</span><span style='color:red;'>H</span><span style='color:red;'>H</span><span style='color:red;'>H</span>EEEEEEC<span style='color:red;'>C</span><span style='color:red;'>C</span>HHHHH<span style='color:red;'>H</span>CCC<span style='color:red;'>H</span>C<span style='color:red;'>C</span><span style='color:red;'>H</span><span style='color:red;'>H</span><span style='color:red;'>C</span>EEEEEECCCCCCEEE<span style='color:red;'>H</span><span style='color:red;'>H</span><span style='color:red;'>H</span><span style='color:red;'>H</span><span style='color:red;'>H</span><span style='color:red;'>C</span>CC<span style='color:red;'>C</span><span style='color:red;'>C</span><span style='color:red;'>C</span>EEEEE<span style='color:red;'>C</span>C"
            ]
          },
          "metadata": {}
        },
        {
          "output_type": "display_data",
          "data": {
            "text/plain": [
              "<IPython.core.display.HTML object>"
            ],
            "text/html": [
              "<hr>"
            ]
          },
          "metadata": {}
        },
        {
          "output_type": "display_data",
          "data": {
            "text/plain": [
              "<IPython.core.display.HTML object>"
            ],
            "text/html": [
              "<strong>Sequence:</strong> MVVKFMDVYQRSYCHPIETLVDIFQEYPDEIEYIFKPSCVPLMRCGGCANDEGLECVPTEESNITMQIMRIKPHQGQHIGEMSFLQHNKCEARPKK"
            ]
          },
          "metadata": {}
        },
        {
          "output_type": "display_data",
          "data": {
            "text/plain": [
              "<IPython.core.display.HTML object>"
            ],
            "text/html": [
              "<strong>True Label:</strong> CEECHHHHHHHHCCEEEEEEEEHHHHCCCCCCCEEECCEEEEEEEECCCCCCCCEEEEEEEEEEEEEEEEECCCCCCEEEEEEEEEEEEEEEECCC<br><strong>Predicted Label:</strong> CEE<span style='color:red;'>E</span><span style='color:red;'>E</span><span style='color:red;'>E</span>HHHH<span style='color:red;'>C</span>HCC<span style='color:red;'>C</span><span style='color:red;'>C</span><span style='color:red;'>H</span><span style='color:red;'>H</span><span style='color:red;'>H</span><span style='color:red;'>H</span><span style='color:red;'>H</span><span style='color:red;'>H</span>HHHHCCC<span style='color:red;'>H</span><span style='color:red;'>H</span><span style='color:red;'>E</span><span style='color:red;'>H</span>EE<span style='color:red;'>C</span>CC<span style='color:red;'>C</span><span style='color:red;'>C</span><span style='color:red;'>C</span>EEE<span style='color:red;'>C</span><span style='color:red;'>C</span>CCCCCCCC<span style='color:red;'>C</span>E<span style='color:red;'>C</span><span style='color:red;'>C</span><span style='color:red;'>C</span><span style='color:red;'>C</span><span style='color:red;'>C</span><span style='color:red;'>C</span><span style='color:red;'>C</span>E<span style='color:red;'>H</span><span style='color:red;'>H</span><span style='color:red;'>H</span><span style='color:red;'>H</span><span style='color:red;'>H</span><span style='color:red;'>C</span>ECCCCCC<span style='color:red;'>C</span><span style='color:red;'>H</span><span style='color:red;'>C</span><span style='color:red;'>C</span>E<span style='color:red;'>C</span><span style='color:red;'>H</span><span style='color:red;'>H</span><span style='color:red;'>H</span><span style='color:red;'>C</span><span style='color:red;'>C</span><span style='color:red;'>C</span><span style='color:red;'>C</span><span style='color:red;'>C</span><span style='color:red;'>C</span><span style='color:red;'>C</span>CCC"
            ]
          },
          "metadata": {}
        },
        {
          "output_type": "display_data",
          "data": {
            "text/plain": [
              "<IPython.core.display.HTML object>"
            ],
            "text/html": [
              "<hr>"
            ]
          },
          "metadata": {}
        },
        {
          "output_type": "display_data",
          "data": {
            "text/plain": [
              "<IPython.core.display.HTML object>"
            ],
            "text/html": [
              "<strong>Sequence:</strong> MAGYLNNIALNLEIVLKNKADSPEVSETLVTRICENLLLSKEVSFLKADGSVENFKLSDMEYEITNTEELPELEHHHHHH"
            ]
          },
          "metadata": {}
        },
        {
          "output_type": "display_data",
          "data": {
            "text/plain": [
              "<IPython.core.display.HTML object>"
            ],
            "text/html": [
              "<strong>True Label:</strong> CCEEEEEEEEEEEEEEEEECCCHHHHHHHHHHHHHCCCCCCEEEEECCCCCEEEEEEEEEEEEEEEEEECCCCCCCCCCC<br><strong>Predicted Label:</strong> CC<span style='color:red;'>C</span><span style='color:red;'>H</span><span style='color:red;'>H</span><span style='color:red;'>H</span><span style='color:red;'>H</span><span style='color:red;'>H</span><span style='color:red;'>H</span><span style='color:red;'>H</span><span style='color:red;'>C</span><span style='color:red;'>H</span>EE<span style='color:red;'>H</span>EE<span style='color:red;'>H</span><span style='color:red;'>C</span>CCC<span style='color:red;'>C</span><span style='color:red;'>C</span><span style='color:red;'>C</span><span style='color:red;'>C</span>HHHHHH<span style='color:red;'>E</span>HH<span style='color:red;'>H</span><span style='color:red;'>H</span><span style='color:red;'>H</span><span style='color:red;'>H</span>C<span style='color:red;'>H</span><span style='color:red;'>C</span>E<span style='color:red;'>H</span><span style='color:red;'>H</span><span style='color:red;'>H</span>CCCCC<span style='color:red;'>C</span><span style='color:red;'>H</span><span style='color:red;'>C</span><span style='color:red;'>C</span><span style='color:red;'>C</span><span style='color:red;'>C</span><span style='color:red;'>C</span><span style='color:red;'>C</span><span style='color:red;'>H</span><span style='color:red;'>C</span>EEE<span style='color:red;'>C</span><span style='color:red;'>C</span><span style='color:red;'>C</span><span style='color:red;'>C</span><span style='color:red;'>C</span>CC<span style='color:red;'>H</span>CCCCCCCC"
            ]
          },
          "metadata": {}
        },
        {
          "output_type": "display_data",
          "data": {
            "text/plain": [
              "<IPython.core.display.HTML object>"
            ],
            "text/html": [
              "<hr>"
            ]
          },
          "metadata": {}
        },
        {
          "output_type": "display_data",
          "data": {
            "text/plain": [
              "<IPython.core.display.HTML object>"
            ],
            "text/html": [
              "<strong>Sequence:</strong> MSLKTTLPISLDWSTEEVIDVVHFFQAIEQAYDQGIAREDLLGKYRRFKEIVPSKSEEKQLFRAYEQENDVSCYQTIKKAREEMEEHIQMEGHHHHHH"
            ]
          },
          "metadata": {}
        },
        {
          "output_type": "display_data",
          "data": {
            "text/plain": [
              "<IPython.core.display.HTML object>"
            ],
            "text/html": [
              "<strong>True Label:</strong> CCCCCCCCCCCCCCHHHHHHHHHHHHHHHHHHCCCEEHHHHHHHHHHHHHHCCCHHHHHHHHHHHHHHCCCCHHHHHHHHHHCCCCEECCCCCCCCCC<br><strong>Predicted Label:</strong> CCC<span style='color:red;'>H</span>CCCC<span style='color:red;'>E</span><span style='color:red;'>E</span><span style='color:red;'>E</span>CCCHHHHHH<span style='color:red;'>E</span><span style='color:red;'>E</span>HHHHHHHHHH<span style='color:red;'>H</span>C<span style='color:red;'>H</span><span style='color:red;'>H</span><span style='color:red;'>C</span>HHHHHHH<span style='color:red;'>C</span><span style='color:red;'>C</span>HHHHHCCC<span style='color:red;'>C</span><span style='color:red;'>C</span><span style='color:red;'>C</span>H<span style='color:red;'>C</span>HHHHHHH<span style='color:red;'>C</span><span style='color:red;'>C</span>CCC<span style='color:red;'>E</span><span style='color:red;'>E</span><span style='color:red;'>E</span>HHHHHHHH<span style='color:red;'>H</span><span style='color:red;'>H</span><span style='color:red;'>H</span><span style='color:red;'>H</span><span style='color:red;'>H</span><span style='color:red;'>H</span>C<span style='color:red;'>E</span>CCCCCCCC"
            ]
          },
          "metadata": {}
        },
        {
          "output_type": "display_data",
          "data": {
            "text/plain": [
              "<IPython.core.display.HTML object>"
            ],
            "text/html": [
              "<hr>"
            ]
          },
          "metadata": {}
        },
        {
          "output_type": "display_data",
          "data": {
            "text/plain": [
              "<IPython.core.display.HTML object>"
            ],
            "text/html": [
              "<strong>Sequence:</strong> MAKNTSCGVQLRIRGKVQGVGFRPFVWQLAQQLNLHGDVCNDGDGVEVRLREDPEVFLVQLYQHCPPLARIDSVEREPFIWSALPTEFTIR"
            ]
          },
          "metadata": {}
        },
        {
          "output_type": "display_data",
          "data": {
            "text/plain": [
              "<IPython.core.display.HTML object>"
            ],
            "text/html": [
              "<strong>True Label:</strong> CCCCCEEEEEEEEEEECCCCCHHHHHHHHHHHHCCCEEEEECCCCEEEEECCCCHHHHHHHHHCCCCCCEEEEEEEEEEEECCCCCCEEEC<br><strong>Predicted Label:</strong> CCCCC<span style='color:red;'>C</span><span style='color:red;'>C</span><span style='color:red;'>C</span><span style='color:red;'>C</span>EEEEE<span style='color:red;'>C</span>E<span style='color:red;'>E</span><span style='color:red;'>E</span>CCC<span style='color:red;'>C</span><span style='color:red;'>C</span><span style='color:red;'>C</span><span style='color:red;'>E</span>H<span style='color:red;'>E</span>HHHHHH<span style='color:red;'>H</span>CC<span style='color:red;'>C</span><span style='color:red;'>C</span><span style='color:red;'>C</span><span style='color:red;'>C</span><span style='color:red;'>C</span>CCCCEEEE<span style='color:red;'>H</span>CCC<span style='color:red;'>H</span>H<span style='color:red;'>E</span><span style='color:red;'>E</span><span style='color:red;'>E</span><span style='color:red;'>E</span>HHHHCCCC<span style='color:red;'>H</span>C<span style='color:red;'>H</span><span style='color:red;'>H</span><span style='color:red;'>C</span><span style='color:red;'>H</span><span style='color:red;'>H</span><span style='color:red;'>C</span><span style='color:red;'>C</span><span style='color:red;'>C</span><span style='color:red;'>C</span>EE<span style='color:red;'>H</span><span style='color:red;'>H</span><span style='color:red;'>H</span>CCC<span style='color:red;'>E</span>EEEC"
            ]
          },
          "metadata": {}
        },
        {
          "output_type": "display_data",
          "data": {
            "text/plain": [
              "<IPython.core.display.HTML object>"
            ],
            "text/html": [
              "<hr>"
            ]
          },
          "metadata": {}
        },
        {
          "output_type": "display_data",
          "data": {
            "text/plain": [
              "<IPython.core.display.HTML object>"
            ],
            "text/html": [
              "<strong>Sequence:</strong> GPHMTDEDVKKWREERKKMWLLKISNNKQKHMQEMGIKEDELKSQPSIFKESRKEKQ"
            ]
          },
          "metadata": {}
        },
        {
          "output_type": "display_data",
          "data": {
            "text/plain": [
              "<IPython.core.display.HTML object>"
            ],
            "text/html": [
              "<strong>True Label:</strong> CCCCCCHHHHHHHHHHHHHHHHHCCCCHHHHCCCCCCCCCCCCCCCCCCCCCCCCCC<br><strong>Predicted Label:</strong> CCCCCCHHHHHHHHHHHHH<span style='color:red;'>E</span><span style='color:red;'>E</span><span style='color:red;'>E</span><span style='color:red;'>E</span><span style='color:red;'>H</span>CCC<span style='color:red;'>C</span><span style='color:red;'>C</span>HH<span style='color:red;'>H</span><span style='color:red;'>H</span><span style='color:red;'>H</span><span style='color:red;'>H</span>CCC<span style='color:red;'>H</span><span style='color:red;'>H</span><span style='color:red;'>H</span><span style='color:red;'>H</span>CCCCC<span style='color:red;'>H</span>C<span style='color:red;'>H</span><span style='color:red;'>H</span><span style='color:red;'>H</span><span style='color:red;'>H</span><span style='color:red;'>H</span>CCC"
            ]
          },
          "metadata": {}
        },
        {
          "output_type": "display_data",
          "data": {
            "text/plain": [
              "<IPython.core.display.HTML object>"
            ],
            "text/html": [
              "<hr>"
            ]
          },
          "metadata": {}
        },
        {
          "output_type": "display_data",
          "data": {
            "text/plain": [
              "<IPython.core.display.HTML object>"
            ],
            "text/html": [
              "<strong>Sequence:</strong> YNSGKLEEFVRGNLERECKEEKCSFEEAREVFENTEKTTEFWKQYV"
            ]
          },
          "metadata": {}
        },
        {
          "output_type": "display_data",
          "data": {
            "text/plain": [
              "<IPython.core.display.HTML object>"
            ],
            "text/html": [
              "<strong>True Label:</strong> CCCCCCHHHCCCCHHHHHCCCCCCHHHHHHHHCCHHHHHHHHHHHC<br><strong>Predicted Label:</strong> CCCCC<span style='color:red;'>H</span>HHH<span style='color:red;'>H</span>CCC<span style='color:red;'>C</span>HHHHCCCCCCHHHHHHHHCC<span style='color:red;'>C</span><span style='color:red;'>C</span><span style='color:red;'>C</span><span style='color:red;'>C</span><span style='color:red;'>C</span>HHHHH<span style='color:red;'>C</span>C"
            ]
          },
          "metadata": {}
        },
        {
          "output_type": "display_data",
          "data": {
            "text/plain": [
              "<IPython.core.display.HTML object>"
            ],
            "text/html": [
              "<hr>"
            ]
          },
          "metadata": {}
        },
        {
          "output_type": "display_data",
          "data": {
            "text/plain": [
              "<IPython.core.display.HTML object>"
            ],
            "text/html": [
              "<strong>Sequence:</strong> MNTYSITLPWPPSNNRYYRHNRGRTHVSAEGQAYRDNVARIIKNAMLDIGLAMPVKIRIECHMPDRRRRNLDNLQKAAFDALTKAGFWLDDAQVVDYRVVKMPVTKGGRLELTITEMGNE"
            ]
          },
          "metadata": {}
        },
        {
          "output_type": "display_data",
          "data": {
            "text/plain": [
              "<IPython.core.display.HTML object>"
            ],
            "text/html": [
              "<strong>True Label:</strong> CCEEEEEEECCCCHHHHEEECCCCEEECHHHHHHHHHHHHHHHHCCCCCCECCCEEEEEEEECCCCCCCCCHHHHHHHHHHHHHHCCECCHHHEEEEEEEEECCCCCCEEEEEEEECCCC<br><strong>Predicted Label:</strong> CC<span style='color:red;'>C</span>EEEE<span style='color:red;'>C</span><span style='color:red;'>C</span>CCCC<span style='color:red;'>C</span><span style='color:red;'>C</span><span style='color:red;'>C</span>H<span style='color:red;'>H</span><span style='color:red;'>C</span><span style='color:red;'>C</span>CCCC<span style='color:red;'>C</span>E<span style='color:red;'>C</span>C<span style='color:red;'>C</span><span style='color:red;'>C</span><span style='color:red;'>C</span><span style='color:red;'>C</span>HHH<span style='color:red;'>C</span>HHHHHHHH<span style='color:red;'>H</span><span style='color:red;'>H</span><span style='color:red;'>H</span><span style='color:red;'>H</span><span style='color:red;'>H</span><span style='color:red;'>H</span><span style='color:red;'>C</span>CCCEEEEEEE<span style='color:red;'>C</span>CCCCCCCC<span style='color:red;'>H</span>HHHHHHHHHHHHH<span style='color:red;'>C</span>C<span style='color:red;'>E</span>E<span style='color:red;'>E</span>CHHH<span style='color:red;'>H</span>EEEEEEEECCCCCCEEEEEEE<span style='color:red;'>H</span>CCCC"
            ]
          },
          "metadata": {}
        },
        {
          "output_type": "display_data",
          "data": {
            "text/plain": [
              "<IPython.core.display.HTML object>"
            ],
            "text/html": [
              "<hr>"
            ]
          },
          "metadata": {}
        },
        {
          "output_type": "display_data",
          "data": {
            "text/plain": [
              "<IPython.core.display.HTML object>"
            ],
            "text/html": [
              "<strong>Sequence:</strong> ALGKLQDVVNQNAQALNTLVKQLSSNFGAISSVLNDISGGRGGDISGINASVVNIQKEIDRLNEVAKNLNESLIDLQ"
            ]
          },
          "metadata": {}
        },
        {
          "output_type": "display_data",
          "data": {
            "text/plain": [
              "<IPython.core.display.HTML object>"
            ],
            "text/html": [
              "<strong>True Label:</strong> CHHHHHHHHHHHHHHHHHHHHHHHHHHHHHHHHHHHHHCCCCCCCCCHHHHHHHHHHHHHHHHHHHHHHHHHHHCCC<br><strong>Predicted Label:</strong> C<span style='color:red;'>C</span><span style='color:red;'>C</span>HHHHHHHHHHHHHHHHHHHHHH<span style='color:red;'>C</span><span style='color:red;'>C</span><span style='color:red;'>C</span><span style='color:red;'>C</span><span style='color:red;'>C</span>HHHHHH<span style='color:red;'>C</span><span style='color:red;'>C</span>CCCCCCCCC<span style='color:red;'>C</span><span style='color:red;'>C</span><span style='color:red;'>C</span>H<span style='color:red;'>E</span><span style='color:red;'>E</span>HHHHHHHHHHHHHHHH<span style='color:red;'>C</span>HHHH<span style='color:red;'>H</span>CC"
            ]
          },
          "metadata": {}
        },
        {
          "output_type": "display_data",
          "data": {
            "text/plain": [
              "<IPython.core.display.HTML object>"
            ],
            "text/html": [
              "<hr>"
            ]
          },
          "metadata": {}
        },
        {
          "output_type": "display_data",
          "data": {
            "text/plain": [
              "<IPython.core.display.HTML object>"
            ],
            "text/html": [
              "<strong>Sequence:</strong> SPVLFDFIEDTEPFRKSADKALEVYKSESEAYASFRVDRVERVTRVKGGERTNYYVDFSVRNCSRSHFHRHPAFGFCRADLSFDVEASNLENPEDVIISCEVFNFEEHGNISGFR"
            ]
          },
          "metadata": {}
        },
        {
          "output_type": "display_data",
          "data": {
            "text/plain": [
              "<IPython.core.display.HTML object>"
            ],
            "text/html": [
              "<strong>True Label:</strong> CCCEEEECCCCHHHHHHHHHHHHHHHHCCHHHCCEEEEEEEEEEEEECCCEEEEEEEEEEEEHHHHCCCCCCEEEEEEEEEEEECCCCCCCCCCEEEEEEEEEEHHHCCCCCCCC<br><strong>Predicted Label:</strong> CCCE<span style='color:red;'>H</span><span style='color:red;'>H</span><span style='color:red;'>H</span><span style='color:red;'>H</span><span style='color:red;'>H</span>CC<span style='color:red;'>C</span><span style='color:red;'>C</span><span style='color:red;'>C</span><span style='color:red;'>C</span><span style='color:red;'>C</span><span style='color:red;'>C</span>HHHHHHHH<span style='color:red;'>C</span><span style='color:red;'>C</span><span style='color:red;'>H</span><span style='color:red;'>H</span>HHH<span style='color:red;'>H</span><span style='color:red;'>E</span>EEE<span style='color:red;'>C</span><span style='color:red;'>H</span><span style='color:red;'>H</span><span style='color:red;'>H</span><span style='color:red;'>H</span><span style='color:red;'>H</span><span style='color:red;'>H</span>EE<span style='color:red;'>C</span>CCC<span style='color:red;'>C</span><span style='color:red;'>C</span><span style='color:red;'>C</span><span style='color:red;'>C</span>EEEEEE<span style='color:red;'>C</span><span style='color:red;'>C</span><span style='color:red;'>C</span><span style='color:red;'>C</span><span style='color:red;'>C</span><span style='color:red;'>C</span><span style='color:red;'>H</span><span style='color:red;'>H</span>CCCC<span style='color:red;'>C</span><span style='color:red;'>C</span><span style='color:red;'>C</span><span style='color:red;'>H</span><span style='color:red;'>C</span><span style='color:red;'>H</span><span style='color:red;'>C</span><span style='color:red;'>C</span><span style='color:red;'>C</span><span style='color:red;'>C</span>E<span style='color:red;'>C</span><span style='color:red;'>E</span><span style='color:red;'>H</span><span style='color:red;'>H</span>CCCCCC<span style='color:red;'>H</span><span style='color:red;'>H</span><span style='color:red;'>C</span>EEEEEEE<span style='color:red;'>C</span><span style='color:red;'>C</span><span style='color:red;'>C</span><span style='color:red;'>C</span>CCCCCCCC"
            ]
          },
          "metadata": {}
        },
        {
          "output_type": "display_data",
          "data": {
            "text/plain": [
              "<IPython.core.display.HTML object>"
            ],
            "text/html": [
              "<hr>"
            ]
          },
          "metadata": {}
        },
        {
          "output_type": "display_data",
          "data": {
            "text/plain": [
              "<IPython.core.display.HTML object>"
            ],
            "text/html": [
              "<strong>Sequence:</strong> AKKKSKLEIIQAILEACKSGSPKTRIMYGANLSYALTGRYIKMLMDLEIIRQEGKQYMLTKKGEELLEDIRKFNEMRKNMDQLKEKINSVLSIRQ"
            ]
          },
          "metadata": {}
        },
        {
          "output_type": "display_data",
          "data": {
            "text/plain": [
              "<IPython.core.display.HTML object>"
            ],
            "text/html": [
              "<strong>True Label:</strong> CCCCCHHHHHHHHHHHHCCCECHHHHHHHHCCCHHHHHHHHHHHHHCCCEEEECCEEEECHHHHHHHHHHHHHHHHHHHHHHHHHHHHHHHCCCC<br><strong>Predicted Label:</strong> CCCCC<span style='color:red;'>C</span>HHHHHHHHHHHCCC<span style='color:red;'>C</span>C<span style='color:red;'>C</span><span style='color:red;'>C</span><span style='color:red;'>E</span><span style='color:red;'>E</span>HH<span style='color:red;'>C</span><span style='color:red;'>C</span>CC<span style='color:red;'>H</span>H<span style='color:red;'>E</span><span style='color:red;'>E</span><span style='color:red;'>C</span><span style='color:red;'>C</span><span style='color:red;'>C</span><span style='color:red;'>E</span>HHHHHH<span style='color:red;'>H</span><span style='color:red;'>E</span><span style='color:red;'>H</span><span style='color:red;'>H</span><span style='color:red;'>H</span><span style='color:red;'>C</span><span style='color:red;'>C</span>CCEE<span style='color:red;'>H</span>E<span style='color:red;'>E</span><span style='color:red;'>C</span><span style='color:red;'>C</span><span style='color:red;'>C</span>HHHHHHHHHHHHHHH<span style='color:red;'>C</span>HHHHHHHHHHH<span style='color:red;'>E</span><span style='color:red;'>E</span><span style='color:red;'>E</span>CC"
            ]
          },
          "metadata": {}
        },
        {
          "output_type": "display_data",
          "data": {
            "text/plain": [
              "<IPython.core.display.HTML object>"
            ],
            "text/html": [
              "<hr>"
            ]
          },
          "metadata": {}
        },
        {
          "output_type": "display_data",
          "data": {
            "text/plain": [
              "<IPython.core.display.HTML object>"
            ],
            "text/html": [
              "<strong>Sequence:</strong> MLKTDTSNRLKQIMAERNLKQVDILNLSIPFQKKFGIKLSKSTLSAYVASVQSPDQNRIYLLAKTLGVSEAWLMGRSHHHHHH"
            ]
          },
          "metadata": {}
        },
        {
          "output_type": "display_data",
          "data": {
            "text/plain": [
              "<IPython.core.display.HTML object>"
            ],
            "text/html": [
              "<strong>True Label:</strong> CCCCHHHHHHHHHHHHHCCCHHHHHHHHHHHHHHHCCCCCHHHHHHHHCCCCCCCHHHHHHHHHHHCCCHHHHHCCCCCCCCC<br><strong>Predicted Label:</strong> CCCC<span style='color:red;'>C</span><span style='color:red;'>C</span>HHHHHHHHHHH<span style='color:red;'>H</span><span style='color:red;'>H</span><span style='color:red;'>H</span><span style='color:red;'>C</span>HHHHH<span style='color:red;'>E</span><span style='color:red;'>C</span><span style='color:red;'>E</span><span style='color:red;'>C</span><span style='color:red;'>C</span><span style='color:red;'>C</span><span style='color:red;'>C</span>H<span style='color:red;'>C</span>C<span style='color:red;'>E</span><span style='color:red;'>E</span>CCH<span style='color:red;'>C</span><span style='color:red;'>C</span>HHHHH<span style='color:red;'>H</span><span style='color:red;'>H</span>CCCCC<span style='color:red;'>C</span><span style='color:red;'>C</span><span style='color:red;'>E</span><span style='color:red;'>E</span><span style='color:red;'>E</span><span style='color:red;'>E</span><span style='color:red;'>E</span>HHH<span style='color:red;'>C</span>CCCHHHHHCCCCCCCCC"
            ]
          },
          "metadata": {}
        },
        {
          "output_type": "display_data",
          "data": {
            "text/plain": [
              "<IPython.core.display.HTML object>"
            ],
            "text/html": [
              "<hr>"
            ]
          },
          "metadata": {}
        },
        {
          "output_type": "display_data",
          "data": {
            "text/plain": [
              "<IPython.core.display.HTML object>"
            ],
            "text/html": [
              "<strong>Sequence:</strong> MSYYHHHHHHLESTSLYKKAGSENLYFQGIVDKNKIVIPMSEFLDSMFLVIEKLGVHAEKKGSMIFLSSERVKLADWKQLGAMCSDCYHCKLPLSSFIEIVTRKAKDKFLVMYNEKEVTLVARGVQTIQK"
            ]
          },
          "metadata": {}
        },
        {
          "output_type": "display_data",
          "data": {
            "text/plain": [
              "<IPython.core.display.HTML object>"
            ],
            "text/html": [
              "<strong>True Label:</strong> CCCCCCCCCCCCHHHHHCCCCCHHHHHHCEECCCEEEEEHHHHHHHHHHHHHCCCEEEEEECCEEEEEECCCCCHHHHHCCCEEEECCEEEEEHHHHHHHHCHHHHHCEEEEECCCEEEEEECCCCCCCC<br><strong>Predicted Label:</strong> CCCCCCCCCCCC<span style='color:red;'>C</span><span style='color:red;'>C</span><span style='color:red;'>C</span>HH<span style='color:red;'>H</span><span style='color:red;'>H</span>CCC<span style='color:red;'>C</span><span style='color:red;'>C</span><span style='color:red;'>C</span><span style='color:red;'>C</span><span style='color:red;'>C</span><span style='color:red;'>C</span><span style='color:red;'>H</span><span style='color:red;'>H</span><span style='color:red;'>H</span>CCCEEEE<span style='color:red;'>C</span><span style='color:red;'>C</span>HHHHHHH<span style='color:red;'>E</span><span style='color:red;'>E</span><span style='color:red;'>E</span>HH<span style='color:red;'>H</span>CC<span style='color:red;'>C</span><span style='color:red;'>C</span><span style='color:red;'>C</span><span style='color:red;'>C</span><span style='color:red;'>C</span><span style='color:red;'>C</span>CCEEEE<span style='color:red;'>C</span><span style='color:red;'>C</span>C<span style='color:red;'>H</span><span style='color:red;'>H</span><span style='color:red;'>H</span><span style='color:red;'>H</span>HHHHH<span style='color:red;'>H</span>C<span style='color:red;'>H</span><span style='color:red;'>H</span><span style='color:red;'>C</span><span style='color:red;'>C</span><span style='color:red;'>C</span>CCEE<span style='color:red;'>C</span><span style='color:red;'>C</span><span style='color:red;'>C</span><span style='color:red;'>C</span>HHHHHH<span style='color:red;'>E</span><span style='color:red;'>H</span><span style='color:red;'>E</span>H<span style='color:red;'>C</span>HH<span style='color:red;'>H</span>EEEE<span style='color:red;'>H</span>CCC<span style='color:red;'>C</span>EEEEE<span style='color:red;'>H</span>CC<span style='color:red;'>E</span><span style='color:red;'>E</span><span style='color:red;'>H</span>CC"
            ]
          },
          "metadata": {}
        },
        {
          "output_type": "display_data",
          "data": {
            "text/plain": [
              "<IPython.core.display.HTML object>"
            ],
            "text/html": [
              "<hr>"
            ]
          },
          "metadata": {}
        },
        {
          "output_type": "display_data",
          "data": {
            "text/plain": [
              "<IPython.core.display.HTML object>"
            ],
            "text/html": [
              "<strong>Sequence:</strong> GSNIEEDRKLLIQAAIVRIMKMRKVLKHQQLLGEVLTQLSSRFKPRVPVIKKCIDILIEKEYLERVDGEKDTYSYLA"
            ]
          },
          "metadata": {}
        },
        {
          "output_type": "display_data",
          "data": {
            "text/plain": [
              "<IPython.core.display.HTML object>"
            ],
            "text/html": [
              "<strong>True Label:</strong> CCCHHHHHHHHHHHHHHHHHHHHCEEEHHHHHHHHHHHHCCCCCCCHHHHHHHHHHHHHCCCEEEECCEEEEEEECC<br><strong>Predicted Label:</strong> CCC<span style='color:red;'>C</span><span style='color:red;'>C</span>HHHHHHHHHHHHHHHHHH<span style='color:red;'>H</span><span style='color:red;'>H</span><span style='color:red;'>H</span><span style='color:red;'>H</span>HHHHHHHHHHHH<span style='color:red;'>H</span><span style='color:red;'>H</span>CCCCC<span style='color:red;'>C</span><span style='color:red;'>C</span><span style='color:red;'>E</span><span style='color:red;'>E</span>HHHHHHH<span style='color:red;'>E</span>H<span style='color:red;'>H</span><span style='color:red;'>H</span><span style='color:red;'>H</span><span style='color:red;'>H</span><span style='color:red;'>H</span><span style='color:red;'>H</span><span style='color:red;'>C</span>CC<span style='color:red;'>C</span><span style='color:red;'>C</span><span style='color:red;'>C</span><span style='color:red;'>C</span><span style='color:red;'>H</span><span style='color:red;'>H</span>ECC"
            ]
          },
          "metadata": {}
        },
        {
          "output_type": "display_data",
          "data": {
            "text/plain": [
              "<IPython.core.display.HTML object>"
            ],
            "text/html": [
              "<hr>"
            ]
          },
          "metadata": {}
        },
        {
          "output_type": "display_data",
          "data": {
            "text/plain": [
              "<IPython.core.display.HTML object>"
            ],
            "text/html": [
              "<strong>Sequence:</strong> GSAVKRPAATKKAGQAKKKKLD"
            ]
          },
          "metadata": {}
        },
        {
          "output_type": "display_data",
          "data": {
            "text/plain": [
              "<IPython.core.display.HTML object>"
            ],
            "text/html": [
              "<strong>True Label:</strong> CCCCCCCCCCCCCCCCCCCCCC<br><strong>Predicted Label:</strong> CCCCCCCCCC<span style='color:red;'>H</span><span style='color:red;'>H</span>CC<span style='color:red;'>H</span>CC<span style='color:red;'>H</span><span style='color:red;'>H</span>CCC"
            ]
          },
          "metadata": {}
        },
        {
          "output_type": "display_data",
          "data": {
            "text/plain": [
              "<IPython.core.display.HTML object>"
            ],
            "text/html": [
              "<hr>"
            ]
          },
          "metadata": {}
        },
        {
          "output_type": "display_data",
          "data": {
            "text/plain": [
              "<IPython.core.display.HTML object>"
            ],
            "text/html": [
              "<strong>Sequence:</strong> MLMPKKERKVEGDEVIRVPLPEGNQLFGVVEQALGAGWMDVRCEDGKIRRCRIPGKLRRRVWIRVGDLVIVQPWPVQSDKRGDIVYRYTQTQVDWLLRKGKITQEFLTGGSLLVE"
            ]
          },
          "metadata": {}
        },
        {
          "output_type": "display_data",
          "data": {
            "text/plain": [
              "<IPython.core.display.HTML object>"
            ],
            "text/html": [
              "<strong>True Label:</strong> CCCCCCCCCCCCCCCCCCCCCCCCCEEEEEEEEEECCEEEEEECCCCEEEEECCHHHHCCCCCCCCCEEEEEECCCCCCCEEEEEEECCHHHHHHHHHCCCCCHHHHHCCCCCCC<br><strong>Predicted Label:</strong> CCCCCCCCCCCCC<span style='color:red;'>E</span><span style='color:red;'>E</span><span style='color:red;'>E</span><span style='color:red;'>E</span><span style='color:red;'>E</span>CCCCCC<span style='color:red;'>E</span>E<span style='color:red;'>H</span><span style='color:red;'>H</span><span style='color:red;'>H</span><span style='color:red;'>H</span><span style='color:red;'>H</span><span style='color:red;'>H</span><span style='color:red;'>H</span><span style='color:red;'>H</span><span style='color:red;'>C</span>CC<span style='color:red;'>C</span>EEEE<span style='color:red;'>C</span>CCCCEEE<span style='color:red;'>C</span><span style='color:red;'>C</span>CC<span style='color:red;'>C</span>H<span style='color:red;'>C</span>H<span style='color:red;'>H</span><span style='color:red;'>H</span><span style='color:red;'>E</span><span style='color:red;'>E</span><span style='color:red;'>E</span><span style='color:red;'>E</span><span style='color:red;'>E</span>CCEEEE<span style='color:red;'>C</span><span style='color:red;'>C</span>CCCCCCC<span style='color:red;'>C</span><span style='color:red;'>C</span><span style='color:red;'>C</span>EEEE<span style='color:red;'>E</span>CHHHHHHHHHCCC<span style='color:red;'>E</span>CHHHH<span style='color:red;'>C</span>CC<span style='color:red;'>E</span><span style='color:red;'>E</span>CCC"
            ]
          },
          "metadata": {}
        },
        {
          "output_type": "display_data",
          "data": {
            "text/plain": [
              "<IPython.core.display.HTML object>"
            ],
            "text/html": [
              "<hr>"
            ]
          },
          "metadata": {}
        },
        {
          "output_type": "display_data",
          "data": {
            "text/plain": [
              "<IPython.core.display.HTML object>"
            ],
            "text/html": [
              "<strong>Sequence:</strong> EAQPAPHQWQKMPFWQKVRPWAAQLTQMGVAA"
            ]
          },
          "metadata": {}
        },
        {
          "output_type": "display_data",
          "data": {
            "text/plain": [
              "<IPython.core.display.HTML object>"
            ],
            "text/html": [
              "<strong>True Label:</strong> CCCCCHHHHCCCCCCCCCCCCCCCCCCCCCCC<br><strong>Predicted Label:</strong> CCCCC<span style='color:red;'>C</span><span style='color:red;'>C</span>HH<span style='color:red;'>H</span>CCC<span style='color:red;'>E</span><span style='color:red;'>H</span><span style='color:red;'>H</span><span style='color:red;'>H</span>CCC<span style='color:red;'>H</span><span style='color:red;'>H</span><span style='color:red;'>H</span><span style='color:red;'>H</span><span style='color:red;'>H</span><span style='color:red;'>H</span><span style='color:red;'>H</span><span style='color:red;'>H</span><span style='color:red;'>H</span>CCC"
            ]
          },
          "metadata": {}
        },
        {
          "output_type": "display_data",
          "data": {
            "text/plain": [
              "<IPython.core.display.HTML object>"
            ],
            "text/html": [
              "<hr>"
            ]
          },
          "metadata": {}
        },
        {
          "output_type": "display_data",
          "data": {
            "text/plain": [
              "<IPython.core.display.HTML object>"
            ],
            "text/html": [
              "<strong>Sequence:</strong> QGTREQLNLCLERLSSGKDKNKSVLQNKYVRCSVRAEVRHLRRVLCHRLMLNPQHVQLLFDNEVLPDHMTMKQIWLSRWFGKPSPLLLQYSVK"
            ]
          },
          "metadata": {}
        },
        {
          "output_type": "display_data",
          "data": {
            "text/plain": [
              "<IPython.core.display.HTML object>"
            ],
            "text/html": [
              "<strong>True Label:</strong> CCCCCEEEEEEEECCCCCCCCCCCCCCCEEEEECCCEHHHHHHHHHHHHCCCCCCCEEEECCEECCCCCEHHHHHHHHCCCCCCCEEEEEECC<br><strong>Predicted Label:</strong> CCC<span style='color:red;'>H</span><span style='color:red;'>H</span><span style='color:red;'>H</span><span style='color:red;'>H</span><span style='color:red;'>H</span><span style='color:red;'>H</span><span style='color:red;'>H</span><span style='color:red;'>H</span><span style='color:red;'>H</span><span style='color:red;'>H</span><span style='color:red;'>H</span>CCCCCCCC<span style='color:red;'>H</span><span style='color:red;'>H</span><span style='color:red;'>H</span><span style='color:red;'>H</span>C<span style='color:red;'>H</span><span style='color:red;'>C</span>EEEE<span style='color:red;'>E</span><span style='color:red;'>E</span><span style='color:red;'>E</span><span style='color:red;'>H</span>HHHHHHH<span style='color:red;'>E</span>HHHH<span style='color:red;'>E</span><span style='color:red;'>E</span>CC<span style='color:red;'>H</span><span style='color:red;'>H</span><span style='color:red;'>H</span><span style='color:red;'>H</span>E<span style='color:red;'>H</span><span style='color:red;'>C</span>CC<span style='color:red;'>C</span><span style='color:red;'>C</span>CC<span style='color:red;'>H</span>CC<span style='color:red;'>C</span>HHH<span style='color:red;'>E</span><span style='color:red;'>E</span>HHH<span style='color:red;'>H</span>CCCCCC<span style='color:red;'>H</span>E<span style='color:red;'>H</span><span style='color:red;'>H</span><span style='color:red;'>H</span><span style='color:red;'>C</span>CC"
            ]
          },
          "metadata": {}
        },
        {
          "output_type": "display_data",
          "data": {
            "text/plain": [
              "<IPython.core.display.HTML object>"
            ],
            "text/html": [
              "<hr>"
            ]
          },
          "metadata": {}
        },
        {
          "output_type": "display_data",
          "data": {
            "text/plain": [
              "<IPython.core.display.HTML object>"
            ],
            "text/html": [
              "<strong>Sequence:</strong> KVTDALPEPEPPGAMAASEDEEEEEEALEAMQSRLATLRS"
            ]
          },
          "metadata": {}
        },
        {
          "output_type": "display_data",
          "data": {
            "text/plain": [
              "<IPython.core.display.HTML object>"
            ],
            "text/html": [
              "<strong>True Label:</strong> CCCCCCCCCCCCCCCCCCCCCHHHHHHHHHCHHHHHHHCC<br><strong>Predicted Label:</strong> CC<span style='color:red;'>H</span><span style='color:red;'>H</span><span style='color:red;'>H</span>CCCCCCCCCCCCCCCC<span style='color:red;'>C</span><span style='color:red;'>C</span>HHHHHHH<span style='color:red;'>H</span>HHHHHHHCC"
            ]
          },
          "metadata": {}
        },
        {
          "output_type": "display_data",
          "data": {
            "text/plain": [
              "<IPython.core.display.HTML object>"
            ],
            "text/html": [
              "<hr>"
            ]
          },
          "metadata": {}
        },
        {
          "output_type": "display_data",
          "data": {
            "text/plain": [
              "<IPython.core.display.HTML object>"
            ],
            "text/html": [
              "<strong>Sequence:</strong> METLKITVYIVVTFFVLLFVFGFLSGDPARNPKRKDLE"
            ]
          },
          "metadata": {}
        },
        {
          "output_type": "display_data",
          "data": {
            "text/plain": [
              "<IPython.core.display.HTML object>"
            ],
            "text/html": [
              "<strong>True Label:</strong> CHHHHHHHHHHHHHHHHHHHHHHHCCHHHCCCCCCCCC<br><strong>Predicted Label:</strong> C<span style='color:red;'>C</span><span style='color:red;'>C</span><span style='color:red;'>E</span><span style='color:red;'>E</span><span style='color:red;'>E</span><span style='color:red;'>E</span><span style='color:red;'>E</span><span style='color:red;'>E</span><span style='color:red;'>E</span><span style='color:red;'>E</span><span style='color:red;'>E</span><span style='color:red;'>E</span><span style='color:red;'>E</span><span style='color:red;'>E</span><span style='color:red;'>E</span><span style='color:red;'>E</span><span style='color:red;'>E</span><span style='color:red;'>E</span><span style='color:red;'>E</span>HH<span style='color:red;'>E</span><span style='color:red;'>C</span>CC<span style='color:red;'>C</span><span style='color:red;'>C</span><span style='color:red;'>C</span>CCCCCCCCC"
            ]
          },
          "metadata": {}
        },
        {
          "output_type": "display_data",
          "data": {
            "text/plain": [
              "<IPython.core.display.HTML object>"
            ],
            "text/html": [
              "<hr>"
            ]
          },
          "metadata": {}
        },
        {
          "output_type": "display_data",
          "data": {
            "text/plain": [
              "<IPython.core.display.HTML object>"
            ],
            "text/html": [
              "<strong>Sequence:</strong> GAMGSKLSYTSFVQMVEDERSVVSEVVIRDDGVLRVYTKDGRVYEVDAPWAVNDSQLIEKLVSKGIKVSGER"
            ]
          },
          "metadata": {}
        },
        {
          "output_type": "display_data",
          "data": {
            "text/plain": [
              "<IPython.core.display.HTML object>"
            ],
            "text/html": [
              "<strong>True Label:</strong> CCCCCECCHHHHHHHHHCCCCCEEEEEECCCCEEEEEECCCCEEEEECHHHCCCHHHHHHHHHCCCEEEECC<br><strong>Predicted Label:</strong> CCCCC<span style='color:red;'>C</span>C<span style='color:red;'>E</span><span style='color:red;'>E</span><span style='color:red;'>E</span>HHHHHHHCCCC<span style='color:red;'>H</span><span style='color:red;'>H</span><span style='color:red;'>H</span>EEEE<span style='color:red;'>E</span>CCCEEE<span style='color:red;'>H</span>E<span style='color:red;'>C</span>CCCCEEEE<span style='color:red;'>C</span>C<span style='color:red;'>C</span>HH<span style='color:red;'>E</span>CCHHHHHHHHHCCCEE<span style='color:red;'>C</span><span style='color:red;'>C</span>CC"
            ]
          },
          "metadata": {}
        },
        {
          "output_type": "display_data",
          "data": {
            "text/plain": [
              "<IPython.core.display.HTML object>"
            ],
            "text/html": [
              "<hr>"
            ]
          },
          "metadata": {}
        },
        {
          "output_type": "display_data",
          "data": {
            "text/plain": [
              "<IPython.core.display.HTML object>"
            ],
            "text/html": [
              "<strong>Sequence:</strong> DKCPKGWLDFRGNCYGYFRYELPWKRAEAWCRSIRAGAHLASIHTSEEHRAIAKFISQYHHGEEEEDVWIGLFRWNSVWAWIDGSKKHYSALDDDDYPKGKHCAVLDESSGFLSWDNDSCGERNAFICKCTA"
            ]
          },
          "metadata": {}
        },
        {
          "output_type": "display_data",
          "data": {
            "text/plain": [
              "<IPython.core.display.HTML object>"
            ],
            "text/html": [
              "<strong>True Label:</strong> CCCCCCCEEECCEEEEEEEEEECHHHHHHHHHHHCCCCEECCCCCHHHHHHHHHHHHCHHHHCCCCCEEEEEEEECCEEEECCCCCCCCCCECCCCCCCCCCEEEECHHHCCCCEEEECCCCCEEEEEEEEC<br><strong>Predicted Label:</strong> CCCCCC<span style='color:red;'>H</span>EE<span style='color:red;'>C</span>CC<span style='color:red;'>C</span><span style='color:red;'>C</span><span style='color:red;'>C</span><span style='color:red;'>C</span>EEEEE<span style='color:red;'>C</span>C<span style='color:red;'>C</span><span style='color:red;'>C</span>HHHHHHHHH<span style='color:red;'>H</span>CC<span style='color:red;'>H</span><span style='color:red;'>C</span><span style='color:red;'>H</span><span style='color:red;'>H</span><span style='color:red;'>H</span><span style='color:red;'>H</span>CC<span style='color:red;'>C</span>HHHHHHHHHHH<span style='color:red;'>H</span><span style='color:red;'>C</span><span style='color:red;'>C</span><span style='color:red;'>C</span><span style='color:red;'>C</span>CCC<span style='color:red;'>H</span>CEEE<span style='color:red;'>H</span>EEE<span style='color:red;'>H</span>C<span style='color:red;'>H</span><span style='color:red;'>H</span><span style='color:red;'>H</span>EE<span style='color:red;'>E</span>CCCCCC<span style='color:red;'>H</span><span style='color:red;'>H</span><span style='color:red;'>H</span><span style='color:red;'>C</span>CCCCCCCCC<span style='color:red;'>E</span>E<span style='color:red;'>H</span><span style='color:red;'>H</span><span style='color:red;'>C</span>C<span style='color:red;'>C</span><span style='color:red;'>C</span><span style='color:red;'>C</span>CC<span style='color:red;'>E</span><span style='color:red;'>E</span>E<span style='color:red;'>C</span><span style='color:red;'>C</span><span style='color:red;'>C</span>CCCCC<span style='color:red;'>C</span><span style='color:red;'>C</span><span style='color:red;'>H</span>EEE<span style='color:red;'>C</span><span style='color:red;'>C</span>C"
            ]
          },
          "metadata": {}
        },
        {
          "output_type": "display_data",
          "data": {
            "text/plain": [
              "<IPython.core.display.HTML object>"
            ],
            "text/html": [
              "<hr>"
            ]
          },
          "metadata": {}
        },
        {
          "output_type": "display_data",
          "data": {
            "text/plain": [
              "<IPython.core.display.HTML object>"
            ],
            "text/html": [
              "<strong>Sequence:</strong> METGNKYIEKRAIDLSRERDPNFFDHPGIPVPECFWFMFKNNVRQDAGTCYSSWKMDMKVGPNWVHIKSDDNCNLSGDFPPGWIVLGKKRPGF"
            ]
          },
          "metadata": {}
        },
        {
          "output_type": "display_data",
          "data": {
            "text/plain": [
              "<IPython.core.display.HTML object>"
            ],
            "text/html": [
              "<strong>True Label:</strong> CCCCCCCCCCCCCCCCCCCCCCCCCCCCCCCCCEEEEEEECCEEEEEEEECCCEEEEEEECCEEEEEEECCCCCEECCCCCCEEEEEEECCCC<br><strong>Predicted Label:</strong> CCCCCCC<span style='color:red;'>H</span><span style='color:red;'>H</span><span style='color:red;'>H</span><span style='color:red;'>H</span><span style='color:red;'>H</span><span style='color:red;'>H</span><span style='color:red;'>H</span><span style='color:red;'>H</span>C<span style='color:red;'>H</span>CCCCC<span style='color:red;'>H</span>CCCCCCCCCCEEEEEE<span style='color:red;'>C</span>C<span style='color:red;'>H</span><span style='color:red;'>C</span><span style='color:red;'>H</span><span style='color:red;'>H</span><span style='color:red;'>C</span><span style='color:red;'>C</span><span style='color:red;'>C</span><span style='color:red;'>C</span>E<span style='color:red;'>E</span>CC<span style='color:red;'>C</span><span style='color:red;'>H</span><span style='color:red;'>C</span><span style='color:red;'>C</span><span style='color:red;'>C</span><span style='color:red;'>C</span><span style='color:red;'>C</span>CC<span style='color:red;'>C</span>EEEEE<span style='color:red;'>C</span>CCCCC<span style='color:red;'>C</span><span style='color:red;'>C</span>CCCCCCEEEE<span style='color:red;'>C</span><span style='color:red;'>C</span><span style='color:red;'>C</span>CCCC"
            ]
          },
          "metadata": {}
        },
        {
          "output_type": "display_data",
          "data": {
            "text/plain": [
              "<IPython.core.display.HTML object>"
            ],
            "text/html": [
              "<hr>"
            ]
          },
          "metadata": {}
        },
        {
          "output_type": "display_data",
          "data": {
            "text/plain": [
              "<IPython.core.display.HTML object>"
            ],
            "text/html": [
              "<strong>Sequence:</strong> SNAMAEIKITPEELERIAGNFKNAAGEAQSQINRLEGDINSLEGQWAGATQAKFRGEFIQSKQAMQQFIPILEGISTDLKRIADKFRNTDNAY"
            ]
          },
          "metadata": {}
        },
        {
          "output_type": "display_data",
          "data": {
            "text/plain": [
              "<IPython.core.display.HTML object>"
            ],
            "text/html": [
              "<strong>True Label:</strong> CCCCCCCCCCHHHHHHHHHHHHHHHHHHHHHHHHHHHHHHHHHHHHHHCCHHHHHHHHHHHHHHHHHHHHHHHHHHHHHHHHHHHHHHHHHCC<br><strong>Predicted Label:</strong> CCC<span style='color:red;'>H</span><span style='color:red;'>H</span><span style='color:red;'>E</span><span style='color:red;'>E</span><span style='color:red;'>E</span><span style='color:red;'>E</span>CHHHHHHH<span style='color:red;'>C</span><span style='color:red;'>C</span><span style='color:red;'>C</span>H<span style='color:red;'>C</span>HH<span style='color:red;'>C</span><span style='color:red;'>C</span>HHHHHHHH<span style='color:red;'>C</span><span style='color:red;'>C</span><span style='color:red;'>C</span><span style='color:red;'>C</span>H<span style='color:red;'>C</span>H<span style='color:red;'>C</span><span style='color:red;'>C</span><span style='color:red;'>C</span><span style='color:red;'>E</span><span style='color:red;'>E</span><span style='color:red;'>C</span><span style='color:red;'>C</span>CCHHHH<span style='color:red;'>E</span><span style='color:red;'>C</span>H<span style='color:red;'>E</span><span style='color:red;'>E</span>HHHHHHHH<span style='color:red;'>E</span>HHHH<span style='color:red;'>C</span><span style='color:red;'>C</span><span style='color:red;'>C</span><span style='color:red;'>C</span><span style='color:red;'>C</span>HHHHHHHHH<span style='color:red;'>C</span><span style='color:red;'>C</span><span style='color:red;'>C</span><span style='color:red;'>C</span><span style='color:red;'>C</span>CC"
            ]
          },
          "metadata": {}
        },
        {
          "output_type": "display_data",
          "data": {
            "text/plain": [
              "<IPython.core.display.HTML object>"
            ],
            "text/html": [
              "<hr>"
            ]
          },
          "metadata": {}
        },
        {
          "output_type": "display_data",
          "data": {
            "text/plain": [
              "<IPython.core.display.HTML object>"
            ],
            "text/html": [
              "<strong>Sequence:</strong> MTKQEKTALNMARFIRSQTLTLLEKLNELADAADEQADICESLHDHADELYRSCLARFGDDGENL"
            ]
          },
          "metadata": {}
        },
        {
          "output_type": "display_data",
          "data": {
            "text/plain": [
              "<IPython.core.display.HTML object>"
            ],
            "text/html": [
              "<strong>True Label:</strong> CCHHHHHHHHHHHHHHHHHHHHHHHHHHCHHHHHHHHHHHHHHHHHHHHHHHHHHHHHCCCCCCC<br><strong>Predicted Label:</strong> CC<span style='color:red;'>C</span><span style='color:red;'>C</span><span style='color:red;'>C</span>HHHHHHHHHHHH<span style='color:red;'>C</span><span style='color:red;'>E</span><span style='color:red;'>E</span>HHHHHHHH<span style='color:red;'>H</span>HHH<span style='color:red;'>C</span>HHHHHHHHHHHHHHHHHHHHHHHHHCCCCCCC"
            ]
          },
          "metadata": {}
        },
        {
          "output_type": "display_data",
          "data": {
            "text/plain": [
              "<IPython.core.display.HTML object>"
            ],
            "text/html": [
              "<hr>"
            ]
          },
          "metadata": {}
        }
      ]
    },
    {
      "cell_type": "code",
      "source": [],
      "metadata": {
        "id": "8iakgsI7ImUW"
      },
      "execution_count": null,
      "outputs": []
    }
  ],
  "metadata": {
    "colab": {
      "collapsed_sections": [
        "CQ6NADE8R7K7",
        "Jp9oxGlZRyW7",
        "TzogyxgMXeWC"
      ],
      "provenance": [],
      "gpuType": "T4",
      "toc_visible": true
    },
    "kernelspec": {
      "display_name": "Python 3",
      "name": "python3"
    },
    "language_info": {
      "name": "python"
    },
    "accelerator": "GPU"
  },
  "nbformat": 4,
  "nbformat_minor": 0
}